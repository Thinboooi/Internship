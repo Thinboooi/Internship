{
  "nbformat": 4,
  "nbformat_minor": 0,
  "metadata": {
    "colab": {
      "provenance": []
    },
    "kernelspec": {
      "name": "python3",
      "display_name": "Python 3"
    },
    "language_info": {
      "name": "python"
    }
  },
  "cells": [
    {
      "cell_type": "markdown",
      "source": [
        "### **Movie recommendation System**\n",
        "\n",
        "**Recommender System** is a system that seeks to predict or filter preferences according to the user's choices. Recommender systems are utilized in a variety of areas including movies, music, news, books, research articles, search queries, social tags, and products in general.\n",
        "Recommender systems produce a list of recommendations in any of the two ways -\n",
        "\n",
        "**Collaborative filtering:** Collaborative filtering approaches build a model from the user's past behavior (i.e. items purchased or searched by the user) as well as similar decisions made by other users. This model is then used to predict items (or ratings for items) that users may have an interest in.\n",
        "\n",
        "**Content-based filtering:** Content-based filtering approaches uses a series of discrete characteristics of an item in order to recommend additional items with similar properties. Content-based filtering methods are totally based on a description of the item and a profile of the user's preferences. It recommends items based on the user's past preferences. Let's develop a basic recommendation system using Python and Pandas.\n",
        "\n",
        "Let's develop a basic recommendation system by suggesting items that are most similar to a particular item, in this case, movies. It just tells what movies/items are most similar to the user's movie choice."
      ],
      "metadata": {
        "id": "lK4T8qjWHf7d"
      }
    },
    {
      "cell_type": "markdown",
      "source": [
        "**Data Source:** https://github.com/YBI-Foundation/Dataset/raw/main/Movies%20Recommendation.csv"
      ],
      "metadata": {
        "id": "XJ5sOab1HhZs"
      }
    },
    {
      "cell_type": "markdown",
      "source": [
        "### **Import Library**"
      ],
      "metadata": {
        "id": "tgzqHlnEHhct"
      }
    },
    {
      "cell_type": "code",
      "execution_count": 1,
      "metadata": {
        "id": "bxpEWKpb2KqR"
      },
      "outputs": [],
      "source": [
        "import pandas as pd"
      ]
    },
    {
      "cell_type": "code",
      "source": [
        "import numpy as np"
      ],
      "metadata": {
        "id": "71XyVw_U2Zfq"
      },
      "execution_count": 2,
      "outputs": []
    },
    {
      "cell_type": "markdown",
      "source": [
        "### **Import Dataset**"
      ],
      "metadata": {
        "id": "26EkskF0Hhf2"
      }
    },
    {
      "cell_type": "code",
      "source": [
        "df = pd.read_csv('https://github.com/YBI-Foundation/Dataset/raw/main/Movies%20Recommendation.csv')"
      ],
      "metadata": {
        "id": "uI47chNl2Zi7"
      },
      "execution_count": 3,
      "outputs": []
    },
    {
      "cell_type": "code",
      "source": [
        "df.head()"
      ],
      "metadata": {
        "colab": {
          "base_uri": "https://localhost:8080/",
          "height": 637
        },
        "id": "7Bj9-2TmFc3G",
        "outputId": "35029674-6bfb-455d-e22f-f560400d2c4b"
      },
      "execution_count": 4,
      "outputs": [
        {
          "output_type": "execute_result",
          "data": {
            "text/plain": [
              "   Movie_ID      Movie_Title                       Movie_Genre Movie_Language  \\\n",
              "0         1       Four Rooms                      Crime Comedy             en   \n",
              "1         2        Star Wars  Adventure Action Science Fiction             en   \n",
              "2         3     Finding Nemo                  Animation Family             en   \n",
              "3         4     Forrest Gump              Comedy Drama Romance             en   \n",
              "4         5  American Beauty                             Drama             en   \n",
              "\n",
              "   Movie_Budget  Movie_Popularity Movie_Release_Date  Movie_Revenue  \\\n",
              "0       4000000         22.876230         09-12-1995        4300000   \n",
              "1      11000000        126.393695         25-05-1977      775398007   \n",
              "2      94000000         85.688789         30-05-2003      940335536   \n",
              "3      55000000        138.133331         06-07-1994      677945399   \n",
              "4      15000000         80.878605         15-09-1999      356296601   \n",
              "\n",
              "   Movie_Runtime  Movie_Vote  ...  \\\n",
              "0           98.0         6.5  ...   \n",
              "1          121.0         8.1  ...   \n",
              "2          100.0         7.6  ...   \n",
              "3          142.0         8.2  ...   \n",
              "4          122.0         7.9  ...   \n",
              "\n",
              "                                      Movie_Homepage  \\\n",
              "0                                                NaN   \n",
              "1  http://www.starwars.com/films/star-wars-episod...   \n",
              "2              http://movies.disney.com/finding-nemo   \n",
              "3                                                NaN   \n",
              "4                      http://www.dreamworks.com/ab/   \n",
              "\n",
              "                                      Movie_Keywords  \\\n",
              "0          hotel new year's eve witch bet hotel room   \n",
              "1        android galaxy hermit death star lightsaber   \n",
              "2  father son relationship harbor underwater fish...   \n",
              "3  vietnam veteran hippie mentally disabled runni...   \n",
              "4  male nudity female nudity adultery midlife cri...   \n",
              "\n",
              "                                      Movie_Overview  \\\n",
              "0  It's Ted the Bellhop's first night on the job....   \n",
              "1  Princess Leia is captured and held hostage by ...   \n",
              "2  Nemo, an adventurous young clownfish, is unexp...   \n",
              "3  A man with a low IQ has accomplished great thi...   \n",
              "4  Lester Burnham, a depressed suburban father in...   \n",
              "\n",
              "                              Movie_Production_House  \\\n",
              "0  [{\"name\": \"Miramax Films\", \"id\": 14}, {\"name\":...   \n",
              "1  [{\"name\": \"Lucasfilm\", \"id\": 1}, {\"name\": \"Twe...   \n",
              "2     [{\"name\": \"Pixar Animation Studios\", \"id\": 3}]   \n",
              "3          [{\"name\": \"Paramount Pictures\", \"id\": 4}]   \n",
              "4  [{\"name\": \"DreamWorks SKG\", \"id\": 27}, {\"name\"...   \n",
              "\n",
              "                            Movie_Production_Country  \\\n",
              "0  [{\"iso_3166_1\": \"US\", \"name\": \"United States o...   \n",
              "1  [{\"iso_3166_1\": \"US\", \"name\": \"United States o...   \n",
              "2  [{\"iso_3166_1\": \"US\", \"name\": \"United States o...   \n",
              "3  [{\"iso_3166_1\": \"US\", \"name\": \"United States o...   \n",
              "4  [{\"iso_3166_1\": \"US\", \"name\": \"United States o...   \n",
              "\n",
              "                      Movie_Spoken_Language  \\\n",
              "0  [{\"iso_639_1\": \"en\", \"name\": \"English\"}]   \n",
              "1  [{\"iso_639_1\": \"en\", \"name\": \"English\"}]   \n",
              "2  [{\"iso_639_1\": \"en\", \"name\": \"English\"}]   \n",
              "3  [{\"iso_639_1\": \"en\", \"name\": \"English\"}]   \n",
              "4  [{\"iso_639_1\": \"en\", \"name\": \"English\"}]   \n",
              "\n",
              "                                       Movie_Tagline  \\\n",
              "0  Twelve outrageous guests. Four scandalous requ...   \n",
              "1       A long time ago in a galaxy far, far away...   \n",
              "2  There are 3.7 trillion fish in the ocean, they...   \n",
              "3  The world will never be the same, once you've ...   \n",
              "4                                       Look closer.   \n",
              "\n",
              "                                          Movie_Cast  \\\n",
              "0  Tim Roth Antonio Banderas Jennifer Beals Madon...   \n",
              "1  Mark Hamill Harrison Ford Carrie Fisher Peter ...   \n",
              "2  Albert Brooks Ellen DeGeneres Alexander Gould ...   \n",
              "3  Tom Hanks Robin Wright Gary Sinise Mykelti Wil...   \n",
              "4  Kevin Spacey Annette Bening Thora Birch Wes Be...   \n",
              "\n",
              "                                          Movie_Crew   Movie_Director  \n",
              "0  [{'name': 'Allison Anders', 'gender': 1, 'depa...   Allison Anders  \n",
              "1  [{'name': 'George Lucas', 'gender': 2, 'depart...     George Lucas  \n",
              "2  [{'name': 'Andrew Stanton', 'gender': 2, 'depa...   Andrew Stanton  \n",
              "3  [{'name': 'Alan Silvestri', 'gender': 2, 'depa...  Robert Zemeckis  \n",
              "4  [{'name': 'Thomas Newman', 'gender': 2, 'depar...       Sam Mendes  \n",
              "\n",
              "[5 rows x 21 columns]"
            ],
            "text/html": [
              "\n",
              "  <div id=\"df-e815f933-4db4-4c3a-9177-3ceb1c753f4b\" class=\"colab-df-container\">\n",
              "    <div>\n",
              "<style scoped>\n",
              "    .dataframe tbody tr th:only-of-type {\n",
              "        vertical-align: middle;\n",
              "    }\n",
              "\n",
              "    .dataframe tbody tr th {\n",
              "        vertical-align: top;\n",
              "    }\n",
              "\n",
              "    .dataframe thead th {\n",
              "        text-align: right;\n",
              "    }\n",
              "</style>\n",
              "<table border=\"1\" class=\"dataframe\">\n",
              "  <thead>\n",
              "    <tr style=\"text-align: right;\">\n",
              "      <th></th>\n",
              "      <th>Movie_ID</th>\n",
              "      <th>Movie_Title</th>\n",
              "      <th>Movie_Genre</th>\n",
              "      <th>Movie_Language</th>\n",
              "      <th>Movie_Budget</th>\n",
              "      <th>Movie_Popularity</th>\n",
              "      <th>Movie_Release_Date</th>\n",
              "      <th>Movie_Revenue</th>\n",
              "      <th>Movie_Runtime</th>\n",
              "      <th>Movie_Vote</th>\n",
              "      <th>...</th>\n",
              "      <th>Movie_Homepage</th>\n",
              "      <th>Movie_Keywords</th>\n",
              "      <th>Movie_Overview</th>\n",
              "      <th>Movie_Production_House</th>\n",
              "      <th>Movie_Production_Country</th>\n",
              "      <th>Movie_Spoken_Language</th>\n",
              "      <th>Movie_Tagline</th>\n",
              "      <th>Movie_Cast</th>\n",
              "      <th>Movie_Crew</th>\n",
              "      <th>Movie_Director</th>\n",
              "    </tr>\n",
              "  </thead>\n",
              "  <tbody>\n",
              "    <tr>\n",
              "      <th>0</th>\n",
              "      <td>1</td>\n",
              "      <td>Four Rooms</td>\n",
              "      <td>Crime Comedy</td>\n",
              "      <td>en</td>\n",
              "      <td>4000000</td>\n",
              "      <td>22.876230</td>\n",
              "      <td>09-12-1995</td>\n",
              "      <td>4300000</td>\n",
              "      <td>98.0</td>\n",
              "      <td>6.5</td>\n",
              "      <td>...</td>\n",
              "      <td>NaN</td>\n",
              "      <td>hotel new year's eve witch bet hotel room</td>\n",
              "      <td>It's Ted the Bellhop's first night on the job....</td>\n",
              "      <td>[{\"name\": \"Miramax Films\", \"id\": 14}, {\"name\":...</td>\n",
              "      <td>[{\"iso_3166_1\": \"US\", \"name\": \"United States o...</td>\n",
              "      <td>[{\"iso_639_1\": \"en\", \"name\": \"English\"}]</td>\n",
              "      <td>Twelve outrageous guests. Four scandalous requ...</td>\n",
              "      <td>Tim Roth Antonio Banderas Jennifer Beals Madon...</td>\n",
              "      <td>[{'name': 'Allison Anders', 'gender': 1, 'depa...</td>\n",
              "      <td>Allison Anders</td>\n",
              "    </tr>\n",
              "    <tr>\n",
              "      <th>1</th>\n",
              "      <td>2</td>\n",
              "      <td>Star Wars</td>\n",
              "      <td>Adventure Action Science Fiction</td>\n",
              "      <td>en</td>\n",
              "      <td>11000000</td>\n",
              "      <td>126.393695</td>\n",
              "      <td>25-05-1977</td>\n",
              "      <td>775398007</td>\n",
              "      <td>121.0</td>\n",
              "      <td>8.1</td>\n",
              "      <td>...</td>\n",
              "      <td>http://www.starwars.com/films/star-wars-episod...</td>\n",
              "      <td>android galaxy hermit death star lightsaber</td>\n",
              "      <td>Princess Leia is captured and held hostage by ...</td>\n",
              "      <td>[{\"name\": \"Lucasfilm\", \"id\": 1}, {\"name\": \"Twe...</td>\n",
              "      <td>[{\"iso_3166_1\": \"US\", \"name\": \"United States o...</td>\n",
              "      <td>[{\"iso_639_1\": \"en\", \"name\": \"English\"}]</td>\n",
              "      <td>A long time ago in a galaxy far, far away...</td>\n",
              "      <td>Mark Hamill Harrison Ford Carrie Fisher Peter ...</td>\n",
              "      <td>[{'name': 'George Lucas', 'gender': 2, 'depart...</td>\n",
              "      <td>George Lucas</td>\n",
              "    </tr>\n",
              "    <tr>\n",
              "      <th>2</th>\n",
              "      <td>3</td>\n",
              "      <td>Finding Nemo</td>\n",
              "      <td>Animation Family</td>\n",
              "      <td>en</td>\n",
              "      <td>94000000</td>\n",
              "      <td>85.688789</td>\n",
              "      <td>30-05-2003</td>\n",
              "      <td>940335536</td>\n",
              "      <td>100.0</td>\n",
              "      <td>7.6</td>\n",
              "      <td>...</td>\n",
              "      <td>http://movies.disney.com/finding-nemo</td>\n",
              "      <td>father son relationship harbor underwater fish...</td>\n",
              "      <td>Nemo, an adventurous young clownfish, is unexp...</td>\n",
              "      <td>[{\"name\": \"Pixar Animation Studios\", \"id\": 3}]</td>\n",
              "      <td>[{\"iso_3166_1\": \"US\", \"name\": \"United States o...</td>\n",
              "      <td>[{\"iso_639_1\": \"en\", \"name\": \"English\"}]</td>\n",
              "      <td>There are 3.7 trillion fish in the ocean, they...</td>\n",
              "      <td>Albert Brooks Ellen DeGeneres Alexander Gould ...</td>\n",
              "      <td>[{'name': 'Andrew Stanton', 'gender': 2, 'depa...</td>\n",
              "      <td>Andrew Stanton</td>\n",
              "    </tr>\n",
              "    <tr>\n",
              "      <th>3</th>\n",
              "      <td>4</td>\n",
              "      <td>Forrest Gump</td>\n",
              "      <td>Comedy Drama Romance</td>\n",
              "      <td>en</td>\n",
              "      <td>55000000</td>\n",
              "      <td>138.133331</td>\n",
              "      <td>06-07-1994</td>\n",
              "      <td>677945399</td>\n",
              "      <td>142.0</td>\n",
              "      <td>8.2</td>\n",
              "      <td>...</td>\n",
              "      <td>NaN</td>\n",
              "      <td>vietnam veteran hippie mentally disabled runni...</td>\n",
              "      <td>A man with a low IQ has accomplished great thi...</td>\n",
              "      <td>[{\"name\": \"Paramount Pictures\", \"id\": 4}]</td>\n",
              "      <td>[{\"iso_3166_1\": \"US\", \"name\": \"United States o...</td>\n",
              "      <td>[{\"iso_639_1\": \"en\", \"name\": \"English\"}]</td>\n",
              "      <td>The world will never be the same, once you've ...</td>\n",
              "      <td>Tom Hanks Robin Wright Gary Sinise Mykelti Wil...</td>\n",
              "      <td>[{'name': 'Alan Silvestri', 'gender': 2, 'depa...</td>\n",
              "      <td>Robert Zemeckis</td>\n",
              "    </tr>\n",
              "    <tr>\n",
              "      <th>4</th>\n",
              "      <td>5</td>\n",
              "      <td>American Beauty</td>\n",
              "      <td>Drama</td>\n",
              "      <td>en</td>\n",
              "      <td>15000000</td>\n",
              "      <td>80.878605</td>\n",
              "      <td>15-09-1999</td>\n",
              "      <td>356296601</td>\n",
              "      <td>122.0</td>\n",
              "      <td>7.9</td>\n",
              "      <td>...</td>\n",
              "      <td>http://www.dreamworks.com/ab/</td>\n",
              "      <td>male nudity female nudity adultery midlife cri...</td>\n",
              "      <td>Lester Burnham, a depressed suburban father in...</td>\n",
              "      <td>[{\"name\": \"DreamWorks SKG\", \"id\": 27}, {\"name\"...</td>\n",
              "      <td>[{\"iso_3166_1\": \"US\", \"name\": \"United States o...</td>\n",
              "      <td>[{\"iso_639_1\": \"en\", \"name\": \"English\"}]</td>\n",
              "      <td>Look closer.</td>\n",
              "      <td>Kevin Spacey Annette Bening Thora Birch Wes Be...</td>\n",
              "      <td>[{'name': 'Thomas Newman', 'gender': 2, 'depar...</td>\n",
              "      <td>Sam Mendes</td>\n",
              "    </tr>\n",
              "  </tbody>\n",
              "</table>\n",
              "<p>5 rows × 21 columns</p>\n",
              "</div>\n",
              "    <div class=\"colab-df-buttons\">\n",
              "\n",
              "  <div class=\"colab-df-container\">\n",
              "    <button class=\"colab-df-convert\" onclick=\"convertToInteractive('df-e815f933-4db4-4c3a-9177-3ceb1c753f4b')\"\n",
              "            title=\"Convert this dataframe to an interactive table.\"\n",
              "            style=\"display:none;\">\n",
              "\n",
              "  <svg xmlns=\"http://www.w3.org/2000/svg\" height=\"24px\" viewBox=\"0 -960 960 960\">\n",
              "    <path d=\"M120-120v-720h720v720H120Zm60-500h600v-160H180v160Zm220 220h160v-160H400v160Zm0 220h160v-160H400v160ZM180-400h160v-160H180v160Zm440 0h160v-160H620v160ZM180-180h160v-160H180v160Zm440 0h160v-160H620v160Z\"/>\n",
              "  </svg>\n",
              "    </button>\n",
              "\n",
              "  <style>\n",
              "    .colab-df-container {\n",
              "      display:flex;\n",
              "      gap: 12px;\n",
              "    }\n",
              "\n",
              "    .colab-df-convert {\n",
              "      background-color: #E8F0FE;\n",
              "      border: none;\n",
              "      border-radius: 50%;\n",
              "      cursor: pointer;\n",
              "      display: none;\n",
              "      fill: #1967D2;\n",
              "      height: 32px;\n",
              "      padding: 0 0 0 0;\n",
              "      width: 32px;\n",
              "    }\n",
              "\n",
              "    .colab-df-convert:hover {\n",
              "      background-color: #E2EBFA;\n",
              "      box-shadow: 0px 1px 2px rgba(60, 64, 67, 0.3), 0px 1px 3px 1px rgba(60, 64, 67, 0.15);\n",
              "      fill: #174EA6;\n",
              "    }\n",
              "\n",
              "    .colab-df-buttons div {\n",
              "      margin-bottom: 4px;\n",
              "    }\n",
              "\n",
              "    [theme=dark] .colab-df-convert {\n",
              "      background-color: #3B4455;\n",
              "      fill: #D2E3FC;\n",
              "    }\n",
              "\n",
              "    [theme=dark] .colab-df-convert:hover {\n",
              "      background-color: #434B5C;\n",
              "      box-shadow: 0px 1px 3px 1px rgba(0, 0, 0, 0.15);\n",
              "      filter: drop-shadow(0px 1px 2px rgba(0, 0, 0, 0.3));\n",
              "      fill: #FFFFFF;\n",
              "    }\n",
              "  </style>\n",
              "\n",
              "    <script>\n",
              "      const buttonEl =\n",
              "        document.querySelector('#df-e815f933-4db4-4c3a-9177-3ceb1c753f4b button.colab-df-convert');\n",
              "      buttonEl.style.display =\n",
              "        google.colab.kernel.accessAllowed ? 'block' : 'none';\n",
              "\n",
              "      async function convertToInteractive(key) {\n",
              "        const element = document.querySelector('#df-e815f933-4db4-4c3a-9177-3ceb1c753f4b');\n",
              "        const dataTable =\n",
              "          await google.colab.kernel.invokeFunction('convertToInteractive',\n",
              "                                                    [key], {});\n",
              "        if (!dataTable) return;\n",
              "\n",
              "        const docLinkHtml = 'Like what you see? Visit the ' +\n",
              "          '<a target=\"_blank\" href=https://colab.research.google.com/notebooks/data_table.ipynb>data table notebook</a>'\n",
              "          + ' to learn more about interactive tables.';\n",
              "        element.innerHTML = '';\n",
              "        dataTable['output_type'] = 'display_data';\n",
              "        await google.colab.output.renderOutput(dataTable, element);\n",
              "        const docLink = document.createElement('div');\n",
              "        docLink.innerHTML = docLinkHtml;\n",
              "        element.appendChild(docLink);\n",
              "      }\n",
              "    </script>\n",
              "  </div>\n",
              "\n",
              "\n",
              "<div id=\"df-927de171-fa49-49b3-865c-ef3fc75a4ea2\">\n",
              "  <button class=\"colab-df-quickchart\" onclick=\"quickchart('df-927de171-fa49-49b3-865c-ef3fc75a4ea2')\"\n",
              "            title=\"Suggest charts\"\n",
              "            style=\"display:none;\">\n",
              "\n",
              "<svg xmlns=\"http://www.w3.org/2000/svg\" height=\"24px\"viewBox=\"0 0 24 24\"\n",
              "     width=\"24px\">\n",
              "    <g>\n",
              "        <path d=\"M19 3H5c-1.1 0-2 .9-2 2v14c0 1.1.9 2 2 2h14c1.1 0 2-.9 2-2V5c0-1.1-.9-2-2-2zM9 17H7v-7h2v7zm4 0h-2V7h2v10zm4 0h-2v-4h2v4z\"/>\n",
              "    </g>\n",
              "</svg>\n",
              "  </button>\n",
              "\n",
              "<style>\n",
              "  .colab-df-quickchart {\n",
              "      --bg-color: #E8F0FE;\n",
              "      --fill-color: #1967D2;\n",
              "      --hover-bg-color: #E2EBFA;\n",
              "      --hover-fill-color: #174EA6;\n",
              "      --disabled-fill-color: #AAA;\n",
              "      --disabled-bg-color: #DDD;\n",
              "  }\n",
              "\n",
              "  [theme=dark] .colab-df-quickchart {\n",
              "      --bg-color: #3B4455;\n",
              "      --fill-color: #D2E3FC;\n",
              "      --hover-bg-color: #434B5C;\n",
              "      --hover-fill-color: #FFFFFF;\n",
              "      --disabled-bg-color: #3B4455;\n",
              "      --disabled-fill-color: #666;\n",
              "  }\n",
              "\n",
              "  .colab-df-quickchart {\n",
              "    background-color: var(--bg-color);\n",
              "    border: none;\n",
              "    border-radius: 50%;\n",
              "    cursor: pointer;\n",
              "    display: none;\n",
              "    fill: var(--fill-color);\n",
              "    height: 32px;\n",
              "    padding: 0;\n",
              "    width: 32px;\n",
              "  }\n",
              "\n",
              "  .colab-df-quickchart:hover {\n",
              "    background-color: var(--hover-bg-color);\n",
              "    box-shadow: 0 1px 2px rgba(60, 64, 67, 0.3), 0 1px 3px 1px rgba(60, 64, 67, 0.15);\n",
              "    fill: var(--button-hover-fill-color);\n",
              "  }\n",
              "\n",
              "  .colab-df-quickchart-complete:disabled,\n",
              "  .colab-df-quickchart-complete:disabled:hover {\n",
              "    background-color: var(--disabled-bg-color);\n",
              "    fill: var(--disabled-fill-color);\n",
              "    box-shadow: none;\n",
              "  }\n",
              "\n",
              "  .colab-df-spinner {\n",
              "    border: 2px solid var(--fill-color);\n",
              "    border-color: transparent;\n",
              "    border-bottom-color: var(--fill-color);\n",
              "    animation:\n",
              "      spin 1s steps(1) infinite;\n",
              "  }\n",
              "\n",
              "  @keyframes spin {\n",
              "    0% {\n",
              "      border-color: transparent;\n",
              "      border-bottom-color: var(--fill-color);\n",
              "      border-left-color: var(--fill-color);\n",
              "    }\n",
              "    20% {\n",
              "      border-color: transparent;\n",
              "      border-left-color: var(--fill-color);\n",
              "      border-top-color: var(--fill-color);\n",
              "    }\n",
              "    30% {\n",
              "      border-color: transparent;\n",
              "      border-left-color: var(--fill-color);\n",
              "      border-top-color: var(--fill-color);\n",
              "      border-right-color: var(--fill-color);\n",
              "    }\n",
              "    40% {\n",
              "      border-color: transparent;\n",
              "      border-right-color: var(--fill-color);\n",
              "      border-top-color: var(--fill-color);\n",
              "    }\n",
              "    60% {\n",
              "      border-color: transparent;\n",
              "      border-right-color: var(--fill-color);\n",
              "    }\n",
              "    80% {\n",
              "      border-color: transparent;\n",
              "      border-right-color: var(--fill-color);\n",
              "      border-bottom-color: var(--fill-color);\n",
              "    }\n",
              "    90% {\n",
              "      border-color: transparent;\n",
              "      border-bottom-color: var(--fill-color);\n",
              "    }\n",
              "  }\n",
              "</style>\n",
              "\n",
              "  <script>\n",
              "    async function quickchart(key) {\n",
              "      const quickchartButtonEl =\n",
              "        document.querySelector('#' + key + ' button');\n",
              "      quickchartButtonEl.disabled = true;  // To prevent multiple clicks.\n",
              "      quickchartButtonEl.classList.add('colab-df-spinner');\n",
              "      try {\n",
              "        const charts = await google.colab.kernel.invokeFunction(\n",
              "            'suggestCharts', [key], {});\n",
              "      } catch (error) {\n",
              "        console.error('Error during call to suggestCharts:', error);\n",
              "      }\n",
              "      quickchartButtonEl.classList.remove('colab-df-spinner');\n",
              "      quickchartButtonEl.classList.add('colab-df-quickchart-complete');\n",
              "    }\n",
              "    (() => {\n",
              "      let quickchartButtonEl =\n",
              "        document.querySelector('#df-927de171-fa49-49b3-865c-ef3fc75a4ea2 button');\n",
              "      quickchartButtonEl.style.display =\n",
              "        google.colab.kernel.accessAllowed ? 'block' : 'none';\n",
              "    })();\n",
              "  </script>\n",
              "</div>\n",
              "\n",
              "    </div>\n",
              "  </div>\n"
            ],
            "application/vnd.google.colaboratory.intrinsic+json": {
              "type": "dataframe",
              "variable_name": "df"
            }
          },
          "metadata": {},
          "execution_count": 4
        }
      ]
    },
    {
      "cell_type": "code",
      "source": [
        "df.info()"
      ],
      "metadata": {
        "colab": {
          "base_uri": "https://localhost:8080/"
        },
        "id": "ayR1AKv-Fg_e",
        "outputId": "82c494cf-40dc-4a8c-92a9-9ff0251c3bef"
      },
      "execution_count": 5,
      "outputs": [
        {
          "output_type": "stream",
          "name": "stdout",
          "text": [
            "<class 'pandas.core.frame.DataFrame'>\n",
            "RangeIndex: 4760 entries, 0 to 4759\n",
            "Data columns (total 21 columns):\n",
            " #   Column                    Non-Null Count  Dtype  \n",
            "---  ------                    --------------  -----  \n",
            " 0   Movie_ID                  4760 non-null   int64  \n",
            " 1   Movie_Title               4760 non-null   object \n",
            " 2   Movie_Genre               4760 non-null   object \n",
            " 3   Movie_Language            4760 non-null   object \n",
            " 4   Movie_Budget              4760 non-null   int64  \n",
            " 5   Movie_Popularity          4760 non-null   float64\n",
            " 6   Movie_Release_Date        4760 non-null   object \n",
            " 7   Movie_Revenue             4760 non-null   int64  \n",
            " 8   Movie_Runtime             4758 non-null   float64\n",
            " 9   Movie_Vote                4760 non-null   float64\n",
            " 10  Movie_Vote_Count          4760 non-null   int64  \n",
            " 11  Movie_Homepage            1699 non-null   object \n",
            " 12  Movie_Keywords            4373 non-null   object \n",
            " 13  Movie_Overview            4757 non-null   object \n",
            " 14  Movie_Production_House    4760 non-null   object \n",
            " 15  Movie_Production_Country  4760 non-null   object \n",
            " 16  Movie_Spoken_Language     4760 non-null   object \n",
            " 17  Movie_Tagline             3942 non-null   object \n",
            " 18  Movie_Cast                4733 non-null   object \n",
            " 19  Movie_Crew                4760 non-null   object \n",
            " 20  Movie_Director            4738 non-null   object \n",
            "dtypes: float64(3), int64(4), object(14)\n",
            "memory usage: 781.1+ KB\n"
          ]
        }
      ]
    },
    {
      "cell_type": "code",
      "source": [
        "df.shape"
      ],
      "metadata": {
        "colab": {
          "base_uri": "https://localhost:8080/"
        },
        "id": "NGsv3xykGAMn",
        "outputId": "819f3c2a-8309-4b0a-a5eb-1978114482a0"
      },
      "execution_count": 8,
      "outputs": [
        {
          "output_type": "execute_result",
          "data": {
            "text/plain": [
              "(4760, 21)"
            ]
          },
          "metadata": {},
          "execution_count": 8
        }
      ]
    },
    {
      "cell_type": "code",
      "source": [
        "df.columns"
      ],
      "metadata": {
        "colab": {
          "base_uri": "https://localhost:8080/"
        },
        "id": "dEdypSRuGAJA",
        "outputId": "fcd1366e-462d-46cb-a107-f9a25228cab7"
      },
      "execution_count": 9,
      "outputs": [
        {
          "output_type": "execute_result",
          "data": {
            "text/plain": [
              "Index(['Movie_ID', 'Movie_Title', 'Movie_Genre', 'Movie_Language',\n",
              "       'Movie_Budget', 'Movie_Popularity', 'Movie_Release_Date',\n",
              "       'Movie_Revenue', 'Movie_Runtime', 'Movie_Vote', 'Movie_Vote_Count',\n",
              "       'Movie_Homepage', 'Movie_Keywords', 'Movie_Overview',\n",
              "       'Movie_Production_House', 'Movie_Production_Country',\n",
              "       'Movie_Spoken_Language', 'Movie_Tagline', 'Movie_Cast', 'Movie_Crew',\n",
              "       'Movie_Director'],\n",
              "      dtype='object')"
            ]
          },
          "metadata": {},
          "execution_count": 9
        }
      ]
    },
    {
      "cell_type": "markdown",
      "source": [
        "### **Get Feature Selection**"
      ],
      "metadata": {
        "id": "CZEiUiWUHhit"
      }
    },
    {
      "cell_type": "code",
      "source": [
        "df_features = df[['Movie_Keywords','Movie_Cast','Movie_Tagline','Movie_Overview','Movie_Production_House']].fillna('')"
      ],
      "metadata": {
        "id": "8HVpAo1tGTPL"
      },
      "execution_count": 12,
      "outputs": []
    },
    {
      "cell_type": "code",
      "source": [
        "df_features.shape"
      ],
      "metadata": {
        "colab": {
          "base_uri": "https://localhost:8080/"
        },
        "id": "6XaiSUJhG_Cm",
        "outputId": "4b94ba19-c469-4a0b-ae8d-4454f90e2464"
      },
      "execution_count": 14,
      "outputs": [
        {
          "output_type": "execute_result",
          "data": {
            "text/plain": [
              "(4760, 5)"
            ]
          },
          "metadata": {},
          "execution_count": 14
        }
      ]
    },
    {
      "cell_type": "code",
      "source": [
        "df_features"
      ],
      "metadata": {
        "colab": {
          "base_uri": "https://localhost:8080/",
          "height": 962
        },
        "id": "DDFMdiScHF-A",
        "outputId": "185cb40e-3bd8-427f-d896-150348658ad6"
      },
      "execution_count": 15,
      "outputs": [
        {
          "output_type": "execute_result",
          "data": {
            "text/plain": [
              "                                         Movie_Keywords  \\\n",
              "0             hotel new year's eve witch bet hotel room   \n",
              "1           android galaxy hermit death star lightsaber   \n",
              "2     father son relationship harbor underwater fish...   \n",
              "3     vietnam veteran hippie mentally disabled runni...   \n",
              "4     male nudity female nudity adultery midlife cri...   \n",
              "...                                                 ...   \n",
              "4755                                                      \n",
              "4756                                                      \n",
              "4757                     christian film sex trafficking   \n",
              "4758                                                      \n",
              "4759  music actors legendary perfomer classic hollyw...   \n",
              "\n",
              "                                             Movie_Cast  \\\n",
              "0     Tim Roth Antonio Banderas Jennifer Beals Madon...   \n",
              "1     Mark Hamill Harrison Ford Carrie Fisher Peter ...   \n",
              "2     Albert Brooks Ellen DeGeneres Alexander Gould ...   \n",
              "3     Tom Hanks Robin Wright Gary Sinise Mykelti Wil...   \n",
              "4     Kevin Spacey Annette Bening Thora Birch Wes Be...   \n",
              "...                                                 ...   \n",
              "4755  Lisa Hart Carroll Michael Des Barres Paul Drak...   \n",
              "4756  Roni Akurati Brighton Sharbino Jason Lee Anjul...   \n",
              "4757  Nicole Smolen Kim Baldwin Ariana Stephens Brys...   \n",
              "4758                                                      \n",
              "4759                                    Tony Oppedisano   \n",
              "\n",
              "                                          Movie_Tagline  \\\n",
              "0     Twelve outrageous guests. Four scandalous requ...   \n",
              "1          A long time ago in a galaxy far, far away...   \n",
              "2     There are 3.7 trillion fish in the ocean, they...   \n",
              "3     The world will never be the same, once you've ...   \n",
              "4                                          Look closer.   \n",
              "...                                                 ...   \n",
              "4755                The hot spot where Satan's waitin'.   \n",
              "4756           It’s better to stand out than to fit in.   \n",
              "4757           She never knew it could happen to her...   \n",
              "4758                                                      \n",
              "4759                                                      \n",
              "\n",
              "                                         Movie_Overview  \\\n",
              "0     It's Ted the Bellhop's first night on the job....   \n",
              "1     Princess Leia is captured and held hostage by ...   \n",
              "2     Nemo, an adventurous young clownfish, is unexp...   \n",
              "3     A man with a low IQ has accomplished great thi...   \n",
              "4     Lester Burnham, a depressed suburban father in...   \n",
              "...                                                 ...   \n",
              "4755  A Broadway producer puts on a play with a Devi...   \n",
              "4756  In 1979, an Indian family moves to America wit...   \n",
              "4757  After sneaking to a party with her friends, 16...   \n",
              "4758  After being estranged since her mother's death...   \n",
              "4759                                                      \n",
              "\n",
              "                                 Movie_Production_House  \n",
              "0     [{\"name\": \"Miramax Films\", \"id\": 14}, {\"name\":...  \n",
              "1     [{\"name\": \"Lucasfilm\", \"id\": 1}, {\"name\": \"Twe...  \n",
              "2        [{\"name\": \"Pixar Animation Studios\", \"id\": 3}]  \n",
              "3             [{\"name\": \"Paramount Pictures\", \"id\": 4}]  \n",
              "4     [{\"name\": \"DreamWorks SKG\", \"id\": 27}, {\"name\"...  \n",
              "...                                                 ...  \n",
              "4755                                                 []  \n",
              "4756                                                 []  \n",
              "4757     [{\"name\": \"After Eden Pictures\", \"id\": 85248}]  \n",
              "4758    [{\"name\": \"New Kingdom Pictures\", \"id\": 41671}]  \n",
              "4759   [{\"name\": \"Eyeline Entertainment\", \"id\": 60343}]  \n",
              "\n",
              "[4760 rows x 5 columns]"
            ],
            "text/html": [
              "\n",
              "  <div id=\"df-a4501f5e-a136-40a3-ac17-67e9d99d6404\" class=\"colab-df-container\">\n",
              "    <div>\n",
              "<style scoped>\n",
              "    .dataframe tbody tr th:only-of-type {\n",
              "        vertical-align: middle;\n",
              "    }\n",
              "\n",
              "    .dataframe tbody tr th {\n",
              "        vertical-align: top;\n",
              "    }\n",
              "\n",
              "    .dataframe thead th {\n",
              "        text-align: right;\n",
              "    }\n",
              "</style>\n",
              "<table border=\"1\" class=\"dataframe\">\n",
              "  <thead>\n",
              "    <tr style=\"text-align: right;\">\n",
              "      <th></th>\n",
              "      <th>Movie_Keywords</th>\n",
              "      <th>Movie_Cast</th>\n",
              "      <th>Movie_Tagline</th>\n",
              "      <th>Movie_Overview</th>\n",
              "      <th>Movie_Production_House</th>\n",
              "    </tr>\n",
              "  </thead>\n",
              "  <tbody>\n",
              "    <tr>\n",
              "      <th>0</th>\n",
              "      <td>hotel new year's eve witch bet hotel room</td>\n",
              "      <td>Tim Roth Antonio Banderas Jennifer Beals Madon...</td>\n",
              "      <td>Twelve outrageous guests. Four scandalous requ...</td>\n",
              "      <td>It's Ted the Bellhop's first night on the job....</td>\n",
              "      <td>[{\"name\": \"Miramax Films\", \"id\": 14}, {\"name\":...</td>\n",
              "    </tr>\n",
              "    <tr>\n",
              "      <th>1</th>\n",
              "      <td>android galaxy hermit death star lightsaber</td>\n",
              "      <td>Mark Hamill Harrison Ford Carrie Fisher Peter ...</td>\n",
              "      <td>A long time ago in a galaxy far, far away...</td>\n",
              "      <td>Princess Leia is captured and held hostage by ...</td>\n",
              "      <td>[{\"name\": \"Lucasfilm\", \"id\": 1}, {\"name\": \"Twe...</td>\n",
              "    </tr>\n",
              "    <tr>\n",
              "      <th>2</th>\n",
              "      <td>father son relationship harbor underwater fish...</td>\n",
              "      <td>Albert Brooks Ellen DeGeneres Alexander Gould ...</td>\n",
              "      <td>There are 3.7 trillion fish in the ocean, they...</td>\n",
              "      <td>Nemo, an adventurous young clownfish, is unexp...</td>\n",
              "      <td>[{\"name\": \"Pixar Animation Studios\", \"id\": 3}]</td>\n",
              "    </tr>\n",
              "    <tr>\n",
              "      <th>3</th>\n",
              "      <td>vietnam veteran hippie mentally disabled runni...</td>\n",
              "      <td>Tom Hanks Robin Wright Gary Sinise Mykelti Wil...</td>\n",
              "      <td>The world will never be the same, once you've ...</td>\n",
              "      <td>A man with a low IQ has accomplished great thi...</td>\n",
              "      <td>[{\"name\": \"Paramount Pictures\", \"id\": 4}]</td>\n",
              "    </tr>\n",
              "    <tr>\n",
              "      <th>4</th>\n",
              "      <td>male nudity female nudity adultery midlife cri...</td>\n",
              "      <td>Kevin Spacey Annette Bening Thora Birch Wes Be...</td>\n",
              "      <td>Look closer.</td>\n",
              "      <td>Lester Burnham, a depressed suburban father in...</td>\n",
              "      <td>[{\"name\": \"DreamWorks SKG\", \"id\": 27}, {\"name\"...</td>\n",
              "    </tr>\n",
              "    <tr>\n",
              "      <th>...</th>\n",
              "      <td>...</td>\n",
              "      <td>...</td>\n",
              "      <td>...</td>\n",
              "      <td>...</td>\n",
              "      <td>...</td>\n",
              "    </tr>\n",
              "    <tr>\n",
              "      <th>4755</th>\n",
              "      <td></td>\n",
              "      <td>Lisa Hart Carroll Michael Des Barres Paul Drak...</td>\n",
              "      <td>The hot spot where Satan's waitin'.</td>\n",
              "      <td>A Broadway producer puts on a play with a Devi...</td>\n",
              "      <td>[]</td>\n",
              "    </tr>\n",
              "    <tr>\n",
              "      <th>4756</th>\n",
              "      <td></td>\n",
              "      <td>Roni Akurati Brighton Sharbino Jason Lee Anjul...</td>\n",
              "      <td>It’s better to stand out than to fit in.</td>\n",
              "      <td>In 1979, an Indian family moves to America wit...</td>\n",
              "      <td>[]</td>\n",
              "    </tr>\n",
              "    <tr>\n",
              "      <th>4757</th>\n",
              "      <td>christian film sex trafficking</td>\n",
              "      <td>Nicole Smolen Kim Baldwin Ariana Stephens Brys...</td>\n",
              "      <td>She never knew it could happen to her...</td>\n",
              "      <td>After sneaking to a party with her friends, 16...</td>\n",
              "      <td>[{\"name\": \"After Eden Pictures\", \"id\": 85248}]</td>\n",
              "    </tr>\n",
              "    <tr>\n",
              "      <th>4758</th>\n",
              "      <td></td>\n",
              "      <td></td>\n",
              "      <td></td>\n",
              "      <td>After being estranged since her mother's death...</td>\n",
              "      <td>[{\"name\": \"New Kingdom Pictures\", \"id\": 41671}]</td>\n",
              "    </tr>\n",
              "    <tr>\n",
              "      <th>4759</th>\n",
              "      <td>music actors legendary perfomer classic hollyw...</td>\n",
              "      <td>Tony Oppedisano</td>\n",
              "      <td></td>\n",
              "      <td></td>\n",
              "      <td>[{\"name\": \"Eyeline Entertainment\", \"id\": 60343}]</td>\n",
              "    </tr>\n",
              "  </tbody>\n",
              "</table>\n",
              "<p>4760 rows × 5 columns</p>\n",
              "</div>\n",
              "    <div class=\"colab-df-buttons\">\n",
              "\n",
              "  <div class=\"colab-df-container\">\n",
              "    <button class=\"colab-df-convert\" onclick=\"convertToInteractive('df-a4501f5e-a136-40a3-ac17-67e9d99d6404')\"\n",
              "            title=\"Convert this dataframe to an interactive table.\"\n",
              "            style=\"display:none;\">\n",
              "\n",
              "  <svg xmlns=\"http://www.w3.org/2000/svg\" height=\"24px\" viewBox=\"0 -960 960 960\">\n",
              "    <path d=\"M120-120v-720h720v720H120Zm60-500h600v-160H180v160Zm220 220h160v-160H400v160Zm0 220h160v-160H400v160ZM180-400h160v-160H180v160Zm440 0h160v-160H620v160ZM180-180h160v-160H180v160Zm440 0h160v-160H620v160Z\"/>\n",
              "  </svg>\n",
              "    </button>\n",
              "\n",
              "  <style>\n",
              "    .colab-df-container {\n",
              "      display:flex;\n",
              "      gap: 12px;\n",
              "    }\n",
              "\n",
              "    .colab-df-convert {\n",
              "      background-color: #E8F0FE;\n",
              "      border: none;\n",
              "      border-radius: 50%;\n",
              "      cursor: pointer;\n",
              "      display: none;\n",
              "      fill: #1967D2;\n",
              "      height: 32px;\n",
              "      padding: 0 0 0 0;\n",
              "      width: 32px;\n",
              "    }\n",
              "\n",
              "    .colab-df-convert:hover {\n",
              "      background-color: #E2EBFA;\n",
              "      box-shadow: 0px 1px 2px rgba(60, 64, 67, 0.3), 0px 1px 3px 1px rgba(60, 64, 67, 0.15);\n",
              "      fill: #174EA6;\n",
              "    }\n",
              "\n",
              "    .colab-df-buttons div {\n",
              "      margin-bottom: 4px;\n",
              "    }\n",
              "\n",
              "    [theme=dark] .colab-df-convert {\n",
              "      background-color: #3B4455;\n",
              "      fill: #D2E3FC;\n",
              "    }\n",
              "\n",
              "    [theme=dark] .colab-df-convert:hover {\n",
              "      background-color: #434B5C;\n",
              "      box-shadow: 0px 1px 3px 1px rgba(0, 0, 0, 0.15);\n",
              "      filter: drop-shadow(0px 1px 2px rgba(0, 0, 0, 0.3));\n",
              "      fill: #FFFFFF;\n",
              "    }\n",
              "  </style>\n",
              "\n",
              "    <script>\n",
              "      const buttonEl =\n",
              "        document.querySelector('#df-a4501f5e-a136-40a3-ac17-67e9d99d6404 button.colab-df-convert');\n",
              "      buttonEl.style.display =\n",
              "        google.colab.kernel.accessAllowed ? 'block' : 'none';\n",
              "\n",
              "      async function convertToInteractive(key) {\n",
              "        const element = document.querySelector('#df-a4501f5e-a136-40a3-ac17-67e9d99d6404');\n",
              "        const dataTable =\n",
              "          await google.colab.kernel.invokeFunction('convertToInteractive',\n",
              "                                                    [key], {});\n",
              "        if (!dataTable) return;\n",
              "\n",
              "        const docLinkHtml = 'Like what you see? Visit the ' +\n",
              "          '<a target=\"_blank\" href=https://colab.research.google.com/notebooks/data_table.ipynb>data table notebook</a>'\n",
              "          + ' to learn more about interactive tables.';\n",
              "        element.innerHTML = '';\n",
              "        dataTable['output_type'] = 'display_data';\n",
              "        await google.colab.output.renderOutput(dataTable, element);\n",
              "        const docLink = document.createElement('div');\n",
              "        docLink.innerHTML = docLinkHtml;\n",
              "        element.appendChild(docLink);\n",
              "      }\n",
              "    </script>\n",
              "  </div>\n",
              "\n",
              "\n",
              "<div id=\"df-1c0d8c2f-5a4d-4806-84b3-07ced541455a\">\n",
              "  <button class=\"colab-df-quickchart\" onclick=\"quickchart('df-1c0d8c2f-5a4d-4806-84b3-07ced541455a')\"\n",
              "            title=\"Suggest charts\"\n",
              "            style=\"display:none;\">\n",
              "\n",
              "<svg xmlns=\"http://www.w3.org/2000/svg\" height=\"24px\"viewBox=\"0 0 24 24\"\n",
              "     width=\"24px\">\n",
              "    <g>\n",
              "        <path d=\"M19 3H5c-1.1 0-2 .9-2 2v14c0 1.1.9 2 2 2h14c1.1 0 2-.9 2-2V5c0-1.1-.9-2-2-2zM9 17H7v-7h2v7zm4 0h-2V7h2v10zm4 0h-2v-4h2v4z\"/>\n",
              "    </g>\n",
              "</svg>\n",
              "  </button>\n",
              "\n",
              "<style>\n",
              "  .colab-df-quickchart {\n",
              "      --bg-color: #E8F0FE;\n",
              "      --fill-color: #1967D2;\n",
              "      --hover-bg-color: #E2EBFA;\n",
              "      --hover-fill-color: #174EA6;\n",
              "      --disabled-fill-color: #AAA;\n",
              "      --disabled-bg-color: #DDD;\n",
              "  }\n",
              "\n",
              "  [theme=dark] .colab-df-quickchart {\n",
              "      --bg-color: #3B4455;\n",
              "      --fill-color: #D2E3FC;\n",
              "      --hover-bg-color: #434B5C;\n",
              "      --hover-fill-color: #FFFFFF;\n",
              "      --disabled-bg-color: #3B4455;\n",
              "      --disabled-fill-color: #666;\n",
              "  }\n",
              "\n",
              "  .colab-df-quickchart {\n",
              "    background-color: var(--bg-color);\n",
              "    border: none;\n",
              "    border-radius: 50%;\n",
              "    cursor: pointer;\n",
              "    display: none;\n",
              "    fill: var(--fill-color);\n",
              "    height: 32px;\n",
              "    padding: 0;\n",
              "    width: 32px;\n",
              "  }\n",
              "\n",
              "  .colab-df-quickchart:hover {\n",
              "    background-color: var(--hover-bg-color);\n",
              "    box-shadow: 0 1px 2px rgba(60, 64, 67, 0.3), 0 1px 3px 1px rgba(60, 64, 67, 0.15);\n",
              "    fill: var(--button-hover-fill-color);\n",
              "  }\n",
              "\n",
              "  .colab-df-quickchart-complete:disabled,\n",
              "  .colab-df-quickchart-complete:disabled:hover {\n",
              "    background-color: var(--disabled-bg-color);\n",
              "    fill: var(--disabled-fill-color);\n",
              "    box-shadow: none;\n",
              "  }\n",
              "\n",
              "  .colab-df-spinner {\n",
              "    border: 2px solid var(--fill-color);\n",
              "    border-color: transparent;\n",
              "    border-bottom-color: var(--fill-color);\n",
              "    animation:\n",
              "      spin 1s steps(1) infinite;\n",
              "  }\n",
              "\n",
              "  @keyframes spin {\n",
              "    0% {\n",
              "      border-color: transparent;\n",
              "      border-bottom-color: var(--fill-color);\n",
              "      border-left-color: var(--fill-color);\n",
              "    }\n",
              "    20% {\n",
              "      border-color: transparent;\n",
              "      border-left-color: var(--fill-color);\n",
              "      border-top-color: var(--fill-color);\n",
              "    }\n",
              "    30% {\n",
              "      border-color: transparent;\n",
              "      border-left-color: var(--fill-color);\n",
              "      border-top-color: var(--fill-color);\n",
              "      border-right-color: var(--fill-color);\n",
              "    }\n",
              "    40% {\n",
              "      border-color: transparent;\n",
              "      border-right-color: var(--fill-color);\n",
              "      border-top-color: var(--fill-color);\n",
              "    }\n",
              "    60% {\n",
              "      border-color: transparent;\n",
              "      border-right-color: var(--fill-color);\n",
              "    }\n",
              "    80% {\n",
              "      border-color: transparent;\n",
              "      border-right-color: var(--fill-color);\n",
              "      border-bottom-color: var(--fill-color);\n",
              "    }\n",
              "    90% {\n",
              "      border-color: transparent;\n",
              "      border-bottom-color: var(--fill-color);\n",
              "    }\n",
              "  }\n",
              "</style>\n",
              "\n",
              "  <script>\n",
              "    async function quickchart(key) {\n",
              "      const quickchartButtonEl =\n",
              "        document.querySelector('#' + key + ' button');\n",
              "      quickchartButtonEl.disabled = true;  // To prevent multiple clicks.\n",
              "      quickchartButtonEl.classList.add('colab-df-spinner');\n",
              "      try {\n",
              "        const charts = await google.colab.kernel.invokeFunction(\n",
              "            'suggestCharts', [key], {});\n",
              "      } catch (error) {\n",
              "        console.error('Error during call to suggestCharts:', error);\n",
              "      }\n",
              "      quickchartButtonEl.classList.remove('colab-df-spinner');\n",
              "      quickchartButtonEl.classList.add('colab-df-quickchart-complete');\n",
              "    }\n",
              "    (() => {\n",
              "      let quickchartButtonEl =\n",
              "        document.querySelector('#df-1c0d8c2f-5a4d-4806-84b3-07ced541455a button');\n",
              "      quickchartButtonEl.style.display =\n",
              "        google.colab.kernel.accessAllowed ? 'block' : 'none';\n",
              "    })();\n",
              "  </script>\n",
              "</div>\n",
              "\n",
              "  <div id=\"id_05f194b6-b8b2-4b18-9ced-7f07bb4d3d05\">\n",
              "    <style>\n",
              "      .colab-df-generate {\n",
              "        background-color: #E8F0FE;\n",
              "        border: none;\n",
              "        border-radius: 50%;\n",
              "        cursor: pointer;\n",
              "        display: none;\n",
              "        fill: #1967D2;\n",
              "        height: 32px;\n",
              "        padding: 0 0 0 0;\n",
              "        width: 32px;\n",
              "      }\n",
              "\n",
              "      .colab-df-generate:hover {\n",
              "        background-color: #E2EBFA;\n",
              "        box-shadow: 0px 1px 2px rgba(60, 64, 67, 0.3), 0px 1px 3px 1px rgba(60, 64, 67, 0.15);\n",
              "        fill: #174EA6;\n",
              "      }\n",
              "\n",
              "      [theme=dark] .colab-df-generate {\n",
              "        background-color: #3B4455;\n",
              "        fill: #D2E3FC;\n",
              "      }\n",
              "\n",
              "      [theme=dark] .colab-df-generate:hover {\n",
              "        background-color: #434B5C;\n",
              "        box-shadow: 0px 1px 3px 1px rgba(0, 0, 0, 0.15);\n",
              "        filter: drop-shadow(0px 1px 2px rgba(0, 0, 0, 0.3));\n",
              "        fill: #FFFFFF;\n",
              "      }\n",
              "    </style>\n",
              "    <button class=\"colab-df-generate\" onclick=\"generateWithVariable('df_features')\"\n",
              "            title=\"Generate code using this dataframe.\"\n",
              "            style=\"display:none;\">\n",
              "\n",
              "  <svg xmlns=\"http://www.w3.org/2000/svg\" height=\"24px\"viewBox=\"0 0 24 24\"\n",
              "       width=\"24px\">\n",
              "    <path d=\"M7,19H8.4L18.45,9,17,7.55,7,17.6ZM5,21V16.75L18.45,3.32a2,2,0,0,1,2.83,0l1.4,1.43a1.91,1.91,0,0,1,.58,1.4,1.91,1.91,0,0,1-.58,1.4L9.25,21ZM18.45,9,17,7.55Zm-12,3A5.31,5.31,0,0,0,4.9,8.1,5.31,5.31,0,0,0,1,6.5,5.31,5.31,0,0,0,4.9,4.9,5.31,5.31,0,0,0,6.5,1,5.31,5.31,0,0,0,8.1,4.9,5.31,5.31,0,0,0,12,6.5,5.46,5.46,0,0,0,6.5,12Z\"/>\n",
              "  </svg>\n",
              "    </button>\n",
              "    <script>\n",
              "      (() => {\n",
              "      const buttonEl =\n",
              "        document.querySelector('#id_05f194b6-b8b2-4b18-9ced-7f07bb4d3d05 button.colab-df-generate');\n",
              "      buttonEl.style.display =\n",
              "        google.colab.kernel.accessAllowed ? 'block' : 'none';\n",
              "\n",
              "      buttonEl.onclick = () => {\n",
              "        google.colab.notebook.generateWithVariable('df_features');\n",
              "      }\n",
              "      })();\n",
              "    </script>\n",
              "  </div>\n",
              "\n",
              "    </div>\n",
              "  </div>\n"
            ],
            "application/vnd.google.colaboratory.intrinsic+json": {
              "type": "dataframe",
              "variable_name": "df_features",
              "summary": "{\n  \"name\": \"df_features\",\n  \"rows\": 4760,\n  \"fields\": [\n    {\n      \"column\": \"Movie_Keywords\",\n      \"properties\": {\n        \"dtype\": \"string\",\n        \"num_unique_values\": 4203,\n        \"samples\": [\n          \"canada nazis sequel spin off ancient evil\",\n          \"sex professor wedding woman director columbia university\",\n          \"prophecy sea beach gold small town\"\n        ],\n        \"semantic_type\": \"\",\n        \"description\": \"\"\n      }\n    },\n    {\n      \"column\": \"Movie_Cast\",\n      \"properties\": {\n        \"dtype\": \"string\",\n        \"num_unique_values\": 4715,\n        \"samples\": [\n          \"Robin Tunney Fairuza Balk Neve Campbell Rachel True Skeet Ulrich\",\n          \"Peter Sellers Christopher Plummer Herbert Lom Catherine Schell Peter Arne\",\n          \"John Wayne Laraine Day Cedric Hardwicke Judith Anderson Anthony Quinn\"\n        ],\n        \"semantic_type\": \"\",\n        \"description\": \"\"\n      }\n    },\n    {\n      \"column\": \"Movie_Tagline\",\n      \"properties\": {\n        \"dtype\": \"string\",\n        \"num_unique_values\": 3928,\n        \"samples\": [\n          \"The messenger must be silenced.\",\n          \"It's not the house that's haunted.\",\n          \"The final hunt begins.\"\n        ],\n        \"semantic_type\": \"\",\n        \"description\": \"\"\n      }\n    },\n    {\n      \"column\": \"Movie_Overview\",\n      \"properties\": {\n        \"dtype\": \"string\",\n        \"num_unique_values\": 4758,\n        \"samples\": [\n          \"Raise Your Voice is a coming-of-age story centered around a small-town singer, brokenhearted by the death of her brother in a car crash, who had secretly submitted her for a summer session at a performing arts academy in Los Angeles. In the performing arts academy, she experiences a whole new way of life in the big city, far from the small town lifestyle she's used to.\",\n          \"A British spy ship has sunk and on board was a hi-tech encryption device. James Bond is sent to find the device that holds British launching instructions before the enemy Soviets get to it first.\",\n          \"Pro Beach Volleyball star, Kelly Reyes, faces challenges everyday, fierce competitors, the press, but nothing could prepare her for him.\"\n        ],\n        \"semantic_type\": \"\",\n        \"description\": \"\"\n      }\n    },\n    {\n      \"column\": \"Movie_Production_House\",\n      \"properties\": {\n        \"dtype\": \"string\",\n        \"num_unique_values\": 3682,\n        \"samples\": [\n          \"[{\\\"name\\\": \\\"Walt Disney\\\", \\\"id\\\": 5888}, {\\\"name\\\": \\\"ImageMovers\\\", \\\"id\\\": 11395}]\",\n          \"[{\\\"name\\\": \\\"Legendary Pictures\\\", \\\"id\\\": 923}, {\\\"name\\\": \\\"Living Films\\\", \\\"id\\\": 2877}, {\\\"name\\\": \\\"Green Hat Films\\\", \\\"id\\\": 3527}, {\\\"name\\\": \\\"Warner Bros.\\\", \\\"id\\\": 6194}]\",\n          \"[{\\\"name\\\": \\\"Columbia Pictures\\\", \\\"id\\\": 5}, {\\\"name\\\": \\\"Mandate Pictures\\\", \\\"id\\\": 771}, {\\\"name\\\": \\\"Escape Artists\\\", \\\"id\\\": 1423}, {\\\"name\\\": \\\"Management 360\\\", \\\"id\\\": 4220}, {\\\"name\\\": \\\"Metro-Goldwyn-Mayer (MGM)\\\", \\\"id\\\": 8411}]\"\n        ],\n        \"semantic_type\": \"\",\n        \"description\": \"\"\n      }\n    }\n  ]\n}"
            }
          },
          "metadata": {},
          "execution_count": 15
        }
      ]
    },
    {
      "cell_type": "code",
      "source": [
        "X = df_features['Movie_Keywords'] +''+ df_features['Movie_Cast'] +''+ df_features['Movie_Tagline'] +''+ df_features['Movie_Overview'] +''+ df_features['Movie_Production_House']"
      ],
      "metadata": {
        "id": "40NfqdP-2Zoy"
      },
      "execution_count": 13,
      "outputs": []
    },
    {
      "cell_type": "code",
      "source": [
        "X.shape"
      ],
      "metadata": {
        "colab": {
          "base_uri": "https://localhost:8080/"
        },
        "id": "l4ceFNw2HOXI",
        "outputId": "6f38907e-b189-4a50-d98a-bd97d19e5749"
      },
      "execution_count": 16,
      "outputs": [
        {
          "output_type": "execute_result",
          "data": {
            "text/plain": [
              "(4760,)"
            ]
          },
          "metadata": {},
          "execution_count": 16
        }
      ]
    },
    {
      "cell_type": "markdown",
      "source": [
        "### **Get Feature Text Conversion to Tokens**"
      ],
      "metadata": {
        "id": "WL07aan7Hhlr"
      }
    },
    {
      "cell_type": "code",
      "source": [
        "from sklearn.feature_extraction.text import TfidfVectorizer"
      ],
      "metadata": {
        "id": "3vwDS9Bz2Zr5"
      },
      "execution_count": 17,
      "outputs": []
    },
    {
      "cell_type": "code",
      "source": [
        "tfidf = TfidfVectorizer()"
      ],
      "metadata": {
        "id": "n2vbvQ012yH7"
      },
      "execution_count": 18,
      "outputs": []
    },
    {
      "cell_type": "code",
      "source": [
        "X = tfidf.fit_transform(X)"
      ],
      "metadata": {
        "id": "N-FetCug2yKy"
      },
      "execution_count": 19,
      "outputs": []
    },
    {
      "cell_type": "code",
      "source": [
        "X.shape"
      ],
      "metadata": {
        "colab": {
          "base_uri": "https://localhost:8080/"
        },
        "id": "BV8pZyra2yN2",
        "outputId": "e13ed80a-0698-4ecf-e726-c4b4223dfd62"
      },
      "execution_count": 20,
      "outputs": [
        {
          "output_type": "execute_result",
          "data": {
            "text/plain": [
              "(4760, 44901)"
            ]
          },
          "metadata": {},
          "execution_count": 20
        }
      ]
    },
    {
      "cell_type": "code",
      "source": [
        "print(X)"
      ],
      "metadata": {
        "colab": {
          "base_uri": "https://localhost:8080/"
        },
        "id": "C1T9_y9V2yQt",
        "outputId": "41a0217d-cc42-4706-e6da-c6582f394945"
      },
      "execution_count": 21,
      "outputs": [
        {
          "output_type": "stream",
          "name": "stdout",
          "text": [
            "  (0, 4016)\t0.1310577221130088\n",
            "  (0, 6811)\t0.09626860348462035\n",
            "  (0, 7944)\t0.09213284312694163\n",
            "  (0, 823)\t0.08687120275861622\n",
            "  (0, 22519)\t0.039165894610031476\n",
            "  (0, 18210)\t0.039389959998900215\n",
            "  (0, 28544)\t0.08805159778718159\n",
            "  (0, 29557)\t0.03912468749748187\n",
            "  (0, 6723)\t0.08240217381203886\n",
            "  (0, 5856)\t0.05437453992059883\n",
            "  (0, 20914)\t0.12364185652713036\n",
            "  (0, 42067)\t0.13758122657543162\n",
            "  (0, 42401)\t0.05407312856791212\n",
            "  (0, 36705)\t0.12490372062122777\n",
            "  (0, 23465)\t0.030426023047133786\n",
            "  (0, 36696)\t0.10162146486484105\n",
            "  (0, 35363)\t0.10199096783548287\n",
            "  (0, 17104)\t0.12490372062122777\n",
            "  (0, 40472)\t0.059038244350426115\n",
            "  (0, 40355)\t0.04057197869251801\n",
            "  (0, 36520)\t0.09027126055207374\n",
            "  (0, 32833)\t0.15307811377529812\n",
            "  (0, 37983)\t0.0773981401666751\n",
            "  (0, 21689)\t0.052711887827905944\n",
            "  (0, 32265)\t0.08414537555310267\n",
            "  :\t:\n",
            "  (4758, 22519)\t0.02598071905386556\n",
            "  (4758, 29557)\t0.025953384291699855\n",
            "  (4758, 5856)\t0.0721387655982941\n",
            "  (4758, 23465)\t0.04036624030089459\n",
            "  (4758, 40355)\t0.05382689150165607\n",
            "  (4758, 40735)\t0.09011333577447929\n",
            "  (4758, 30505)\t0.03070638834494326\n",
            "  (4758, 40360)\t0.10833190439406822\n",
            "  (4758, 22802)\t0.035822091755715636\n",
            "  (4758, 6539)\t0.1234389325483214\n",
            "  (4758, 29883)\t0.061984519960377085\n",
            "  (4759, 4063)\t0.3683565115962987\n",
            "  (4759, 17415)\t0.3683565115962987\n",
            "  (4759, 30731)\t0.3683565115962987\n",
            "  (4759, 37403)\t0.3683565115962987\n",
            "  (4759, 31824)\t0.3683565115962987\n",
            "  (4759, 5605)\t0.28667180536345854\n",
            "  (4759, 11801)\t0.23408377856756354\n",
            "  (4759, 18858)\t0.21246953835116367\n",
            "  (4759, 21893)\t0.2080979765459128\n",
            "  (4759, 25733)\t0.20673642037500542\n",
            "  (4759, 29380)\t0.19975825060876107\n",
            "  (4759, 16755)\t0.09728365432274699\n",
            "  (4759, 22519)\t0.044945649579891216\n",
            "  (4759, 29557)\t0.04489836148755235\n"
          ]
        }
      ]
    },
    {
      "cell_type": "markdown",
      "source": [
        "### **Get Similarity Score using Cosine Similarity**\n",
        "\n"
      ],
      "metadata": {
        "id": "wqUZG_S5Hhot"
      }
    },
    {
      "cell_type": "code",
      "source": [
        "from sklearn.metrics.pairwise import cosine_similarity"
      ],
      "metadata": {
        "id": "9ruvPLps4eqS"
      },
      "execution_count": 22,
      "outputs": []
    },
    {
      "cell_type": "code",
      "source": [
        "Similarity_Score = cosine_similarity(X)"
      ],
      "metadata": {
        "id": "pKPK0_vV4etT"
      },
      "execution_count": 23,
      "outputs": []
    },
    {
      "cell_type": "code",
      "source": [
        "Similarity_Score"
      ],
      "metadata": {
        "colab": {
          "base_uri": "https://localhost:8080/"
        },
        "id": "Y3RT3E784ewZ",
        "outputId": "bbd7c4e5-65fb-4396-8ac0-4ce094ef06ae"
      },
      "execution_count": 24,
      "outputs": [
        {
          "output_type": "execute_result",
          "data": {
            "text/plain": [
              "array([[1.        , 0.02828658, 0.03078365, ..., 0.03584726, 0.03761192,\n",
              "        0.00351697],\n",
              "       [0.02828658, 1.        , 0.01659794, ..., 0.02039156, 0.06925215,\n",
              "        0.00363002],\n",
              "       [0.03078365, 0.01659794, 1.        , ..., 0.01209024, 0.04857659,\n",
              "        0.00163471],\n",
              "       ...,\n",
              "       [0.03584726, 0.02039156, 0.01209024, ..., 1.        , 0.08204952,\n",
              "        0.00238986],\n",
              "       [0.03761192, 0.06925215, 0.04857659, ..., 0.08204952, 1.        ,\n",
              "        0.00233298],\n",
              "       [0.00351697, 0.00363002, 0.00163471, ..., 0.00238986, 0.00233298,\n",
              "        1.        ]])"
            ]
          },
          "metadata": {},
          "execution_count": 24
        }
      ]
    },
    {
      "cell_type": "code",
      "source": [
        "Similarity_Score.shape"
      ],
      "metadata": {
        "colab": {
          "base_uri": "https://localhost:8080/"
        },
        "id": "SenG3obQ4ezd",
        "outputId": "365c6faf-f586-4fec-ef80-48509f276cba"
      },
      "execution_count": 25,
      "outputs": [
        {
          "output_type": "execute_result",
          "data": {
            "text/plain": [
              "(4760, 4760)"
            ]
          },
          "metadata": {},
          "execution_count": 25
        }
      ]
    },
    {
      "cell_type": "markdown",
      "source": [
        "### **Get Movie Name as Input from User and Validate for Closest Spelling**"
      ],
      "metadata": {
        "id": "DL9nTck5KFes"
      }
    },
    {
      "cell_type": "code",
      "source": [
        "Favourite_Movie_Name = input(' Enter your favourite movie name : ')"
      ],
      "metadata": {
        "colab": {
          "base_uri": "https://localhost:8080/"
        },
        "id": "4XPDt4yd4e2R",
        "outputId": "bd266215-159d-4618-b6b7-bbcabbfa9940"
      },
      "execution_count": 26,
      "outputs": [
        {
          "name": "stdout",
          "output_type": "stream",
          "text": [
            " Enter your favourite movie name : Hostel\n"
          ]
        }
      ]
    },
    {
      "cell_type": "code",
      "source": [
        "all_movies_title_list = df['Movie_Title'].tolist()"
      ],
      "metadata": {
        "id": "eCt3rYJN4e5R"
      },
      "execution_count": 29,
      "outputs": []
    },
    {
      "cell_type": "code",
      "source": [
        "import difflib"
      ],
      "metadata": {
        "id": "tn2JNB8-4e8Q"
      },
      "execution_count": 30,
      "outputs": []
    },
    {
      "cell_type": "code",
      "source": [
        "Movie_Recommendation = difflib.get_close_matches(Favourite_Movie_Name, all_movies_title_list)\n",
        "print(Movie_Recommendation)"
      ],
      "metadata": {
        "colab": {
          "base_uri": "https://localhost:8080/"
        },
        "id": "Vx2QIkRa4e_I",
        "outputId": "f999363a-5b10-422e-a9bb-f4d2f76fe033"
      },
      "execution_count": 31,
      "outputs": [
        {
          "output_type": "stream",
          "name": "stdout",
          "text": [
            "['Hostel', 'Hostage', 'Housefull']\n"
          ]
        }
      ]
    },
    {
      "cell_type": "code",
      "source": [
        "Close_Match = Movie_Recommendation[0]\n",
        "print(Close_Match)"
      ],
      "metadata": {
        "colab": {
          "base_uri": "https://localhost:8080/"
        },
        "id": "vQnjievH5rJF",
        "outputId": "963c9ec3-2a60-42ad-b872-b872f258be5e"
      },
      "execution_count": 32,
      "outputs": [
        {
          "output_type": "stream",
          "name": "stdout",
          "text": [
            "Hostel\n"
          ]
        }
      ]
    },
    {
      "cell_type": "code",
      "source": [
        "Index_of_Close_Match_Movie = df[df.Movie_Title == Close_Match]['Movie_ID'].values[0]\n",
        "print(Index_of_Close_Match_Movie)"
      ],
      "metadata": {
        "colab": {
          "base_uri": "https://localhost:8080/"
        },
        "id": "OSch53nI5rha",
        "outputId": "7949595a-56fb-4d07-d90f-2ccdc96678b8"
      },
      "execution_count": 33,
      "outputs": [
        {
          "output_type": "stream",
          "name": "stdout",
          "text": [
            "557\n"
          ]
        }
      ]
    },
    {
      "cell_type": "code",
      "source": [
        "recommendation_score = list(enumerate(Similarity_Score[Index_of_Close_Match_Movie]))\n",
        "print(recommendation_score)"
      ],
      "metadata": {
        "colab": {
          "base_uri": "https://localhost:8080/"
        },
        "id": "mTArFo376ZZS",
        "outputId": "21fede15-341e-4fe5-effa-7c6e1629bcfa"
      },
      "execution_count": 34,
      "outputs": [
        {
          "output_type": "stream",
          "name": "stdout",
          "text": [
            "[(0, 0.02138766923003289), (1, 0.015092969274781948), (2, 0.023461930024964234), (3, 0.03323721215071969), (4, 0.009965155091169225), (5, 0.06237786203550673), (6, 0.03700127321124116), (7, 0.03307911110366868), (8, 0.012567109000998583), (9, 0.01660930220869983), (10, 0.024451177082170227), (11, 0.035440981717148885), (12, 0.01576978026047226), (13, 0.022352489375720163), (14, 0.0175303987459529), (15, 0.024416826491784564), (16, 0.05368799607419747), (17, 0.016504996479237297), (18, 0.02018612312962287), (19, 0.027634994286903674), (20, 0.03086650699523525), (21, 0.022195147392240096), (22, 0.023908696006647936), (23, 0.022183566995140878), (24, 0.019146035232545103), (25, 0.033208889391852875), (26, 0.019285197660242476), (27, 0.028751043927879923), (28, 0.020321361472297836), (29, 0.02079688895238374), (30, 0.02184151948559689), (31, 0.039732846584761686), (32, 0.04163054320906354), (33, 0.035361578958991134), (34, 0.02539114034288338), (35, 0.03019964859899003), (36, 0.028231704867437472), (37, 0.028246667135853304), (38, 0.019883844979045828), (39, 0.04341663294207067), (40, 0.025286963473136137), (41, 0.04148705451840098), (42, 0.04536501138126622), (43, 0.03261989827295712), (44, 0.015381358616900114), (45, 0.02441252135966487), (46, 0.07098438604291445), (47, 0.0561944621668677), (48, 0.012773045084090873), (49, 0.026398390886934665), (50, 0.02158855156021492), (51, 0.03395846182530192), (52, 0.014828958685814152), (53, 0.056952626940814904), (54, 0.029170291902751434), (55, 0.020830672626156642), (56, 0.021360465867373436), (57, 0.0372315283797385), (58, 0.027362437122422884), (59, 0.0580701474698757), (60, 0.010340228630627907), (61, 0.018736712984497056), (62, 0.040091513069338565), (63, 0.03362943235975936), (64, 0.031270881304297594), (65, 0.007287772615636626), (66, 0.0315404761381815), (67, 0.014574751483789537), (68, 0.029388743240087147), (69, 0.009169230276645382), (70, 0.042275012728881026), (71, 0.004082752663495778), (72, 0.03034131123797469), (73, 0.019425880315329196), (74, 0.02600295933816753), (75, 0.0385168120926022), (76, 0.024444999112943563), (77, 0.024001323749100766), (78, 0.039468207502943733), (79, 0.024825069932948553), (80, 0.02288996335866965), (81, 0.08491773266031474), (82, 0.0153313721645842), (83, 0.0466142997195316), (84, 0.024599017661656702), (85, 0.04691349153034782), (86, 0.023380796425251045), (87, 0.03606078125338507), (88, 0.028708345277616464), (89, 0.03935578702521982), (90, 0.01873727669315759), (91, 0.0329562030281444), (92, 0.04016620596616293), (93, 0.016651349672438313), (94, 0.03596620812998076), (95, 0.01726229328359722), (96, 0.02458795944334463), (97, 0.07254471669981966), (98, 0.026286518785434105), (99, 0.08390054394500217), (100, 0.08492113346898833), (101, 0.048049153474616975), (102, 0.020507362052235557), (103, 0.019007090369478574), (104, 0.011974731287814708), (105, 0.028086981037382608), (106, 0.03817186152947473), (107, 0.028270438070849765), (108, 0.029897045163877638), (109, 0.030220123263921927), (110, 0.06845325961393468), (111, 0.0382695946847679), (112, 0.01707015151991292), (113, 0.023934123036134045), (114, 0.02863203282279681), (115, 0.030714602114724616), (116, 0.017095642879322855), (117, 0.026729319519534202), (118, 0.017541016337723737), (119, 0.031170327075026944), (120, 0.026002753574522027), (121, 0.018994394161962525), (122, 0.02020915013321619), (123, 0.02752888618940807), (124, 0.019341082442240254), (125, 0.030997752943985067), (126, 0.017353572719154633), (127, 0.012042669767292371), (128, 0.02969083748199495), (129, 0.011138227301177668), (130, 0.028208581108259745), (131, 0.03200980492835883), (132, 0.011360243973845805), (133, 0.01357923740099668), (134, 0.023349319807808428), (135, 0.03121693430195907), (136, 0.021145432874617398), (137, 0.023960712598813615), (138, 0.038226735109483115), (139, 0.02353657918101618), (140, 0.011699346195065139), (141, 0.022934225796791278), (142, 0.016607493470648303), (143, 0.06419002773723434), (144, 0.027428068490239793), (145, 0.023922514943385265), (146, 0.03524225221213013), (147, 0.03495014945186953), (148, 0.030588124440444935), (149, 0.021489329911925464), (150, 0.022049485427782265), (151, 0.020583391592870214), (152, 0.046020166513502964), (153, 0.027513495985340544), (154, 0.026051563578951224), (155, 0.03870642561063254), (156, 0.03604741136770883), (157, 0.025205599706879998), (158, 0.02552763093996012), (159, 0.010756035368533885), (160, 0.0443913032155796), (161, 0.05611204766601165), (162, 0.02871924481871931), (163, 0.053956783195883), (164, 0.015506957535182976), (165, 0.03704576178691897), (166, 0.019576804604922168), (167, 0.04007258129632422), (168, 0.053125728585678905), (169, 0.038280346212735426), (170, 0.023225458118696894), (171, 0.05446657018658176), (172, 0.02468530825211348), (173, 0.01945818337184651), (174, 0.028444200685493307), (175, 0.03126292946226722), (176, 0.03508634160122218), (177, 0.013591081315868342), (178, 0.0635359104762151), (179, 0.030125082639317135), (180, 0.01619389804611199), (181, 0.013508075912223421), (182, 0.03921385079956712), (183, 0.04189304717077802), (184, 0.029563483309406717), (185, 0.041602084052280774), (186, 0.039001219946363054), (187, 0.03157652292304379), (188, 0.01714750423363915), (189, 0.07097466202683415), (190, 0.013541272866993113), (191, 0.022812282501603748), (192, 0.03160958801828257), (193, 0.021972846793512538), (194, 0.017102640822709167), (195, 0.01864091172630809), (196, 0.03189663476696648), (197, 0.017833583759650096), (198, 0.016600309476608163), (199, 0.047386172535188065), (200, 0.023050043102965045), (201, 0.023139217244752985), (202, 0.030476495938944193), (203, 0.02597119012811903), (204, 0.032010009691773915), (205, 0.01772008969019397), (206, 0.021596052209163275), (207, 0.013148280804911271), (208, 0.08050448606744784), (209, 0.015527514500332648), (210, 0.028323278124706187), (211, 0.026710592690342164), (212, 0.06344926304531955), (213, 0.014158013181453108), (214, 0.04137058135806317), (215, 0.015523880492127815), (216, 0.018378533374173084), (217, 0.03620667282141906), (218, 0.04946761270057883), (219, 0.02205991229333174), (220, 0.025279866588674534), (221, 0.019915665740653423), (222, 0.023676810449574696), (223, 0.06818155600882161), (224, 0.02704141536643099), (225, 0.021166200741665794), (226, 0.02530605998683061), (227, 0.016052196750325296), (228, 0.03987347273540587), (229, 0.03263364096963443), (230, 0.01225007629650391), (231, 0.025476412711761483), (232, 0.04679092406182333), (233, 0.016458171318751057), (234, 0.025159293356445737), (235, 0.025863169739087314), (236, 0.03431686291517856), (237, 0.01858585386540047), (238, 0.009571090284612383), (239, 0.026603701109575943), (240, 0.008562696475642357), (241, 0.01202062144301314), (242, 0.01433618348857595), (243, 0.02141919764006042), (244, 0.0227429885865273), (245, 0.056901185280051655), (246, 0.018307698255970176), (247, 0.0353514383823796), (248, 0.031132719718308006), (249, 0.04369418156401612), (250, 0.02371404358571507), (251, 0.031148057437284937), (252, 0.029556602839971812), (253, 0.01958234856648256), (254, 0.03669209770880737), (255, 0.026761564275501113), (256, 0.030410599168334353), (257, 0.033297593612352995), (258, 0.012656751780122575), (259, 0.04470349307257611), (260, 0.05538128409544628), (261, 0.03980161208639554), (262, 0.02476273691539553), (263, 0.028235878167998593), (264, 0.03419829103506348), (265, 0.05705690845184846), (266, 0.040829848515045515), (267, 0.03412864637146556), (268, 0.02316969771139387), (269, 0.05524417691897542), (270, 0.017931410887464794), (271, 0.020094463079698338), (272, 0.021219734416002157), (273, 0.059249383148240374), (274, 0.03523415238060527), (275, 0.011467257742496286), (276, 0.0250804985421149), (277, 0.047134097814819045), (278, 0.027716537031040482), (279, 0.037405574203164996), (280, 0.025551583914878443), (281, 0.022409084740523125), (282, 0.02220110901939283), (283, 0.025424782971653796), (284, 0.016686862541141458), (285, 0.02881706101736051), (286, 0.029127807699129413), (287, 0.03482284113053565), (288, 0.04915864823109393), (289, 0.022061498185581098), (290, 0.0265310854108628), (291, 0.10185528402459189), (292, 0.03774486559985611), (293, 0.02593072737528653), (294, 0.03566860224785988), (295, 0.02501265429496649), (296, 0.019724670823784506), (297, 0.03000938261241279), (298, 0.03374757552831473), (299, 0.01812116180200319), (300, 0.01748393604360928), (301, 0.032848332520149924), (302, 0.020596489394424048), (303, 0.02593472087615924), (304, 0.04143932525116468), (305, 0.03054137570580184), (306, 0.028312867996006644), (307, 0.020471642863314096), (308, 0.030868099548219282), (309, 0.024305981749550065), (310, 0.0269051695693584), (311, 0.012633295046394653), (312, 0.02570698882732576), (313, 0.025766449617804776), (314, 0.02219509428537507), (315, 0.010523055887376946), (316, 0.013109063066802654), (317, 0.015752800161776676), (318, 0.007663979260180298), (319, 0.02069128480880577), (320, 0.01310958916575541), (321, 0.01741420351111216), (322, 0.01829600949307715), (323, 0.025634742983758525), (324, 0.04907229118750555), (325, 0.04874767328059481), (326, 0.03675277510075758), (327, 0.02492035221290266), (328, 0.01812365472088649), (329, 0.033657190396147604), (330, 0.037540529035125524), (331, 0.027090779600019373), (332, 0.03607749039612491), (333, 0.02985774129987272), (334, 0.06647575961404262), (335, 0.015672200869098214), (336, 0.01997630109393516), (337, 0.023506491262260166), (338, 0.022305759693217894), (339, 0.0432087479759895), (340, 0.01844049230602378), (341, 0.036591596947912065), (342, 0.023050110663719956), (343, 0.04138239242115754), (344, 0.01813074841040013), (345, 0.02446689645502711), (346, 0.02309422078583287), (347, 0.031407004123852965), (348, 0.033906046588638175), (349, 0.04472419531606599), (350, 0.04501660785268756), (351, 0.016230570496016027), (352, 0.030685383637711925), (353, 0.03462530001168675), (354, 0.020263632217186314), (355, 0.023941666293943578), (356, 0.013482653532204967), (357, 0.03235663364585736), (358, 0.03275292830722875), (359, 0.023319083017646944), (360, 0.030939230690115824), (361, 0.017068790370616795), (362, 0.024809021457773292), (363, 0.024347412863160472), (364, 0.04086836120475575), (365, 0.014398000390355875), (366, 0.016844758164626595), (367, 0.017878964697882204), (368, 0.04172765236406195), (369, 0.04407032992520572), (370, 0.027693960937419826), (371, 0.01617434329384734), (372, 0.044945987140603105), (373, 0.051150672976310076), (374, 0.03639749109952632), (375, 0.0684047789851657), (376, 0.01790546923345731), (377, 0.020279086104870045), (378, 0.06549843484656379), (379, 0.03805899852051211), (380, 0.016920421813416988), (381, 0.01909848556478807), (382, 0.045320488001089385), (383, 0.04296885304685319), (384, 0.03992257153717533), (385, 0.012705011139047146), (386, 0.03821203248906714), (387, 0.061726986728102014), (388, 0.021049199099959826), (389, 0.016041052741055422), (390, 0.01764029041937337), (391, 0.02082467775693476), (392, 0.01479451081908252), (393, 0.007094670198654809), (394, 0.04209323745855438), (395, 0.04708894369231495), (396, 0.029136308667306918), (397, 0.018130419966144312), (398, 0.029063697995939948), (399, 0.027451902005447733), (400, 0.034570776270518376), (401, 0.02125185513774601), (402, 0.012694390791947197), (403, 0.05827877240847081), (404, 0.03222722551015747), (405, 0.0227185940499913), (406, 0.023717824198411206), (407, 0.021580975887699347), (408, 0.02924811806221235), (409, 0.012369045280976244), (410, 0.04182249248713865), (411, 0.03629244496677876), (412, 0.03325585707398878), (413, 0.03170854002872673), (414, 0.022597205260842808), (415, 0.038562993755125397), (416, 0.015777552466505165), (417, 0.013246308383582494), (418, 0.03219037959909857), (419, 0.015853212519244212), (420, 0.011026869055363112), (421, 0.01968438145635885), (422, 0.03970940753045096), (423, 0.03341903025033053), (424, 0.028012091237429055), (425, 0.027308297715404817), (426, 0.024177733127222826), (427, 0.018774675508344513), (428, 0.03126046848813953), (429, 0.04425261319707185), (430, 0.020663343476149072), (431, 0.006840071050293582), (432, 0.011507103000889286), (433, 0.020706101667287213), (434, 0.044267658315868826), (435, 0.029067559971961837), (436, 0.07172881425245123), (437, 0.02506215696828825), (438, 0.019836912799133383), (439, 0.03021618555215437), (440, 0.025584798472496898), (441, 0.04784998940850761), (442, 0.02536778643863967), (443, 0.03050913002875498), (444, 0.04196967574263912), (445, 0.02045496051110499), (446, 0.045489569777378294), (447, 0.04767569720935091), (448, 0.04883665369913793), (449, 0.03091052649177297), (450, 0.0358993566708508), (451, 0.047730826580871986), (452, 0.03344702397047828), (453, 0.028704386330824942), (454, 0.017443708714172064), (455, 0.026188394238873595), (456, 0.02761271382214087), (457, 0.017526901785434274), (458, 0.042132997126716094), (459, 0.02237885197562376), (460, 0.029472410112733532), (461, 0.03529380686701436), (462, 0.019673954382902262), (463, 0.06333113964694664), (464, 0.0728566876851244), (465, 0.05922805912253335), (466, 0.03150337819602479), (467, 0.02367409998222681), (468, 0.027099285959825147), (469, 0.01553370114122764), (470, 0.02916374749623022), (471, 0.022684975718770064), (472, 0.04124261774090496), (473, 0.018901208352026452), (474, 0.03236764516497849), (475, 0.012408906828298448), (476, 0.02952656637992329), (477, 0.037949136096557805), (478, 0.019291508906289605), (479, 0.03156042082899739), (480, 0.02008858910358549), (481, 0.039071248796810405), (482, 0.010099752527607156), (483, 0.03860654732631154), (484, 0.01624444546352763), (485, 0.018317260722042948), (486, 0.04411938168266198), (487, 0.010570667600235617), (488, 0.02531775600316024), (489, 0.02487480201899705), (490, 0.024859682876291485), (491, 0.037523430151105035), (492, 0.03014960182636042), (493, 0.026118167037965156), (494, 0.03257059420565878), (495, 0.010985222167428062), (496, 0.04152337273341941), (497, 0.01620553546320299), (498, 0.02468145520114312), (499, 0.045802146717599), (500, 0.02458247602164856), (501, 0.018017392782861737), (502, 0.033441082533983764), (503, 0.019462451136072617), (504, 0.035273707679335346), (505, 0.015175393104457664), (506, 0.027158779362049128), (507, 0.02399830033379491), (508, 0.019056653432324447), (509, 0.0187498070661319), (510, 0.01882176180812924), (511, 0.043691227805573316), (512, 0.034793115705506396), (513, 0.013463127788496725), (514, 0.01941346104859312), (515, 0.04594394203067654), (516, 0.045990435804788767), (517, 0.016331820749393617), (518, 0.024984088473987035), (519, 0.038427145237194024), (520, 0.044208036102343945), (521, 0.026088552629233822), (522, 0.016217219131975654), (523, 0.020279233595057095), (524, 0.012336451101323573), (525, 0.01663074576235821), (526, 0.029192451947528144), (527, 0.024614695031146785), (528, 0.02451667734153922), (529, 0.021206416458886723), (530, 0.023911528073489004), (531, 0.025286766176500126), (532, 0.03481021579077875), (533, 0.014422700868924518), (534, 0.019660113663596924), (535, 0.013494904901719798), (536, 0.010004997336441846), (537, 0.01831436546148466), (538, 0.018019932181638162), (539, 0.009819674842628223), (540, 0.017231911677293182), (541, 0.04269101413713012), (542, 0.030182111619070875), (543, 0.034404195624765994), (544, 0.03380477574783661), (545, 0.05892015635442771), (546, 0.04634328460075795), (547, 0.027502903582793017), (548, 0.01881046024572015), (549, 0.036472433049018205), (550, 0.02175893944940218), (551, 0.023669283333151582), (552, 0.02108501084870156), (553, 0.029078264139118817), (554, 0.05022921189574239), (555, 0.020032557009504976), (556, 0.15142561188788395), (557, 1.0000000000000002), (558, 0.061162563624593), (559, 0.03384947662860429), (560, 0.030703190618870196), (561, 0.02678948987368427), (562, 0.04495205113711149), (563, 0.03117229095554091), (564, 0.02045368517282358), (565, 0.021868168214259208), (566, 0.043077810480555125), (567, 0.012151991735325706), (568, 0.029785937358547475), (569, 0.021427699065320764), (570, 0.03371576839664499), (571, 0.012666516383978397), (572, 0.036556019655351026), (573, 0.010751571097956693), (574, 0.057097379689158415), (575, 0.013493397068336285), (576, 0.012986658106328656), (577, 0.024233335628683794), (578, 0.04521145323409287), (579, 0.015480921713787097), (580, 0.02354836801206223), (581, 0.03342723704055493), (582, 0.021319737574982237), (583, 0.030102091723039393), (584, 0.03566351373967457), (585, 0.03728414782299484), (586, 0.049165310626091606), (587, 0.053088613145712206), (588, 0.021004370149825473), (589, 0.010915666977053949), (590, 0.04069429355561787), (591, 0.0432073679513915), (592, 0.022541956361173558), (593, 0.010985244604769193), (594, 0.03013864000054961), (595, 0.03486005632910905), (596, 0.01881324807217556), (597, 0.04146895267064232), (598, 0.027744281786016248), (599, 0.019523834693382272), (600, 0.020286291688606906), (601, 0.020749165484796623), (602, 0.021235938426063007), (603, 0.029027148081940443), (604, 0.021620739823802037), (605, 0.037333551413158104), (606, 0.02797153137767988), (607, 0.027089772094536082), (608, 0.019517287078950202), (609, 0.04987856135935355), (610, 0.00812577944633992), (611, 0.036631819581681796), (612, 0.032931683459514575), (613, 0.0314341880114788), (614, 0.019059366019514697), (615, 0.03024106974447527), (616, 0.021993906795394758), (617, 0.04574927945546948), (618, 0.033700379775675915), (619, 0.027132263699440124), (620, 0.03126116691171531), (621, 0.061087210705632375), (622, 0.03147095811233053), (623, 0.03364135678735747), (624, 0.05683259315015374), (625, 0.03838873263339068), (626, 0.0323973129931054), (627, 0.03493765481739111), (628, 0.02103288075381648), (629, 0.04709365138673034), (630, 0.02077793319073771), (631, 0.030512772212079434), (632, 0.028954375655961595), (633, 0.033950848559092604), (634, 0.05232283537364777), (635, 0.04240321994449616), (636, 0.03088458199099273), (637, 0.02201513800895842), (638, 0.02153117846852571), (639, 0.031069008129115373), (640, 0.02750997040441825), (641, 0.0394197635720912), (642, 0.037494439414402274), (643, 0.018627735083571018), (644, 0.05566744763081191), (645, 0.02658415733727798), (646, 0.041151585034122605), (647, 0.037269547817737725), (648, 0.05668964638435902), (649, 0.02430028963704126), (650, 0.024338369414019463), (651, 0.02891128569302954), (652, 0.027812009238395555), (653, 0.02905241366891579), (654, 0.03399918073919545), (655, 0.02468749756334051), (656, 0.0484958075552637), (657, 0.020128401921787786), (658, 0.03817987945253825), (659, 0.03802007890468844), (660, 0.04499687263819653), (661, 0.030973529155440715), (662, 0.021975644971161862), (663, 0.022739007976140077), (664, 0.04168869890456176), (665, 0.035098231800197714), (666, 0.04453700622127005), (667, 0.013880118046221754), (668, 0.03380216744548564), (669, 0.0222307644665175), (670, 0.013287749187893551), (671, 0.03405272921947038), (672, 0.02780616231623158), (673, 0.021696815692437022), (674, 0.020363451298649585), (675, 0.014582108465326926), (676, 0.02819208905244659), (677, 0.022588000756341712), (678, 0.0334096657549455), (679, 0.022850467938458862), (680, 0.01806731973214876), (681, 0.021513787141106494), (682, 0.032613810991346595), (683, 0.02187352023213666), (684, 0.019716417455027554), (685, 0.015020245379657958), (686, 0.040681471357844015), (687, 0.04535150423393879), (688, 0.014378063392525578), (689, 0.03223764899559226), (690, 0.0387853559426177), (691, 0.03488729554141469), (692, 0.0481509407253788), (693, 0.02520480737385557), (694, 0.047912246180932885), (695, 0.03420657159170206), (696, 0.022878703877387066), (697, 0.03504205548054982), (698, 0.02940615793041253), (699, 0.02313414340430151), (700, 0.05086984712224833), (701, 0.02598776774570942), (702, 0.050375625887683816), (703, 0.05965712129798682), (704, 0.018868891144423763), (705, 0.010278343761499444), (706, 0.046993978253695834), (707, 0.038959626332612754), (708, 0.02392701207804188), (709, 0.025485472907631306), (710, 0.044716078557504355), (711, 0.038628946498830204), (712, 0.017297742696321564), (713, 0.02180412541452453), (714, 0.03843041079927266), (715, 0.0383122109522566), (716, 0.015141677001118431), (717, 0.04355542528884711), (718, 0.008825976647665715), (719, 0.02243090190610792), (720, 0.040333791470542654), (721, 0.006657032353509609), (722, 0.03182074528179121), (723, 0.0241523255154641), (724, 0.03947315739697361), (725, 0.04564532320388121), (726, 0.015640274493945075), (727, 0.030765254554356837), (728, 0.04120924585334739), (729, 0.02761801625225371), (730, 0.018758317653155214), (731, 0.030872617411134652), (732, 0.02185338540990612), (733, 0.012377992901550604), (734, 0.018285930080327778), (735, 0.054390399928686196), (736, 0.008232337585701147), (737, 0.014423066169953144), (738, 0.017268759444154992), (739, 0.051844162491532696), (740, 0.01472524033755195), (741, 0.02128278445723582), (742, 0.03223524228578307), (743, 0.009103764478018162), (744, 0.03343640642080667), (745, 0.021974013089435966), (746, 0.02136947943400178), (747, 0.05579531985863452), (748, 0.043710846445945174), (749, 0.014461791657292028), (750, 0.016193845561290027), (751, 0.023797526315136604), (752, 0.03477161088658135), (753, 0.04038100768380596), (754, 0.04487372604399389), (755, 0.034277715250706976), (756, 0.018805025792183606), (757, 0.02532483571308551), (758, 0.029345503283638722), (759, 0.005361129278375639), (760, 0.03602680432958032), (761, 0.015640734518654578), (762, 0.034901859628893965), (763, 0.018408496829480835), (764, 0.036471430265746674), (765, 0.014481712575355354), (766, 0.03800456738009121), (767, 0.010474633643628727), (768, 0.013235703687940945), (769, 0.012569877922658427), (770, 0.01651794330059317), (771, 0.051705876330342265), (772, 0.02225748142539194), (773, 0.021885143527046038), (774, 0.026669338065157002), (775, 0.027631419059082736), (776, 0.004053458846542592), (777, 0.10765655512689826), (778, 0.03253344731805126), (779, 0.04424825257276766), (780, 0.04930263601929847), (781, 0.05089021204337524), (782, 0.02444855289054754), (783, 0.02483396914356849), (784, 0.007645917484293653), (785, 0.014366089712938065), (786, 0.009652651356045724), (787, 0.029467879830307072), (788, 0.01940725349263609), (789, 0.038795362191808944), (790, 0.040750007290680575), (791, 0.016191829251677173), (792, 0.030310929887915544), (793, 0.0249081360446803), (794, 0.023752076768533827), (795, 0.03958940509655042), (796, 0.021370754789793302), (797, 0.05083103204453203), (798, 0.02615198734404213), (799, 0.024452873800784692), (800, 0.062022832824460035), (801, 0.042223174073622215), (802, 0.01669165044975553), (803, 0.038360618956265254), (804, 0.03711024678880589), (805, 0.03718930822609713), (806, 0.02459372936375522), (807, 0.025568591738874564), (808, 0.017589368910662814), (809, 0.021717650008822344), (810, 0.03720216968988207), (811, 0.03174445817764521), (812, 0.01633129363383378), (813, 0.02989255103264658), (814, 0.03511342648735351), (815, 0.03504377384385696), (816, 0.008534433781014757), (817, 0.018981929633995916), (818, 0.031496341027623366), (819, 0.04049857845795776), (820, 0.06511018240243041), (821, 0.02410460684129246), (822, 0.03483192778773549), (823, 0.04408004288787962), (824, 0.028083034416034193), (825, 0.0404027033026828), (826, 0.021589611749089726), (827, 0.04214909265378592), (828, 0.01574926652297288), (829, 0.023166790360477432), (830, 0.047292659130941904), (831, 0.022015119058763313), (832, 0.024517835758308057), (833, 0.02352907644934494), (834, 0.025485761326591957), (835, 0.02123337439449671), (836, 0.04051714752988771), (837, 0.027561124972503362), (838, 0.01892831102655408), (839, 0.01835240602153854), (840, 0.03920646818504236), (841, 0.02412373716957755), (842, 0.02550175365411575), (843, 0.02733254698267774), (844, 0.032749796999592864), (845, 0.03924274053519342), (846, 0.022475178138604425), (847, 0.017750599376931443), (848, 0.03123510059205274), (849, 0.057346227819183464), (850, 0.03402347854836531), (851, 0.02019625036407355), (852, 0.04096487569180105), (853, 0.033383611190611506), (854, 0.03964230028835692), (855, 0.03336428255256656), (856, 0.029405151199736843), (857, 0.022042277192491674), (858, 0.03404312063661328), (859, 0.030347665074141144), (860, 0.025941632348291277), (861, 0.045319719241651436), (862, 0.0307798184055899), (863, 0.02958724235009861), (864, 0.02860212838525481), (865, 0.019747644933082523), (866, 0.07263159079612505), (867, 0.02300357782728218), (868, 0.05822535114164864), (869, 0.030044407219181144), (870, 0.04153106156845564), (871, 0.016354868655867834), (872, 0.041603933222169535), (873, 0.03743556688479046), (874, 0.04940985657494683), (875, 0.051294299604772234), (876, 0.018948355013806234), (877, 0.04144084961283067), (878, 0.0303423926123589), (879, 0.035269039117186776), (880, 0.02822665971727043), (881, 0.029428184376712158), (882, 0.037232715298888074), (883, 0.036352617662449085), (884, 0.03156858012333815), (885, 0.017593301405670576), (886, 0.027406559627983277), (887, 0.02637745909036092), (888, 0.043318085642853645), (889, 0.033795706833999004), (890, 0.01603011875418943), (891, 0.03331125371099902), (892, 0.038460173127704694), (893, 0.0265505615519031), (894, 0.0448928815212467), (895, 0.03804848375135026), (896, 0.0573916063827015), (897, 0.022188738491752593), (898, 0.03577668506152486), (899, 0.02313680771653249), (900, 0.028236465605319713), (901, 0.007539438508858208), (902, 0.036080855239775535), (903, 0.03185779308672762), (904, 0.016216273625363303), (905, 0.0432305694040055), (906, 0.033440077736809314), (907, 0.048360189625752725), (908, 0.02067016947345341), (909, 0.028963752513152932), (910, 0.009463546981863288), (911, 0.03857122782962141), (912, 0.029573614580400878), (913, 0.04699496248768598), (914, 0.01694745715516835), (915, 0.052897056763245305), (916, 0.023764259840969606), (917, 0.020534234734424305), (918, 0.051614385062577005), (919, 0.03066066364531823), (920, 0.014306208744076083), (921, 0.035944812638402976), (922, 0.046418162372641666), (923, 0.024626807880706644), (924, 0.02683836496971492), (925, 0.030304199914987888), (926, 0.01580988406801585), (927, 0.020593197707218545), (928, 0.03331619189703395), (929, 0.025341174218609774), (930, 0.028269932480346847), (931, 0.016763664906592916), (932, 0.033686722348119764), (933, 0.017675857241942143), (934, 0.05782654387426613), (935, 0.031440211204189716), (936, 0.045807429193495106), (937, 0.023793658804813347), (938, 0.03188399262799039), (939, 0.01721625543092426), (940, 0.038652825646323), (941, 0.015022606406769196), (942, 0.02083859766517459), (943, 0.02280873037066638), (944, 0.043692622636068115), (945, 0.039796656582986485), (946, 0.0518094010516442), (947, 0.017682731653408893), (948, 0.019218469209893597), (949, 0.008327801606073928), (950, 0.03161102904167711), (951, 0.00918358684597071), (952, 0.05966757688647249), (953, 0.03018822578651218), (954, 0.04505770968812611), (955, 0.02152357847042016), (956, 0.0543922410714782), (957, 0.02761927347200331), (958, 0.02731737523406412), (959, 0.03295798324740012), (960, 0.03471746281449673), (961, 0.018357492634717774), (962, 0.012116981834252366), (963, 0.055533912317202706), (964, 0.023691798718432806), (965, 0.029613296895943286), (966, 0.027141968867457084), (967, 0.014203217686234166), (968, 0.04554400090577693), (969, 0.018810132005464997), (970, 0.027783904906531688), (971, 0.02782202756313257), (972, 0.008862817609087033), (973, 0.017216207142046882), (974, 0.018630927776438252), (975, 0.02587771368708644), (976, 0.036288023291678496), (977, 0.04890480833171979), (978, 0.0342204481951645), (979, 0.023690236500121833), (980, 0.03883462686111083), (981, 0.0331236110860092), (982, 0.010577132395980108), (983, 0.03826627106595085), (984, 0.0244627039977095), (985, 0.030777788537620056), (986, 0.024168545390596742), (987, 0.042659261957536866), (988, 0.05759930331919739), (989, 0.03915203105581235), (990, 0.020026926135483708), (991, 0.037060273352531446), (992, 0.038163832103600775), (993, 0.013639278625504202), (994, 0.07385151458442017), (995, 0.026791490905751236), (996, 0.06541060707570696), (997, 0.02992064611082019), (998, 0.006154713802238367), (999, 0.031309090027634566), (1000, 0.02801996875968772), (1001, 0.04613402553617159), (1002, 0.03443734466419807), (1003, 0.01850427054960532), (1004, 0.03718823295286381), (1005, 0.023816188839549016), (1006, 0.05424777002137585), (1007, 0.034993755433880634), (1008, 0.02887927841144092), (1009, 0.03530494321006301), (1010, 0.034231968309053014), (1011, 0.040235262209839306), (1012, 0.0312942434854108), (1013, 0.027105688974861833), (1014, 0.043934567630923835), (1015, 0.031930103021445146), (1016, 0.014428900170879234), (1017, 0.029988248930349966), (1018, 0.027288189742925878), (1019, 0.02921808499772879), (1020, 0.034017515215538564), (1021, 0.03075370613101033), (1022, 0.03473253316795514), (1023, 0.05789450707172736), (1024, 0.03188773494674642), (1025, 0.02503253181061524), (1026, 0.02267654352204307), (1027, 0.030173491774422623), (1028, 0.04078714124026108), (1029, 0.03072883287199614), (1030, 0.009405198864980863), (1031, 0.021871140598423634), (1032, 0.026910546410683092), (1033, 0.023764949498683106), (1034, 0.01631059690841741), (1035, 0.0187335594502382), (1036, 0.020251900708175927), (1037, 0.029222484911174188), (1038, 0.023088841835494256), (1039, 0.012790960057248425), (1040, 0.039587017828665666), (1041, 0.03399023947621253), (1042, 0.02976197483757571), (1043, 0.03144532204233204), (1044, 0.01623586415830868), (1045, 0.024625189084926738), (1046, 0.02551242889212056), (1047, 0.016279741186454384), (1048, 0.020369282062466507), (1049, 0.013439493589390426), (1050, 0.011515668179716469), (1051, 0.03702223268061024), (1052, 0.0407204344967219), (1053, 0.04599822187966196), (1054, 0.008429936163181644), (1055, 0.012135492320219429), (1056, 0.014028655642708245), (1057, 0.017442272920950113), (1058, 0.04540227831040111), (1059, 0.0517161277476994), (1060, 0.03624622395695997), (1061, 0.04127502031142005), (1062, 0.027602155050853065), (1063, 0.033591436280051824), (1064, 0.01166890309560429), (1065, 0.05351435648502945), (1066, 0.0428268899645292), (1067, 0.04030640857054987), (1068, 0.025522265211112196), (1069, 0.04763929110323388), (1070, 0.028076931260234174), (1071, 0.02656855740079935), (1072, 0.02333468122509268), (1073, 0.02470574065448231), (1074, 0.040751450922440494), (1075, 0.03141165486996184), (1076, 0.012355223568332435), (1077, 0.02937155409610146), (1078, 0.042431606528849065), (1079, 0.03547375528050628), (1080, 0.021130088357856895), (1081, 0.014829555351623773), (1082, 0.062241537506373755), (1083, 0.04028306018239898), (1084, 0.031910159312888625), (1085, 0.02033607368026083), (1086, 0.037779212574988), (1087, 0.028167103910864376), (1088, 0.0437739227567775), (1089, 0.03660166176234949), (1090, 0.0252279838645872), (1091, 0.030220791573777293), (1092, 0.016688254952023664), (1093, 0.04427057689697896), (1094, 0.030660126275987798), (1095, 0.04367510249026012), (1096, 0.03417012788756471), (1097, 0.02940047958584715), (1098, 0.028785876039396623), (1099, 0.021236054861489582), (1100, 0.03119477989889672), (1101, 0.033318014764758194), (1102, 0.04905473384764399), (1103, 0.021161580527292518), (1104, 0.058504781380970435), (1105, 0.03760476893442435), (1106, 0.01719290957270122), (1107, 0.02983477732390327), (1108, 0.025573539093632604), (1109, 0.018393677174126186), (1110, 0.012202779094090219), (1111, 0.054491980024399866), (1112, 0.01589351076982867), (1113, 0.05282787487620748), (1114, 0.02332980069450954), (1115, 0.008635739256105338), (1116, 0.013818603174907754), (1117, 0.0365843501992855), (1118, 0.03586227273904646), (1119, 0.06012531812200352), (1120, 0.024146115320906103), (1121, 0.02098607715643967), (1122, 0.04178835389527251), (1123, 0.023182808611687426), (1124, 0.025161649984226275), (1125, 0.024903658423216284), (1126, 0.010793978465624342), (1127, 0.04157565819440921), (1128, 0.02366518833549311), (1129, 0.03148752587637941), (1130, 0.012963262939982923), (1131, 0.044558174555943554), (1132, 0.03428589844852868), (1133, 0.01420445889927786), (1134, 0.02035502567701591), (1135, 0.03761569777651266), (1136, 0.01928527947760722), (1137, 0.030687374699882555), (1138, 0.022217515895382095), (1139, 0.011646798779979027), (1140, 0.03561593358117724), (1141, 0.016244812561655757), (1142, 0.03429849407247076), (1143, 0.012754355231585272), (1144, 0.01022840441335288), (1145, 0.021938286856258836), (1146, 0.02003326974535439), (1147, 0.012176667584604083), (1148, 0.03874487896909297), (1149, 0.04438540904333562), (1150, 0.025976124770949606), (1151, 0.03501609849761548), (1152, 0.033672980475750694), (1153, 0.04493432528927889), (1154, 0.02858936047561475), (1155, 0.016788288252269044), (1156, 0.012032564364614445), (1157, 0.011629900486445646), (1158, 0.03899383636420807), (1159, 0.036253278043592414), (1160, 0.047386654671862136), (1161, 0.014090075447299543), (1162, 0.034405870835021224), (1163, 0.05505948122413862), (1164, 0.028045536923903592), (1165, 0.019046227803776943), (1166, 0.03208289209256641), (1167, 0.031594451023564306), (1168, 0.021285646069559898), (1169, 0.024138778021178142), (1170, 0.02521102363575961), (1171, 0.02372946816915094), (1172, 0.04378648903403485), (1173, 0.018718153325808232), (1174, 0.01887678294096444), (1175, 0.02911840608747197), (1176, 0.031805439813124926), (1177, 0.06395025701961886), (1178, 0.03141625036785731), (1179, 0.020492655226445798), (1180, 0.04220503365202493), (1181, 0.022444014088570278), (1182, 0.027536752848118733), (1183, 0.03678280659305571), (1184, 0.014527436673791664), (1185, 0.011738735516734048), (1186, 0.038465916038929106), (1187, 0.006250448882510791), (1188, 0.03332965936710844), (1189, 0.042779182914080116), (1190, 0.01781646003271621), (1191, 0.026057612357607195), (1192, 0.03483210137939825), (1193, 0.04882891205339674), (1194, 0.020095087911394874), (1195, 0.013031708550358826), (1196, 0.02014664425665387), (1197, 0.026954654294400304), (1198, 0.022589173036161907), (1199, 0.03343135042575979), (1200, 0.045071767235849665), (1201, 0.043354963031069914), (1202, 0.014528243899379158), (1203, 0.008932941408832901), (1204, 0.03859771968361622), (1205, 0.017785198306589808), (1206, 0.04979133018513048), (1207, 0.08788276989638402), (1208, 0.011327310627294243), (1209, 0.029074366103139293), (1210, 0.04826410193629904), (1211, 0.023662155762611554), (1212, 0.012101998457511746), (1213, 0.027124485425447792), (1214, 0.03037446779357875), (1215, 0.05082302383478888), (1216, 0.037144984280914194), (1217, 0.014910237458549554), (1218, 0.03267748569812692), (1219, 0.03763898696237041), (1220, 0.010542303507037293), (1221, 0.02347631200194318), (1222, 0.018438747120331906), (1223, 0.03023114479757818), (1224, 0.04998454422298646), (1225, 0.02538029769024049), (1226, 0.03188135169336099), (1227, 0.030767248978825323), (1228, 0.05493548100241816), (1229, 0.016088793682551332), (1230, 0.01646673336388549), (1231, 0.023005794878773834), (1232, 0.0246873564410122), (1233, 0.03658632058850637), (1234, 0.025372734791241868), (1235, 0.030999290130356346), (1236, 0.00904910332416992), (1237, 0.01811298195555179), (1238, 0.016412266695845015), (1239, 0.025424288315286755), (1240, 0.03113905012173006), (1241, 0.03201266946413379), (1242, 0.03951332581309588), (1243, 0.03201279832189451), (1244, 0.02884357300787595), (1245, 0.019479988754325234), (1246, 0.04523337791971922), (1247, 0.03946733590121497), (1248, 0.026314353250039738), (1249, 0.020309256554194494), (1250, 0.032194069840972825), (1251, 0.0528815115757488), (1252, 0.023442046542142027), (1253, 0.024911530343987704), (1254, 0.02811023417770215), (1255, 0.018917997894097826), (1256, 0.018887120686709395), (1257, 0.0233834376506578), (1258, 0.03310127855680729), (1259, 0.03277590000966587), (1260, 0.02536282568374899), (1261, 0.017764896362926077), (1262, 0.02657260462840508), (1263, 0.01874002576771491), (1264, 0.0232776354147354), (1265, 0.019274625239666464), (1266, 0.03491804230542549), (1267, 0.02328591516706103), (1268, 0.015488063683063208), (1269, 0.01935549953934449), (1270, 0.027628135597376115), (1271, 0.032067208312305244), (1272, 0.041192632154592686), (1273, 0.04673285895379332), (1274, 0.022049665734326186), (1275, 0.021474215100853095), (1276, 0.009642327490908374), (1277, 0.02638155725653746), (1278, 0.01605748291556599), (1279, 0.048712379828116076), (1280, 0.036244966201353784), (1281, 0.024992895108629242), (1282, 0.03334430729016978), (1283, 0.058854967972592445), (1284, 0.031357794361857184), (1285, 0.024479758293442233), (1286, 0.017228020153252765), (1287, 0.03180754680211241), (1288, 0.01165731373994708), (1289, 0.036504829257185505), (1290, 0.050337339271760276), (1291, 0.03600245437969214), (1292, 0.041677678534118336), (1293, 0.046117876075957936), (1294, 0.023814733554059556), (1295, 0.022640891213333243), (1296, 0.023754056607902817), (1297, 0.01696508541402058), (1298, 0.008045168578582972), (1299, 0.057207851728519166), (1300, 0.029409947860119173), (1301, 0.02618446981282319), (1302, 0.04459288093382519), (1303, 0.033327306348758336), (1304, 0.03851214078036001), (1305, 0.038465846200681594), (1306, 0.034148674183674115), (1307, 0.034084031401014146), (1308, 0.010867035746243432), (1309, 0.03798267894853056), (1310, 0.02551862101955968), (1311, 0.016070582974906326), (1312, 0.014111740976321747), (1313, 0.014281239606976102), (1314, 0.02262384662796434), (1315, 0.030139931439447196), (1316, 0.025499892060092552), (1317, 0.020286319519912145), (1318, 0.03446907961910272), (1319, 0.012579040510446587), (1320, 0.03420196816161203), (1321, 0.060424959269841844), (1322, 0.020471764169319555), (1323, 0.03144887467728217), (1324, 0.02697456985114139), (1325, 0.012595728360202747), (1326, 0.02971807195323355), (1327, 0.01686457890004496), (1328, 0.032252509778242365), (1329, 0.012201309019885111), (1330, 0.028499459486896025), (1331, 0.030284608452334556), (1332, 0.039315401421226415), (1333, 0.01846386403543334), (1334, 0.018067092454388402), (1335, 0.025187473300174987), (1336, 0.018751376810073453), (1337, 0.03482720574490628), (1338, 0.006218871189136114), (1339, 0.09133910052481246), (1340, 0.024676387335240062), (1341, 0.0407338593505721), (1342, 0.04531236517099736), (1343, 0.024229852808455066), (1344, 0.029844199341214322), (1345, 0.03849538005885368), (1346, 0.026757235002002996), (1347, 0.033329778715518295), (1348, 0.028383843739045345), (1349, 0.029951498623598586), (1350, 0.01334828889179789), (1351, 0.03078588015162123), (1352, 0.0231837930447455), (1353, 0.018484716574356918), (1354, 0.028438075394069343), (1355, 0.03596103912718515), (1356, 0.024439945216550792), (1357, 0.054145140843032055), (1358, 0.02254826140194368), (1359, 0.022748319656380283), (1360, 0.011800497029532113), (1361, 0.015357259851658717), (1362, 0.03335679240892221), (1363, 0.019458578573642124), (1364, 0.014999607598581337), (1365, 0.03794507621300029), (1366, 0.01713601709266462), (1367, 0.012598086471272819), (1368, 0.022529719994512865), (1369, 0.020980307316372272), (1370, 0.017495253149176705), (1371, 0.014144309367537525), (1372, 0.010586710762195231), (1373, 0.037139902302217365), (1374, 0.020921561048237673), (1375, 0.041426589927482146), (1376, 0.031690729452722916), (1377, 0.025736160331290024), (1378, 0.03064176774926976), (1379, 0.06456489925843817), (1380, 0.01756004235115878), (1381, 0.036479578747205574), (1382, 0.0242444848888897), (1383, 0.020482801587881783), (1384, 0.018042704614156378), (1385, 0.017541161497321295), (1386, 0.02194470655120908), (1387, 0.014627055791633783), (1388, 0.05174000076350729), (1389, 0.021195365147185143), (1390, 0.020047976191721432), (1391, 0.029941114650452), (1392, 0.028062554927777025), (1393, 0.024185174823009865), (1394, 0.03203942449787065), (1395, 0.014628023013403374), (1396, 0.02923279599194164), (1397, 0.04713223310077516), (1398, 0.04730212054681461), (1399, 0.010899828739463243), (1400, 0.028550893620546365), (1401, 0.01751282939033716), (1402, 0.01840946999461419), (1403, 0.025136649979692956), (1404, 0.04945470466296499), (1405, 0.03387636533043212), (1406, 0.02019363992509581), (1407, 0.020021598002605265), (1408, 0.038137279687755404), (1409, 0.036208306733917464), (1410, 0.040488755052868815), (1411, 0.016799987798062622), (1412, 0.042307632222513214), (1413, 0.029187730232386563), (1414, 0.030461655413536955), (1415, 0.0547365860425599), (1416, 0.017756482633053385), (1417, 0.034746109177550354), (1418, 0.02887408270582223), (1419, 0.026826697264269127), (1420, 0.02488696984314315), (1421, 0.03905779711277352), (1422, 0.02109127952504078), (1423, 0.018571747045168452), (1424, 0.013608264540028413), (1425, 0.035300477247020456), (1426, 0.018548599607531933), (1427, 0.0196367633183653), (1428, 0.037109490352268994), (1429, 0.011001873946698045), (1430, 0.0271692802668529), (1431, 0.039244754781060716), (1432, 0.06562273091551661), (1433, 0.04052201531043971), (1434, 0.01882892146327332), (1435, 0.04087747606104762), (1436, 0.053414888459047), (1437, 0.03769380307735561), (1438, 0.028354844979488945), (1439, 0.022340891199621113), (1440, 0.009974340044062382), (1441, 0.029924281256494448), (1442, 0.03199569895280623), (1443, 0.03171856522230909), (1444, 0.012831978772979716), (1445, 0.046666395248191904), (1446, 0.04179713333282089), (1447, 0.028636952917140843), (1448, 0.03717659339918647), (1449, 0.006720471423307735), (1450, 0.022341035276540414), (1451, 0.031136098518335046), (1452, 0.022437346213963205), (1453, 0.015744925898356913), (1454, 0.03399658238190744), (1455, 0.016760241449746582), (1456, 0.030565246064078976), (1457, 0.026669269789339974), (1458, 0.024433902983357212), (1459, 0.037815750195050915), (1460, 0.03656196962619247), (1461, 0.014399649424974221), (1462, 0.008127309539971723), (1463, 0.012670281754615632), (1464, 0.015650139148826087), (1465, 0.04629260371035484), (1466, 0.03209086369967247), (1467, 0.02693934163219369), (1468, 0.023038338705377054), (1469, 0.03308862390895949), (1470, 0.02635736120770529), (1471, 0.03873589369122499), (1472, 0.04107082630203506), (1473, 0.02264460520789217), (1474, 0.04325258593220645), (1475, 0.042780553545636604), (1476, 0.02261879145463642), (1477, 0.009261854899559772), (1478, 0.011132530840282836), (1479, 0.011950570174833152), (1480, 0.03883521644772043), (1481, 0.03644228297865577), (1482, 0.06790070655114214), (1483, 0.01767768996916418), (1484, 0.028389564903597328), (1485, 0.023848544060735045), (1486, 0.020489032008587447), (1487, 0.0340241640022267), (1488, 0.023925202205949497), (1489, 0.015029906777379545), (1490, 0.028632171367272034), (1491, 0.019527221343862457), (1492, 0.04733160796328363), (1493, 0.0613446788626954), (1494, 0.04715139600507145), (1495, 0.027868956651924588), (1496, 0.025527737921630832), (1497, 0.028540916809166605), (1498, 0.024507898670815882), (1499, 0.013293765491856365), (1500, 0.014595630806230801), (1501, 0.033568918219454985), (1502, 0.08053824415586029), (1503, 0.04516137698107959), (1504, 0.021681279578870474), (1505, 0.04688145000323338), (1506, 0.02864311420736882), (1507, 0.02433380094548382), (1508, 0.010230259132188092), (1509, 0.031219656760097653), (1510, 0.043548164122204656), (1511, 0.032867771434843596), (1512, 0.03657175569511391), (1513, 0.020689470902679988), (1514, 0.007906260538441717), (1515, 0.08735583045409828), (1516, 0.03130955936230474), (1517, 0.03622271124024412), (1518, 0.025481736506828036), (1519, 0.03747837034093772), (1520, 0.04113338101420186), (1521, 0.0316468814265805), (1522, 0.02627868799850436), (1523, 0.037317795000690095), (1524, 0.021698098708346766), (1525, 0.019385260769167516), (1526, 0.04816926952723884), (1527, 0.029480832268505987), (1528, 0.036167232334802554), (1529, 0.03649872814521097), (1530, 0.030357637996480086), (1531, 0.04856303529165015), (1532, 0.04779112582796729), (1533, 0.020136793724607003), (1534, 0.02240154651655776), (1535, 0.06311302379120616), (1536, 0.023541636181557565), (1537, 0.014092386180460749), (1538, 0.038743334971647794), (1539, 0.03400386183686719), (1540, 0.034231249828869735), (1541, 0.01598276619024556), (1542, 0.03806523214958837), (1543, 0.04933952819797702), (1544, 0.0152711635458372), (1545, 0.027271333843896645), (1546, 0.0201572584092483), (1547, 0.027540878231486245), (1548, 0.052084000017953866), (1549, 0.023856699939939517), (1550, 0.034473266152493), (1551, 0.06206949877016399), (1552, 0.0320890186808881), (1553, 0.03170311998886088), (1554, 0.020629542704399907), (1555, 0.03772076539581324), (1556, 0.04158832284420937), (1557, 0.03154892605389238), (1558, 0.04415530305826129), (1559, 0.047488823440426), (1560, 0.021955338690768534), (1561, 0.015364638262613662), (1562, 0.038415959678959326), (1563, 0.02125243850340515), (1564, 0.010388158669914396), (1565, 0.03522668679119314), (1566, 0.04507165593355956), (1567, 0.04217104311210478), (1568, 0.01593430217385532), (1569, 0.009324478178764983), (1570, 0.02528749645002395), (1571, 0.02059683865896933), (1572, 0.01541325680668694), (1573, 0.019329374844361563), (1574, 0.01310251097278338), (1575, 0.03420781301393049), (1576, 0.025632120505916352), (1577, 0.01599334740148197), (1578, 0.014840243053915637), (1579, 0.03058020274363918), (1580, 0.021465772916885457), (1581, 0.026815411518245503), (1582, 0.022067790007438675), (1583, 0.012142745965233234), (1584, 0.047679082253703424), (1585, 0.027406103022789948), (1586, 0.015925274535246142), (1587, 0.039667292215270794), (1588, 0.020018553462874962), (1589, 0.017772676948089178), (1590, 0.0238639551410155), (1591, 0.06998158924707831), (1592, 0.02567359191461239), (1593, 0.044429534375731855), (1594, 0.020159757308949842), (1595, 0.06412465098040136), (1596, 0.01185400711651496), (1597, 0.021479668468872136), (1598, 0.045831368928041696), (1599, 0.01693568146566382), (1600, 0.02745554861357212), (1601, 0.03755544144949177), (1602, 0.0140719680106283), (1603, 0.015272034635053451), (1604, 0.03184612735194647), (1605, 0.009658829490598531), (1606, 0.013859768173057094), (1607, 0.026045619449110793), (1608, 0.031537466042473275), (1609, 0.021959481038140636), (1610, 0.03892092196276561), (1611, 0.04335012918630221), (1612, 0.025298489765213095), (1613, 0.024266164674178473), (1614, 0.032289956529554444), (1615, 0.037565860479847175), (1616, 0.020451854772466173), (1617, 0.024326582746908635), (1618, 0.019432724974593033), (1619, 0.024851342774297746), (1620, 0.03397092860615968), (1621, 0.019481703809701247), (1622, 0.01851323173789987), (1623, 0.025002544180099368), (1624, 0.019838593215997687), (1625, 0.015735250943106842), (1626, 0.03636566164497904), (1627, 0.017404454300026607), (1628, 0.0150464590986229), (1629, 0.03445830338946593), (1630, 0.030642755765326143), (1631, 0.01114361356970578), (1632, 0.023010272204080973), (1633, 0.017076432097629945), (1634, 0.06484756550225931), (1635, 0.025511980137433932), (1636, 0.027447846074057782), (1637, 0.016619318517881097), (1638, 0.03370639182179445), (1639, 0.03415163743104086), (1640, 0.030978004823390966), (1641, 0.02730022423476894), (1642, 0.017266892325990917), (1643, 0.013459390366631173), (1644, 0.020927443471708697), (1645, 0.029439080588830043), (1646, 0.025514228373886477), (1647, 0.02408257814704294), (1648, 0.025939895906482498), (1649, 0.01766330386450533), (1650, 0.034665215519024385), (1651, 0.037008476191739685), (1652, 0.02565519431295156), (1653, 0.01477543627542592), (1654, 0.028153474640721914), (1655, 0.04854419189452582), (1656, 0.03196416907832447), (1657, 0.023673662700498883), (1658, 0.06092126303407258), (1659, 0.014218964421287885), (1660, 0.02826664590518268), (1661, 0.05024997184068888), (1662, 0.041541565841555474), (1663, 0.03297492843553729), (1664, 0.011618543749047614), (1665, 0.031355000884357644), (1666, 0.020034325939988544), (1667, 0.020037736758062336), (1668, 0.02671410206112814), (1669, 0.008546792513297556), (1670, 0.04536459044437422), (1671, 0.017235176297365987), (1672, 0.019458243963369194), (1673, 0.017763774721475722), (1674, 0.01535612962474753), (1675, 0.021107716361954867), (1676, 0.033000084903899614), (1677, 0.0422666360934848), (1678, 0.013110680272562476), (1679, 0.026775414536428302), (1680, 0.025954170871169538), (1681, 0.03489789403822367), (1682, 0.03458782999108589), (1683, 0.016658135989347643), (1684, 0.03602056578442605), (1685, 0.014816594255545639), (1686, 0.022379053702577364), (1687, 0.019118055324651537), (1688, 0.024794727937257545), (1689, 0.016597255104960875), (1690, 0.03560711374887118), (1691, 0.03019768126861558), (1692, 0.026420611696116363), (1693, 0.02532560774609021), (1694, 0.03159222970712225), (1695, 0.03400336718123433), (1696, 0.028574841379834424), (1697, 0.02115648663940545), (1698, 0.02373323051288789), (1699, 0.04810131413228823), (1700, 0.038909722079321835), (1701, 0.029699599950315722), (1702, 0.03475822991329274), (1703, 0.025019072897053636), (1704, 0.02581317526400958), (1705, 0.019252618498206753), (1706, 0.02848279752361921), (1707, 0.03004606558738486), (1708, 0.018886032672906748), (1709, 0.03448509093819923), (1710, 0.0253548383450964), (1711, 0.014710582719737318), (1712, 0.027262564003628833), (1713, 0.033360913005665585), (1714, 0.02923421580134524), (1715, 0.021639284334202823), (1716, 0.013758248796291691), (1717, 0.024777272833745215), (1718, 0.027815396783452195), (1719, 0.029632808126832548), (1720, 0.021144899279783764), (1721, 0.021418786398587544), (1722, 0.03817082872870296), (1723, 0.01957976077763725), (1724, 0.0079867824551389), (1725, 0.027898814666425267), (1726, 0.04961731141100832), (1727, 0.04212244138686885), (1728, 0.04963646051869012), (1729, 0.014207272233542963), (1730, 0.044139935638859394), (1731, 0.03839461639272633), (1732, 0.018990283627276186), (1733, 0.020306375277759716), (1734, 0.021132668810897023), (1735, 0.028638572836634367), (1736, 0.015763535142075336), (1737, 0.02470235191150088), (1738, 0.02851488082706292), (1739, 0.01825225039563508), (1740, 0.022290917587729633), (1741, 0.01127532884462561), (1742, 0.04303433611678515), (1743, 0.02714019526310457), (1744, 0.023156741060497803), (1745, 0.00840017450851912), (1746, 0.026951840016539517), (1747, 0.0169729951607544), (1748, 0.03393024501373426), (1749, 0.022710128171236705), (1750, 0.02212469261947886), (1751, 0.023449178400403673), (1752, 0.010142190347697458), (1753, 0.014993338203801216), (1754, 0.019168844101863626), (1755, 0.045405440514322944), (1756, 0.012029137150721236), (1757, 0.0127314297876596), (1758, 0.02459497408716503), (1759, 0.016062053729419608), (1760, 0.031461739221637156), (1761, 0.030175143973899414), (1762, 0.010414130727334358), (1763, 0.03743309703600834), (1764, 0.034565791988676355), (1765, 0.03231266187353928), (1766, 0.04245974383114675), (1767, 0.042147498666286726), (1768, 0.011933409744527161), (1769, 0.04327199109633576), (1770, 0.026748312073858915), (1771, 0.029257514926404295), (1772, 0.019058934469336857), (1773, 0.03157747433272406), (1774, 0.03022208667020388), (1775, 0.016709000984613667), (1776, 0.03252081884781627), (1777, 0.038477020865808044), (1778, 0.023272500352838746), (1779, 0.03666972306602075), (1780, 0.032242821461360156), (1781, 0.023255917906327757), (1782, 0.012253718810269855), (1783, 0.022096296056309896), (1784, 0.025418150792953783), (1785, 0.013962618938672467), (1786, 0.021930801850362964), (1787, 0.020376081267048252), (1788, 0.0375213662819598), (1789, 0.015154335917870559), (1790, 0.02027845701619333), (1791, 0.015204215293894858), (1792, 0.025497256201361333), (1793, 0.020787824587651764), (1794, 0.011931646032078485), (1795, 0.06947200759595248), (1796, 0.017103949321433793), (1797, 0.02512939721054631), (1798, 0.04107572500019724), (1799, 0.030288718315783985), (1800, 0.0160997780733629), (1801, 0.020743081639259572), (1802, 0.026749514040909955), (1803, 0.01308176140376754), (1804, 0.030802242445271567), (1805, 0.020604407434231413), (1806, 0.05831214166621024), (1807, 0.009806281671515954), (1808, 0.04355316407274747), (1809, 0.013904209039156186), (1810, 0.02768672253232952), (1811, 0.033989720261273344), (1812, 0.021322954463034553), (1813, 0.007303608498626212), (1814, 0.032426580360231154), (1815, 0.02985557522147029), (1816, 0.046124717212783196), (1817, 0.03218525951152512), (1818, 0.027667903764721866), (1819, 0.023404615570515944), (1820, 0.028299923725988375), (1821, 0.03906454495251699), (1822, 0.021367104920484156), (1823, 0.032025804832315666), (1824, 0.024111780069580886), (1825, 0.015474392819131372), (1826, 0.009824913557666837), (1827, 0.05092317045218711), (1828, 0.012163370620798064), (1829, 0.06481524547457246), (1830, 0.02700446563916849), (1831, 0.03965523292790909), (1832, 0.034836756464339105), (1833, 0.014649947304972624), (1834, 0.03261125408145665), (1835, 0.024806949673029714), (1836, 0.021504837387722985), (1837, 0.04064120854784771), (1838, 0.03137331096998375), (1839, 0.014460845320294907), (1840, 0.02062722058550854), (1841, 0.03858381430669942), (1842, 0.028001577873152), (1843, 0.027334080137149035), (1844, 0.018822700817657786), (1845, 0.02303828650914278), (1846, 0.03018523639921094), (1847, 0.015124347048488652), (1848, 0.029810630190288203), (1849, 0.026544027851742823), (1850, 0.024241836135471425), (1851, 0.02505287982925279), (1852, 0.03357709484973748), (1853, 0.06992464555711476), (1854, 0.028825848380560366), (1855, 0.02910774473629587), (1856, 0.016896436521107294), (1857, 0.02239832986760948), (1858, 0.026302489018812037), (1859, 0.015576065174338963), (1860, 0.050088352525857284), (1861, 0.030454553366694295), (1862, 0.026773362247138496), (1863, 0.024455625612347317), (1864, 0.07435175787499612), (1865, 0.02112308103178168), (1866, 0.025975873734819067), (1867, 0.06873363302547138), (1868, 0.015606385099116805), (1869, 0.027161646092524482), (1870, 0.032036835194962414), (1871, 0.011662619236776113), (1872, 0.02755724289490208), (1873, 0.038946446558026586), (1874, 0.050883655477020985), (1875, 0.020194560050998185), (1876, 0.027903284997631762), (1877, 0.03980642317811436), (1878, 0.024559461560039034), (1879, 0.02319986675987174), (1880, 0.09557834003046854), (1881, 0.020142022246027028), (1882, 0.02659557224599663), (1883, 0.009115193687183339), (1884, 0.03418904415876474), (1885, 0.006398559139545729), (1886, 0.031110927504895535), (1887, 0.030983576100086802), (1888, 0.025805142026356073), (1889, 0.022045529084428295), (1890, 0.03736803571139245), (1891, 0.017957890893459044), (1892, 0.0136646400321753), (1893, 0.013692514750044847), (1894, 0.028984512284025588), (1895, 0.018562201625769176), (1896, 0.028338899651352962), (1897, 0.03185963512051439), (1898, 0.04915962736114065), (1899, 0.015141224234142358), (1900, 0.02192934202594001), (1901, 0.04524677582295884), (1902, 0.0470122546809442), (1903, 0.029260143604496937), (1904, 0.0567261685823732), (1905, 0.016988702124441632), (1906, 0.029979730916426126), (1907, 0.01872958586667029), (1908, 0.03713426502290986), (1909, 0.01401020194482004), (1910, 0.036896355896248546), (1911, 0.03791135780453114), (1912, 0.028647518430935267), (1913, 0.030485630798294208), (1914, 0.011651203774826955), (1915, 0.03756247044822585), (1916, 0.015307533150288485), (1917, 0.01937622659104347), (1918, 0.02916209778373798), (1919, 0.02112920508892151), (1920, 0.030086631379131507), (1921, 0.02826630803149291), (1922, 0.02701637961695901), (1923, 0.02459039545184587), (1924, 0.030696340290658913), (1925, 0.027130135456054177), (1926, 0.02453060580257528), (1927, 0.02281558840828883), (1928, 0.02259631963190283), (1929, 0.019777858140775473), (1930, 0.03128181049786182), (1931, 0.043061287389477516), (1932, 0.02981660554948769), (1933, 0.02197865836272231), (1934, 0.03842597378378478), (1935, 0.06873726269229215), (1936, 0.044958226029644346), (1937, 0.03659134951256506), (1938, 0.0186801725920803), (1939, 0.03393397500407931), (1940, 0.0226416787807215), (1941, 0.034176448694404955), (1942, 0.02966575954451208), (1943, 0.02746680072142318), (1944, 0.023445414510032538), (1945, 0.05102392895839928), (1946, 0.02296925326671348), (1947, 0.010374502591299318), (1948, 0.040679672548515663), (1949, 0.013740548113936858), (1950, 0.02151826674054172), (1951, 0.03202895565294578), (1952, 0.025412184313777092), (1953, 0.035095528343429064), (1954, 0.03889863600357816), (1955, 0.012552359740238102), (1956, 0.019025801448010946), (1957, 0.0332491861735878), (1958, 0.007411134608917117), (1959, 0.016022378051472986), (1960, 0.013250995296082672), (1961, 0.04036110493468546), (1962, 0.041562505434281465), (1963, 0.03294284240940818), (1964, 0.03020749371744758), (1965, 0.029587552295384078), (1966, 0.05371262663984192), (1967, 0.016859667127349407), (1968, 0.04414407690339432), (1969, 0.029972552534106738), (1970, 0.013795051822393633), (1971, 0.036799644304773046), (1972, 0.03355684257675669), (1973, 0.007323204292659916), (1974, 0.010104407674326724), (1975, 0.04886427992943345), (1976, 0.026151776697915838), (1977, 0.02589333260863871), (1978, 0.028723947405056585), (1979, 0.012926824065817044), (1980, 0.014192961313247808), (1981, 0.027620871704805573), (1982, 0.017225817421700724), (1983, 0.0296519330094957), (1984, 0.016939406048702487), (1985, 0.010422667118271361), (1986, 0.033049171005018266), (1987, 0.04926627300542916), (1988, 0.02301834764786248), (1989, 0.017617707195817418), (1990, 0.018091142355519823), (1991, 0.025456151865749264), (1992, 0.016204606038274734), (1993, 0.016695652504009378), (1994, 0.02372030952331388), (1995, 0.014791411617742386), (1996, 0.012936012535599058), (1997, 0.03591344977434939), (1998, 0.02010697800321416), (1999, 0.01286108347080064), (2000, 0.0317170222578043), (2001, 0.04663060633201688), (2002, 0.006279105067202629), (2003, 0.04066227220182898), (2004, 0.018886345603119362), (2005, 0.030223973358725918), (2006, 0.029422371077956158), (2007, 0.03266582771077016), (2008, 0.013328946980601535), (2009, 0.025870102060702286), (2010, 0.01947516292229414), (2011, 0.04182648697471646), (2012, 0.04087529869359928), (2013, 0.01617395635247687), (2014, 0.017392591477970596), (2015, 0.020535122393314488), (2016, 0.02859840670491763), (2017, 0.0351504869418592), (2018, 0.027590247524885113), (2019, 0.019759571190596337), (2020, 0.021247464975430706), (2021, 0.025596342725593826), (2022, 0.018419988626170787), (2023, 0.04301089115203252), (2024, 0.022270170664675036), (2025, 0.02782354313510271), (2026, 0.029806845331813943), (2027, 0.0508695194017076), (2028, 0.026725390243894098), (2029, 0.031936924884042615), (2030, 0.02124427882811457), (2031, 0.03383578162857563), (2032, 0.016816895929193762), (2033, 0.015251757024689819), (2034, 0.018577713660672436), (2035, 0.04676689035061768), (2036, 0.0260717599763769), (2037, 0.028526181220696455), (2038, 0.01739750890586236), (2039, 0.03536648469127825), (2040, 0.03474415040717911), (2041, 0.01774280161400376), (2042, 0.02060380308218839), (2043, 0.04841959096811503), (2044, 0.03310951803890609), (2045, 0.035784347112935704), (2046, 0.01668341345519778), (2047, 0.048986079785880446), (2048, 0.035106748728840655), (2049, 0.024821077665949022), (2050, 0.016787659439159025), (2051, 0.024573780001374036), (2052, 0.04342786005934201), (2053, 0.025500834801333274), (2054, 0.039948413912645406), (2055, 0.03040995834975383), (2056, 0.030549674426872973), (2057, 0.03404766944459364), (2058, 0.013047200967879148), (2059, 0.01033951017120144), (2060, 0.037587171750972787), (2061, 0.030770255683597116), (2062, 0.039485151256618535), (2063, 0.033107206920600485), (2064, 0.02233411426263727), (2065, 0.051526140079773984), (2066, 0.030981850045466483), (2067, 0.014742283879401113), (2068, 0.03220080147262742), (2069, 0.021383869319976392), (2070, 0.029473999001900893), (2071, 0.02123059318189944), (2072, 0.027215359470429305), (2073, 0.03461162396144903), (2074, 0.020599979457915522), (2075, 0.02249550707035009), (2076, 0.026642971536199857), (2077, 0.04537000678145896), (2078, 0.03150928168447986), (2079, 0.031879231544226345), (2080, 0.016576059134590614), (2081, 0.042483159005404024), (2082, 0.025445611553225497), (2083, 0.018995902964201523), (2084, 0.042363917358777876), (2085, 0.012651744823477994), (2086, 0.024358063888935706), (2087, 0.021691169775168075), (2088, 0.04595663974310136), (2089, 0.023255384008699448), (2090, 0.019118976528287302), (2091, 0.02749987227192083), (2092, 0.043398759452250815), (2093, 0.018988313976696803), (2094, 0.03523354703365441), (2095, 0.040832855385592566), (2096, 0.040675979264531405), (2097, 0.020677764278504273), (2098, 0.0459364671785125), (2099, 0.025082376219789475), (2100, 0.029601718027392213), (2101, 0.027758805511707826), (2102, 0.016768935022189468), (2103, 0.0241326454735178), (2104, 0.029393281081353622), (2105, 0.038019669521267146), (2106, 0.02788128285685212), (2107, 0.06149428305687318), (2108, 0.03495096282208883), (2109, 0.04951401779095512), (2110, 0.02599917592964422), (2111, 0.04298969247075152), (2112, 0.024818332106752508), (2113, 0.018775382046754045), (2114, 0.05028180812403247), (2115, 0.02448386367610622), (2116, 0.02578876944321613), (2117, 0.03643603230156076), (2118, 0.02861108491564375), (2119, 0.023953523772749424), (2120, 0.027866875414634375), (2121, 0.038127762904603256), (2122, 0.014309460622502204), (2123, 0.024492099790949382), (2124, 0.036068369259627836), (2125, 0.023822978569059353), (2126, 0.020697571984900055), (2127, 0.024449027234907328), (2128, 0.02641695717408879), (2129, 0.023168260626881213), (2130, 0.0368881781317731), (2131, 0.02472186220018084), (2132, 0.025813802512079834), (2133, 0.011872183345174968), (2134, 0.038279253220411646), (2135, 0.05038692463711828), (2136, 0.05926723477623838), (2137, 0.025456942576046367), (2138, 0.012662125421665064), (2139, 0.08493222381267464), (2140, 0.019718777356361905), (2141, 0.04152525488437247), (2142, 0.009681232237699398), (2143, 0.02966987424788896), (2144, 0.0431400497920571), (2145, 0.022551326486750532), (2146, 0.036918309683823584), (2147, 0.03353203125965731), (2148, 0.04565005882527748), (2149, 0.035587026010754565), (2150, 0.03123099717111118), (2151, 0.022295081415179087), (2152, 0.010209390730713254), (2153, 0.019912663912142345), (2154, 0.014403674348082878), (2155, 0.030446096740619953), (2156, 0.04931393722716659), (2157, 0.007997386992386666), (2158, 0.021668274048099023), (2159, 0.031862926946470874), (2160, 0.036929257565492465), (2161, 0.026987148906004926), (2162, 0.03408531321504), (2163, 0.024651625492505165), (2164, 0.012126794121590092), (2165, 0.01701871227992701), (2166, 0.027041828986044986), (2167, 0.017035933499833136), (2168, 0.05646405373671618), (2169, 0.03356485004217257), (2170, 0.030073843957200707), (2171, 0.04505230472563254), (2172, 0.028923885967992304), (2173, 0.026696618342082343), (2174, 0.02316063563442979), (2175, 0.046353081348300545), (2176, 0.016898312018180914), (2177, 0.02557131288963215), (2178, 0.02467948790335541), (2179, 0.050395135525093164), (2180, 0.030954173039803575), (2181, 0.05676884077697945), (2182, 0.052836659544647634), (2183, 0.010079970326616694), (2184, 0.03504026964331512), (2185, 0.041678423777124884), (2186, 0.004948259700718757), (2187, 0.030691574371957), (2188, 0.028714983358442643), (2189, 0.03627521174288057), (2190, 0.021625215711902332), (2191, 0.019468083168583034), (2192, 0.034175197020300814), (2193, 0.03968127453761647), (2194, 0.01495505198658609), (2195, 0.031097898580032445), (2196, 0.023483316523065217), (2197, 0.04926204960014892), (2198, 0.02858877216227395), (2199, 0.03269382020697383), (2200, 0.021981474669245844), (2201, 0.05550391435123951), (2202, 0.02067827809085367), (2203, 0.03666726049808027), (2204, 0.029652280723363175), (2205, 0.0446808659194338), (2206, 0.03344037422965206), (2207, 0.009957573829684763), (2208, 0.029248616580715887), (2209, 0.0414827204592188), (2210, 0.009845267587627441), (2211, 0.04037710022678281), (2212, 0.012011663122699561), (2213, 0.04624973583666702), (2214, 0.03733929822647516), (2215, 0.02905071045451679), (2216, 0.08812562527900601), (2217, 0.01584203864580025), (2218, 0.02368168854784388), (2219, 0.03101988196278419), (2220, 0.019365994747781615), (2221, 0.016243251336127675), (2222, 0.018071592425413712), (2223, 0.02003508862377907), (2224, 0.035753394022463275), (2225, 0.013470662571057869), (2226, 0.06091393151269637), (2227, 0.016307282925479206), (2228, 0.02065945835582527), (2229, 0.017834296701639905), (2230, 0.03832767762258232), (2231, 0.03081705737695802), (2232, 0.0397473062956381), (2233, 0.024096544031321027), (2234, 0.01645167539868751), (2235, 0.027055237906683904), (2236, 0.037580733041227506), (2237, 0.04386413323369981), (2238, 0.015839573369411067), (2239, 0.0411915843771379), (2240, 0.014277681225860062), (2241, 0.051376015195098886), (2242, 0.03470992337327187), (2243, 0.03598882783170749), (2244, 0.02679735001378688), (2245, 0.02701101401226902), (2246, 0.03272929983443507), (2247, 0.024399836597579973), (2248, 0.013782413433440496), (2249, 0.022421735343059947), (2250, 0.03610039718507272), (2251, 0.09158332205664611), (2252, 0.06335238741844548), (2253, 0.014291415031843932), (2254, 0.029231661251202967), (2255, 0.04112307916246842), (2256, 0.010312822706468078), (2257, 0.013820664232858056), (2258, 0.031192596774340383), (2259, 0.030600669115089275), (2260, 0.020218450331031788), (2261, 0.019985219669858573), (2262, 0.03830353859601983), (2263, 0.01898332907553334), (2264, 0.040470814778344084), (2265, 0.022533345147350316), (2266, 0.024219292474024393), (2267, 0.023934584532236642), (2268, 0.04879504397062106), (2269, 0.024769989744536352), (2270, 0.018203549649243027), (2271, 0.03092747643121602), (2272, 0.028139825063799098), (2273, 0.03193083699744864), (2274, 0.018204932086185264), (2275, 0.02481668939260386), (2276, 0.02763987443542343), (2277, 0.04729176247812861), (2278, 0.07279920962322743), (2279, 0.032551937100534056), (2280, 0.02501279204327436), (2281, 0.0077005928201004286), (2282, 0.00545552930190135), (2283, 0.03941478754015), (2284, 0.043685920072430114), (2285, 0.02928495539653058), (2286, 0.01151353297601552), (2287, 0.03182716481913879), (2288, 0.02462712797605337), (2289, 0.018972968419071742), (2290, 0.03834681227696237), (2291, 0.026137228483190313), (2292, 0.0228813468234172), (2293, 0.042514569435621916), (2294, 0.026104712948223016), (2295, 0.01771691537839804), (2296, 0.03968989316726268), (2297, 0.040068951228678186), (2298, 0.03466892760387107), (2299, 0.016759106015341845), (2300, 0.03379597850120359), (2301, 0.02067707623706192), (2302, 0.031529140461386926), (2303, 0.04200579664879816), (2304, 0.012984985864783569), (2305, 0.009467235552859958), (2306, 0.031208998016692264), (2307, 0.016553945421953813), (2308, 0.03666012465821497), (2309, 0.025228150352390396), (2310, 0.012695022382299196), (2311, 0.02991745025945742), (2312, 0.028156409808360924), (2313, 0.026911642269919125), (2314, 0.02720953344021779), (2315, 0.01663417196170841), (2316, 0.024512288066656503), (2317, 0.048529335873587), (2318, 0.02929616036293794), (2319, 0.023199016080729325), (2320, 0.02752908756848881), (2321, 0.03125489167565969), (2322, 0.05010523224936928), (2323, 0.008798948930368183), (2324, 0.04331508557778821), (2325, 0.028775835990766586), (2326, 0.036199742958523046), (2327, 0.01891319261199852), (2328, 0.0008171747635148736), (2329, 0.018588999753599768), (2330, 0.051205572867122164), (2331, 0.04064978668291602), (2332, 0.021430985016248873), (2333, 0.018453576854264075), (2334, 0.014496688497535954), (2335, 0.029786150846803645), (2336, 0.02168409792957879), (2337, 0.06028013651042319), (2338, 0.030109372039237258), (2339, 0.017321083621409515), (2340, 0.0220081645360289), (2341, 0.019516422717715674), (2342, 0.022314863205218208), (2343, 0.00840275563314909), (2344, 0.021731626276059055), (2345, 0.02078236372374312), (2346, 0.04631737754112602), (2347, 0.019170653776113725), (2348, 0.013765448157267518), (2349, 0.024872204618976938), (2350, 0.015208512261029752), (2351, 0.025649664847785757), (2352, 0.02935146717162562), (2353, 0.03923806817623873), (2354, 0.032045989850813424), (2355, 0.04146129147452984), (2356, 0.015529516746794543), (2357, 0.08757367881719004), (2358, 0.04734165552435699), (2359, 0.042873065470833124), (2360, 0.026368118558974665), (2361, 0.039708182406605334), (2362, 0.03304125437469441), (2363, 0.024722378584722326), (2364, 0.011523773993958743), (2365, 0.028693590348007465), (2366, 0.02873108415914331), (2367, 0.04578712152257767), (2368, 0.056916756573280214), (2369, 0.01776079668552627), (2370, 0.039415586811899724), (2371, 0.02302008036906623), (2372, 0.023452289054158696), (2373, 0.027231034729135642), (2374, 0.014740310962865277), (2375, 0.03814987848755679), (2376, 0.024472757991827264), (2377, 0.03234730817247781), (2378, 0.015290717151382319), (2379, 0.01720934571430552), (2380, 0.016367133493760903), (2381, 0.01644725953243052), (2382, 0.030925170146886942), (2383, 0.046306389521234344), (2384, 0.028070629527662073), (2385, 0.025328643630609292), (2386, 0.02059841415706875), (2387, 0.021429852168555457), (2388, 0.024065097921744213), (2389, 0.041011917588305066), (2390, 0.013688467190880526), (2391, 0.018846108056626298), (2392, 0.047962325330047746), (2393, 0.02784014252472622), (2394, 0.06724040560672458), (2395, 0.03928999081560965), (2396, 0.014078531826622494), (2397, 0.026514838908847732), (2398, 0.026272577066466598), (2399, 0.051513437794985746), (2400, 0.03203037523063039), (2401, 0.018619074119558023), (2402, 0.021935925184792142), (2403, 0.026022578340253108), (2404, 0.02180136755525424), (2405, 0.02690824517433345), (2406, 0.02172180960781157), (2407, 0.0022047775523827678), (2408, 0.0306060365730267), (2409, 0.04722508533557826), (2410, 0.03779635008755402), (2411, 0.012639559255214011), (2412, 0.01578682240239411), (2413, 0.05576505232643924), (2414, 0.029694607771475725), (2415, 0.04056119703315972), (2416, 0.02842868878987278), (2417, 0.02336158799848661), (2418, 0.021052910179124685), (2419, 0.03312460055085887), (2420, 0.017031198311557028), (2421, 0.02735439599588637), (2422, 0.020645239035879257), (2423, 0.04436016868177472), (2424, 0.021469830359302035), (2425, 0.03334829246394634), (2426, 0.039199850565461006), (2427, 0.022204280717661246), (2428, 0.016113909125434027), (2429, 0.017478336080466044), (2430, 0.03699531900722181), (2431, 0.021053264788548885), (2432, 0.044600013151080566), (2433, 0.015544878849211524), (2434, 0.02724094535419317), (2435, 0.020791283711958323), (2436, 0.010680102980886055), (2437, 0.04964687874942553), (2438, 0.021876597862283832), (2439, 0.018730138083540113), (2440, 0.08210793533365891), (2441, 0.007337225185372882), (2442, 0.024802339256316124), (2443, 0.04517725747748347), (2444, 0.028247024274194683), (2445, 0.04186662393466954), (2446, 0.03211236466099931), (2447, 0.03406550628316125), (2448, 0.009907394653606887), (2449, 0.01204134911912354), (2450, 0.022292541788182553), (2451, 0.014875312649351158), (2452, 0.008420136119216144), (2453, 0.021766035944595405), (2454, 0.03822646679848157), (2455, 0.01840865215617252), (2456, 0.015759063733187008), (2457, 0.028280368067055566), (2458, 0.007301413429302712), (2459, 0.030247569122486682), (2460, 0.023791606509908306), (2461, 0.04765332104084084), (2462, 0.009309408124233844), (2463, 0.016151046335179903), (2464, 0.0644158146011077), (2465, 0.01774641448347443), (2466, 0.025067538896801876), (2467, 0.023098831641759927), (2468, 0.00876545728201214), (2469, 0.017401938682744676), (2470, 0.016505137076732762), (2471, 0.0008068583808012074), (2472, 0.008732719544266918), (2473, 0.0343072768634005), (2474, 0.03064358386613749), (2475, 0.0490889376931711), (2476, 0.04255302849892843), (2477, 0.027355742902628415), (2478, 0.03956592896391774), (2479, 0.01884365308398107), (2480, 0.020399418524892746), (2481, 0.029556572690724373), (2482, 0.0305494151106398), (2483, 0.014985135540911519), (2484, 0.0253395205795948), (2485, 0.019936276892004647), (2486, 0.02268688473721878), (2487, 0.04529715681025428), (2488, 0.03420605659163434), (2489, 0.032873816962443674), (2490, 0.03267919606795036), (2491, 0.0299649979618673), (2492, 0.05625578123954404), (2493, 0.031305487838630824), (2494, 0.02727152997918477), (2495, 0.01141973805317284), (2496, 0.01272569752242176), (2497, 0.04219998250642385), (2498, 0.041426873806169905), (2499, 0.03623916669069138), (2500, 0.019296265222165876), (2501, 0.027238523696995375), (2502, 0.01939517108840818), (2503, 0.026913473876803512), (2504, 0.020209639433879486), (2505, 0.027538456701087583), (2506, 0.0708161457086297), (2507, 0.034204774840419866), (2508, 0.015378236655919789), (2509, 0.03295107849496794), (2510, 0.0314960259603306), (2511, 0.07847454665886167), (2512, 0.022371409578477844), (2513, 0.0402515228356422), (2514, 0.017767295167897643), (2515, 0.012793776965416786), (2516, 0.03368721610890021), (2517, 0.019674100194991124), (2518, 0.060183972153061066), (2519, 0.03180292918963525), (2520, 0.03402253752903897), (2521, 0.04243629642919992), (2522, 0.04022278464644916), (2523, 0.036281903890539334), (2524, 0.03475094020354849), (2525, 0.020368197858963495), (2526, 0.05740275073721263), (2527, 0.04333323953895231), (2528, 0.01793073795979624), (2529, 0.04172202385449732), (2530, 0.02323714186704518), (2531, 0.035987383669162175), (2532, 0.038631716184107164), (2533, 0.022934290348546455), (2534, 0.009726005851545432), (2535, 0.06774910318126436), (2536, 0.019865315464141282), (2537, 0.03371514585454066), (2538, 0.02873673568469688), (2539, 0.028100866251189172), (2540, 0.04322498961147495), (2541, 0.027425055206888576), (2542, 0.008011654955882443), (2543, 0.06161195364851683), (2544, 0.026737411225745814), (2545, 0.03867257219671171), (2546, 0.02069051740310412), (2547, 0.04291892754130973), (2548, 0.03256448245291921), (2549, 0.034447714381069305), (2550, 0.08602870442157454), (2551, 0.02924790937176942), (2552, 0.024437076138572024), (2553, 0.019062687507953445), (2554, 0.06978639739705465), (2555, 0.02482141601142851), (2556, 0.013892276401843115), (2557, 0.03919039186890362), (2558, 0.012464231683344528), (2559, 0.016147174017131838), (2560, 0.02016028576311977), (2561, 0.0650388948138386), (2562, 0.030081858659981878), (2563, 0.01643116461064151), (2564, 0.02107224429461757), (2565, 0.02489451149698794), (2566, 0.024961660884851453), (2567, 0.020439885222526145), (2568, 0.02613002896646791), (2569, 0.006706049792978556), (2570, 0.029665950846289316), (2571, 0.03473695642046584), (2572, 0.019149060361992907), (2573, 0.022562480978931), (2574, 0.04549566668292727), (2575, 0.030157120516599075), (2576, 0.04234010406771879), (2577, 0.01703803533430191), (2578, 0.043412353443741725), (2579, 0.0291009555677376), (2580, 0.04855733281928787), (2581, 0.028341128155762986), (2582, 0.026658759454248147), (2583, 0.01983583530971509), (2584, 0.0528901566355342), (2585, 0.029360634854704692), (2586, 0.018918044754298702), (2587, 0.03441030986412492), (2588, 0.017074709687097674), (2589, 0.012425491994048521), (2590, 0.01461225465747927), (2591, 0.031450626766295404), (2592, 0.021415444796537314), (2593, 0.03169149302810482), (2594, 0.02416630700786066), (2595, 0.014075016341224371), (2596, 0.014573438072600642), (2597, 0.015706036780244067), (2598, 0.02699916151546156), (2599, 0.025610509223885178), (2600, 0.04001936795277313), (2601, 0.024381465911005196), (2602, 0.019966317691570735), (2603, 0.016025137751405818), (2604, 0.036606222209651), (2605, 0.022008642439693544), (2606, 0.0062315582082373405), (2607, 0.05073839281426374), (2608, 0.029556937239945295), (2609, 0.04033554127549214), (2610, 0.027585824982700336), (2611, 0.0189277576327605), (2612, 0.046943523197133186), (2613, 0.014947399168035176), (2614, 0.03111246098193649), (2615, 0.024515226618542427), (2616, 0.025455926179742037), (2617, 0.03128860347250255), (2618, 0.030681001671320575), (2619, 0.02278073395370973), (2620, 0.020552912056716655), (2621, 0.022896851984426633), (2622, 0.016503773996062225), (2623, 0.0382456483501974), (2624, 0.040156750817451375), (2625, 0.05991813515521425), (2626, 0.034947213426115176), (2627, 0.018842770152112394), (2628, 0.004588438206448402), (2629, 0.03161187877137945), (2630, 0.02705070471543683), (2631, 0.014601956356564631), (2632, 0.013803987724852085), (2633, 0.04512929159496177), (2634, 0.016908370971672342), (2635, 0.01831686856552769), (2636, 0.010632383957977509), (2637, 0.013256136640961905), (2638, 0.022004113912450017), (2639, 0.04644767403826354), (2640, 0.031180222890475534), (2641, 0.022609829435169166), (2642, 0.02233118193610897), (2643, 0.029244712796115582), (2644, 0.026428403712509898), (2645, 0.004941916427067033), (2646, 0.03148662609183242), (2647, 0.0372722296399743), (2648, 0.025716237258760127), (2649, 0.017819060792675024), (2650, 0.03077090156632362), (2651, 0.02030350140907244), (2652, 0.03352494128111376), (2653, 0.0370919584162981), (2654, 0.02059657176327117), (2655, 0.014403350871595094), (2656, 0.04283200723724037), (2657, 0.021739720367246692), (2658, 0.01355635108729773), (2659, 0.014838101334377723), (2660, 0.0274674646718806), (2661, 0.05920809097538641), (2662, 0.0324180465657608), (2663, 0.01468950278318059), (2664, 0.015466320731835173), (2665, 0.05973513423029957), (2666, 0.026257089787297093), (2667, 0.013227373877525832), (2668, 0.02512029087118249), (2669, 0.02618293579626813), (2670, 0.026388925733538047), (2671, 0.02733771687336323), (2672, 0.04961603441983566), (2673, 0.04996000003171412), (2674, 0.023761992022421883), (2675, 0.04862482969947125), (2676, 0.026691217545185136), (2677, 0.028364347997172534), (2678, 0.009707134445776377), (2679, 0.020675714895096762), (2680, 0.06409543461014261), (2681, 0.03080627313019121), (2682, 0.022935270944170503), (2683, 0.06510538999734838), (2684, 0.017954949313331088), (2685, 0.03189679465037878), (2686, 0.032929958067999233), (2687, 0.012910524453517126), (2688, 0.025987934414391664), (2689, 0.025644750950726224), (2690, 0.02273894600994018), (2691, 0.045553590329462414), (2692, 0.02203785103154038), (2693, 0.06998897448913367), (2694, 0.01447388940734041), (2695, 0.018553537592794225), (2696, 0.009588960492755802), (2697, 0.025080537469792982), (2698, 0.023678479786476223), (2699, 0.02228190682109427), (2700, 0.022239980553052603), (2701, 0.08014057609145439), (2702, 0.029481671847992948), (2703, 0.015257860816861354), (2704, 0.025703203317908044), (2705, 0.02582800696070069), (2706, 0.02227659856366849), (2707, 0.04331114130913543), (2708, 0.027926548747630998), (2709, 0.0028027005767223222), (2710, 0.01767891991128002), (2711, 0.029029287028009564), (2712, 0.024415925608386086), (2713, 0.03316552002004145), (2714, 0.017358112225158574), (2715, 0.02077803657123409), (2716, 0.031933492655868825), (2717, 0.033336989702742535), (2718, 0.05616523647114759), (2719, 0.024774394014115905), (2720, 0.028482634138430673), (2721, 0.02358162219416602), (2722, 0.03854140317933174), (2723, 0.040642563426189854), (2724, 0.034513598738043064), (2725, 0.03678274221156055), (2726, 0.016503345914464), (2727, 0.009112008197360967), (2728, 0.02678211078454675), (2729, 0.02941531571673063), (2730, 0.03404571053887883), (2731, 0.027749127564751074), (2732, 0.019848709639334237), (2733, 0.013986850227140985), (2734, 0.024912891156950646), (2735, 0.031299662079248204), (2736, 0.02067196527813685), (2737, 0.03449763918523701), (2738, 0.024807387112702032), (2739, 0.037104325139049765), (2740, 0.017628095455747398), (2741, 0.051506679346228566), (2742, 0.016125435898125248), (2743, 0.025224697042266615), (2744, 0.03315857990305766), (2745, 0.07597713276035563), (2746, 0.011565069976552288), (2747, 0.020054206243804305), (2748, 0.009015643269820564), (2749, 0.03735148348567341), (2750, 0.018587692130805408), (2751, 0.023539402976601984), (2752, 0.028061714235844526), (2753, 0.045584840696628944), (2754, 0.02726312806324248), (2755, 0.06968420240811106), (2756, 0.02126125577689007), (2757, 0.06083467996341531), (2758, 0.02953215844739732), (2759, 0.03102080003438309), (2760, 0.00799201142117623), (2761, 0.02585994007564205), (2762, 0.0229255607713109), (2763, 0.018814311282780233), (2764, 0.04392906330995866), (2765, 0.01520734594067037), (2766, 0.06556459487560232), (2767, 0.04786227487915727), (2768, 0.01719889427264365), (2769, 0.01114349317903618), (2770, 0.01801478669019166), (2771, 0.012990875688169628), (2772, 0.029010513784829405), (2773, 0.03245701769262529), (2774, 0.024963794307221385), (2775, 0.017677806223607144), (2776, 0.02681632942125725), (2777, 0.02932030537643229), (2778, 0.017993708152463504), (2779, 0.01865044764392199), (2780, 0.03538074194244658), (2781, 0.01684261894835424), (2782, 0.013962192984534104), (2783, 0.02835586464763884), (2784, 0.03034607048110011), (2785, 0.03580929034708847), (2786, 0.013021250835901721), (2787, 0.0058174298358986895), (2788, 0.021941934056484612), (2789, 0.03568347459080397), (2790, 0.048664288514698915), (2791, 0.04883772919220035), (2792, 0.034004458280782544), (2793, 0.016221707447671683), (2794, 0.023879249126022274), (2795, 0.02328942874438695), (2796, 0.02777387744001646), (2797, 0.03958146787155927), (2798, 0.03362199260739077), (2799, 0.039902237436227915), (2800, 0.03564965527629872), (2801, 0.02304103015223984), (2802, 0.06422018379444952), (2803, 0.054986796341075235), (2804, 0.0248551549643284), (2805, 0.08153413528887274), (2806, 0.0), (2807, 0.03360359816751679), (2808, 0.03190751978853282), (2809, 0.019492700512235454), (2810, 0.03409042561036793), (2811, 0.010319501802142965), (2812, 0.020750253044154742), (2813, 0.040959673761366396), (2814, 0.02111731583342801), (2815, 0.027459467341835568), (2816, 0.03989593737723719), (2817, 0.02259472751763755), (2818, 0.022952160704551028), (2819, 0.03326714547463035), (2820, 0.046972011051612715), (2821, 0.00946850504267168), (2822, 0.022562508776372593), (2823, 0.031565718945696514), (2824, 0.03612065389451642), (2825, 0.020529800865053606), (2826, 0.027174360295369192), (2827, 0.03159771171881619), (2828, 0.02131140821015237), (2829, 0.02001506525977185), (2830, 0.03301152100989776), (2831, 0.015731089766826533), (2832, 0.028477457597131953), (2833, 0.03630436245005799), (2834, 0.022777061067810904), (2835, 0.03657672731842918), (2836, 0.014993824399102301), (2837, 0.04081239463803675), (2838, 0.017873492661654108), (2839, 0.01977355766600212), (2840, 0.022205386782606383), (2841, 0.020145386817998972), (2842, 0.0268996951304117), (2843, 0.044843358919284114), (2844, 0.0347168434850544), (2845, 0.023598796779606645), (2846, 0.039914652737758335), (2847, 0.02572945671872169), (2848, 0.03824671508787675), (2849, 0.027427038701115843), (2850, 0.021762448125689865), (2851, 0.024224834526003606), (2852, 0.028168195483325685), (2853, 0.03420466144382897), (2854, 0.02336463498552328), (2855, 0.047786980741129574), (2856, 0.01760187279973212), (2857, 0.010680036507137457), (2858, 0.008579007622518018), (2859, 0.01616752403422836), (2860, 0.026243616739618034), (2861, 0.02727482571730933), (2862, 0.029614250691255582), (2863, 0.0349715481086296), (2864, 0.016102527102930093), (2865, 0.034416635813498485), (2866, 0.02161772547506807), (2867, 0.03303497418443153), (2868, 0.01940037573366154), (2869, 0.015603180956856685), (2870, 0.017815707516708627), (2871, 0.028472090662815742), (2872, 0.01182032800435399), (2873, 0.022690278209450583), (2874, 0.01927354549973831), (2875, 0.02874837781362283), (2876, 0.016795658814323672), (2877, 0.050065136276844203), (2878, 0.03137981534125358), (2879, 0.02322905245973417), (2880, 0.022275030321571045), (2881, 0.018851947605336924), (2882, 0.02223199501781046), (2883, 0.03167870201934017), (2884, 0.037419673734471644), (2885, 0.01700165800723867), (2886, 0.025349944071990843), (2887, 0.024978986200313826), (2888, 0.017410933055417476), (2889, 0.020096623747716893), (2890, 0.010683422591892653), (2891, 0.05471672566697536), (2892, 0.05549778437271983), (2893, 0.03737832263726228), (2894, 0.02404954848070483), (2895, 0.02127700426265581), (2896, 0.019350864632445487), (2897, 0.022141219670419158), (2898, 0.03350462635691866), (2899, 0.07989610131015938), (2900, 0.01698803416074509), (2901, 0.030731025009592388), (2902, 0.026143463888248706), (2903, 0.036202488384773045), (2904, 0.025081300295089648), (2905, 0.01352138665343842), (2906, 0.023808863313608073), (2907, 0.019366423584787403), (2908, 0.05775228388089152), (2909, 0.041493282553812086), (2910, 0.015526520562973661), (2911, 0.01622630766395314), (2912, 0.03107736749288039), (2913, 0.020199388721824453), (2914, 0.07903859064811518), (2915, 0.03714330242072276), (2916, 0.019744528496529624), (2917, 0.029853568289339796), (2918, 0.042313268006650376), (2919, 0.03243182025915903), (2920, 0.030279748971350127), (2921, 0.03643001284363862), (2922, 0.032662638589989766), (2923, 0.01502268165542757), (2924, 0.017522445032724866), (2925, 0.04419854916816513), (2926, 0.008715628591174111), (2927, 0.05593457221390487), (2928, 0.03149817778484925), (2929, 0.041956117793693536), (2930, 0.03830898898796401), (2931, 0.01933511704731084), (2932, 0.02632884164443129), (2933, 0.04268131285458948), (2934, 0.032000211114226296), (2935, 0.03458973662639326), (2936, 0.02062783612292755), (2937, 0.018955160369439915), (2938, 0.020517047966766806), (2939, 0.04796064145895198), (2940, 0.02704289009441351), (2941, 0.04612581860025958), (2942, 0.04303275849049506), (2943, 0.0055980824859190054), (2944, 0.027143806570621227), (2945, 0.0339020041059903), (2946, 0.025432589208837654), (2947, 0.01698978623180803), (2948, 0.008126265303324104), (2949, 0.008596386997808984), (2950, 0.012374033399827645), (2951, 0.016450147402167777), (2952, 0.011915547918296987), (2953, 0.07629707256420071), (2954, 0.022371483446596323), (2955, 0.024593121204326093), (2956, 0.03443532468039688), (2957, 0.028678465798245043), (2958, 0.021271117035236983), (2959, 0.01907453242695689), (2960, 0.022716900239844906), (2961, 0.01772711357571546), (2962, 0.052028828091569126), (2963, 0.025873751505036572), (2964, 0.021401771473545782), (2965, 0.03341304568993882), (2966, 0.024644130199577126), (2967, 0.0070032924216726945), (2968, 0.013715495249317913), (2969, 0.02801115447946662), (2970, 0.01408412347539561), (2971, 0.037079683782890206), (2972, 0.022373900309132763), (2973, 0.0401865956743964), (2974, 0.030440187774855937), (2975, 0.03674414688794145), (2976, 0.038917363350092646), (2977, 0.012721721154801776), (2978, 0.02768325211051094), (2979, 0.03153925293134076), (2980, 0.036590621569827064), (2981, 0.020592502563325014), (2982, 0.008397917492453626), (2983, 0.029199405278993916), (2984, 0.01865770589560425), (2985, 0.020780732838342437), (2986, 0.022925358007272648), (2987, 0.0038805020253613065), (2988, 0.02592189490678386), (2989, 0.017714069509732), (2990, 0.024832038488144213), (2991, 0.026721279740543013), (2992, 0.01936684033456762), (2993, 0.04331552499083344), (2994, 0.036701116325125724), (2995, 0.016230731389370277), (2996, 0.025864827998395293), (2997, 0.021029245458297013), (2998, 0.04950301916730057), (2999, 0.03160112942070427), (3000, 0.014060769865708813), (3001, 0.034448400828028136), (3002, 0.027650641934470695), (3003, 0.018675106661918576), (3004, 0.02437618711515304), (3005, 0.04406441926419866), (3006, 0.033389385729009985), (3007, 0.011030833758093168), (3008, 0.03710060429727359), (3009, 0.008662799480389267), (3010, 0.03006610969926289), (3011, 0.019050524943106932), (3012, 0.041409860552313014), (3013, 0.059651316479892996), (3014, 0.016042264740796425), (3015, 0.020249663254278582), (3016, 0.017687883072575655), (3017, 0.042572138907929116), (3018, 0.02010675546476363), (3019, 0.02089339702767358), (3020, 0.038363150463438016), (3021, 0.017079062754921142), (3022, 0.030164190431396218), (3023, 0.03256772800705607), (3024, 0.02861273649130029), (3025, 0.000959759942022932), (3026, 0.016468920624065454), (3027, 0.023461386105860748), (3028, 0.019388643354887686), (3029, 0.023464879859138785), (3030, 0.05030837230124069), (3031, 0.03613282380445144), (3032, 0.04685405854809431), (3033, 0.04570151655089058), (3034, 0.007458544684137176), (3035, 0.026666722335771997), (3036, 0.030552273973747875), (3037, 0.01940224183105376), (3038, 0.031833224849493795), (3039, 0.03404842919787022), (3040, 0.01136421477558911), (3041, 0.010570200770568949), (3042, 0.019529897231568293), (3043, 0.03742662555075209), (3044, 0.022590667670911967), (3045, 0.030722256750487103), (3046, 0.023337968981714165), (3047, 0.026224491549308362), (3048, 0.032021734701078663), (3049, 0.017514797199134954), (3050, 0.029224137799262473), (3051, 0.021847913571339476), (3052, 0.010924598642765558), (3053, 0.01566094811056953), (3054, 0.03245420550299556), (3055, 0.03847639157700334), (3056, 0.03890853391415921), (3057, 0.02482573316619034), (3058, 0.04144829560921351), (3059, 0.018179191120311366), (3060, 0.020339067496483138), (3061, 0.02596413062998726), (3062, 0.00395628608617851), (3063, 0.014665682241256578), (3064, 0.018124763562993945), (3065, 0.03224973789979021), (3066, 0.029496077590717176), (3067, 0.04015352373897663), (3068, 0.016652340993065833), (3069, 0.028585407275707058), (3070, 0.026436737331254193), (3071, 0.027213340788392663), (3072, 0.0052310140977659125), (3073, 0.015801054604210735), (3074, 0.02476757385268938), (3075, 0.019129391785690807), (3076, 0.04650304043048425), (3077, 0.00796157894367254), (3078, 0.037412379417498795), (3079, 0.029894527221958685), (3080, 0.03806578922649422), (3081, 0.04804083375455976), (3082, 0.011647208740735398), (3083, 0.02326904619796558), (3084, 0.009096203486975336), (3085, 0.016908742499103634), (3086, 0.05967708677389818), (3087, 0.026880865833137462), (3088, 0.010166660694783267), (3089, 0.019140473674701716), (3090, 0.04197689989615471), (3091, 0.056619958622147366), (3092, 0.02528625914455513), (3093, 0.03815470301839482), (3094, 0.027754197430995536), (3095, 0.012624970916513678), (3096, 0.026526756127274346), (3097, 0.04601698012551308), (3098, 0.02655746338468329), (3099, 0.05855592156055372), (3100, 0.046683936173582345), (3101, 0.01959022994748407), (3102, 0.04087259322158948), (3103, 0.008044571239903462), (3104, 0.022055857922761973), (3105, 0.011404127469690696), (3106, 0.02911758041114087), (3107, 0.03146932389502236), (3108, 0.033467998443042116), (3109, 0.07291650836756373), (3110, 0.024872024050505738), (3111, 0.013422769636324028), (3112, 0.02305934782520836), (3113, 0.011555890536247773), (3114, 0.051932845445165327), (3115, 0.029471597249556766), (3116, 0.03686968055560948), (3117, 0.04401458476915315), (3118, 0.02111911864776181), (3119, 0.01688236549386243), (3120, 0.02948361342877801), (3121, 0.03478654732206818), (3122, 0.03665175427481443), (3123, 0.02358747502610649), (3124, 0.01813049521857466), (3125, 0.008263219990447258), (3126, 0.03442328943009879), (3127, 0.014100016253468715), (3128, 0.005539835583725932), (3129, 0.018593122254789537), (3130, 0.024257362508024006), (3131, 0.03042953817488152), (3132, 0.020319696209569943), (3133, 0.02738012618689933), (3134, 0.03640367650945819), (3135, 0.01677177561784979), (3136, 0.015149625591194071), (3137, 0.025741468950167528), (3138, 0.0210532274999904), (3139, 0.035955586969621645), (3140, 0.014883506313959759), (3141, 0.048440491126992224), (3142, 0.022116706126881318), (3143, 0.031122308817403067), (3144, 0.037434968890386874), (3145, 0.036558920919312836), (3146, 0.020214390175194163), (3147, 0.03658766069634726), (3148, 0.04776854049671072), (3149, 0.02584344356194759), (3150, 0.025625978309689827), (3151, 0.03331114427620881), (3152, 0.02433577123783682), (3153, 0.03751296148502679), (3154, 0.017586155453823357), (3155, 0.07147426036026384), (3156, 0.04407356963209974), (3157, 0.033116665038185084), (3158, 0.03828485482833077), (3159, 0.02809371198230815), (3160, 0.036452915281246064), (3161, 0.03590413259649976), (3162, 0.013098545106949779), (3163, 0.038548783915961726), (3164, 0.0470687769980137), (3165, 0.048954846170604464), (3166, 0.05717399801264978), (3167, 0.012854349588146515), (3168, 0.02420895984686305), (3169, 0.04771079278399677), (3170, 0.031259101088454304), (3171, 0.026083658299552667), (3172, 0.014103378301750145), (3173, 0.020679846352072838), (3174, 0.023466712555409497), (3175, 0.014853414590884127), (3176, 0.025252136445129223), (3177, 0.028302188151442333), (3178, 0.014324476113303182), (3179, 0.026568430058773417), (3180, 0.027816130264260743), (3181, 0.023278149353062154), (3182, 0.031995938876721954), (3183, 0.018683669812341916), (3184, 0.04511119385353736), (3185, 0.0319092935845278), (3186, 0.03518129343087903), (3187, 0.026971170959922415), (3188, 0.011720251847939737), (3189, 0.049100838320636164), (3190, 0.015716530496997057), (3191, 0.07640095166218211), (3192, 0.045553830444380626), (3193, 0.02256845179144271), (3194, 0.019930319550045275), (3195, 0.03098414283219715), (3196, 0.014102139866562939), (3197, 0.013919151094210793), (3198, 0.027908317238124803), (3199, 0.007585673458404729), (3200, 0.021947930219986322), (3201, 0.04015418093309475), (3202, 0.037522113964539444), (3203, 0.0203818597883598), (3204, 0.010414172885802356), (3205, 0.0372287576109121), (3206, 0.031886373856237674), (3207, 0.03191152570016465), (3208, 0.032741792731950055), (3209, 0.045312609300158124), (3210, 0.025129915619117156), (3211, 0.04013878476305964), (3212, 0.030274681562564194), (3213, 0.044561177540375856), (3214, 0.05117005392642372), (3215, 0.024243682544800284), (3216, 0.02492569962914683), (3217, 0.04727074057079509), (3218, 0.03742805865887285), (3219, 0.018836364460905457), (3220, 0.023942580968356882), (3221, 0.0283900476890321), (3222, 0.03328017807852719), (3223, 0.018939437679199745), (3224, 0.03131887418497891), (3225, 0.04289774558285423), (3226, 0.01912484423743439), (3227, 0.028800582091346096), (3228, 0.021063310228525096), (3229, 0.026903941961276524), (3230, 0.014287266232380696), (3231, 0.033418186289785816), (3232, 0.02294177540505024), (3233, 0.027506518561508802), (3234, 0.023634703806476406), (3235, 0.03142697472180516), (3236, 0.010802977349209692), (3237, 0.028121060411344736), (3238, 0.05243718030478857), (3239, 0.01444247218844423), (3240, 0.030579833529050537), (3241, 0.004058450007192972), (3242, 0.02129971783137897), (3243, 0.00939907521556491), (3244, 0.04800428846083837), (3245, 0.014188185202166022), (3246, 0.020953187944413126), (3247, 0.03476873977579185), (3248, 0.0), (3249, 0.01985906724892736), (3250, 0.012515577738252797), (3251, 0.01437012568787744), (3252, 0.03984194097370193), (3253, 0.05692526905520438), (3254, 0.048391019628081254), (3255, 0.022897258661936124), (3256, 0.03619883455511431), (3257, 0.017010681438177026), (3258, 0.01088114475343192), (3259, 0.027014457724379888), (3260, 0.021156806379389825), (3261, 0.026241041763511202), (3262, 0.011144256851412532), (3263, 0.019547576384076188), (3264, 0.013448584265041693), (3265, 0.010881932831675161), (3266, 0.025940128874673722), (3267, 0.016366504009115743), (3268, 0.016669684961181205), (3269, 0.012056779012696571), (3270, 0.04435584004204186), (3271, 0.01803591012363838), (3272, 0.04817980272619804), (3273, 0.0214294506904629), (3274, 0.03699573314357169), (3275, 0.02468006857583032), (3276, 0.04999470396652811), (3277, 0.038506040646841495), (3278, 0.055474690478440905), (3279, 0.04400402829647815), (3280, 0.03995800416271082), (3281, 0.04091632222633814), (3282, 0.03681866270021589), (3283, 0.03338459798298325), (3284, 0.05073901738320347), (3285, 0.01611607974467425), (3286, 0.0432622247808723), (3287, 0.026251576491456832), (3288, 0.02890802337846928), (3289, 0.04963221431630719), (3290, 0.029070688158413495), (3291, 0.018369510117565997), (3292, 0.016851356764721177), (3293, 0.015268859784182028), (3294, 0.05886256137653213), (3295, 0.01956246254894187), (3296, 0.01605120973401203), (3297, 0.031550586016732225), (3298, 0.049154011705826096), (3299, 0.03138522192102412), (3300, 0.022623353486989028), (3301, 0.019953935901745892), (3302, 0.024254952540082943), (3303, 0.044995188849692946), (3304, 0.04616178541065058), (3305, 0.04473724957873375), (3306, 0.0429388362521417), (3307, 0.027699105172485666), (3308, 0.016594880672833677), (3309, 0.03069581743873482), (3310, 0.03910482765165372), (3311, 0.03968172052437472), (3312, 0.025157582435579848), (3313, 0.0272626611076602), (3314, 0.02983670929406725), (3315, 0.06468002270614377), (3316, 0.035122847704794624), (3317, 0.03021662626572386), (3318, 0.0325315077685382), (3319, 0.016360741253024502), (3320, 0.03219593245880405), (3321, 0.03341666968592749), (3322, 0.028716949461307106), (3323, 0.0), (3324, 0.013896436438522687), (3325, 0.018511309667430552), (3326, 0.0977173262515396), (3327, 0.01353016159682689), (3328, 0.02418437542614682), (3329, 0.013296105496507827), (3330, 0.015536069728097604), (3331, 0.03997265835180881), (3332, 0.025348630262681283), (3333, 0.02563978600958408), (3334, 0.03564903463008563), (3335, 0.011201786494696246), (3336, 0.03003918069819468), (3337, 0.02791424379983891), (3338, 0.031925183087419165), (3339, 0.028422810107096904), (3340, 0.026066920212770406), (3341, 0.026455059101208656), (3342, 0.03787062968661654), (3343, 0.038011939185684365), (3344, 0.022943210106318758), (3345, 0.00483750656891809), (3346, 0.041349175572455946), (3347, 0.022559888712214846), (3348, 0.017692817861689608), (3349, 0.018684949193250124), (3350, 0.008599051889569845), (3351, 0.04506101143100742), (3352, 0.06565501278797015), (3353, 0.05120312352399679), (3354, 0.00710343167803777), (3355, 0.021417799379734585), (3356, 0.020528786268715186), (3357, 0.015488861716533773), (3358, 0.035314343075412785), (3359, 0.012575708287969913), (3360, 0.038645027598777235), (3361, 0.03444669171996269), (3362, 0.05543077911193605), (3363, 0.07599620997471297), (3364, 0.04330080448761292), (3365, 0.048117460063757694), (3366, 0.022864399359937424), (3367, 0.020378263675988734), (3368, 0.04234217852866312), (3369, 0.08609674716898634), (3370, 0.028850554821559543), (3371, 0.03448701973143643), (3372, 0.024746077281691738), (3373, 0.024700287648304956), (3374, 0.014889163024465347), (3375, 0.034480528633671036), (3376, 0.01912315680266338), (3377, 0.032736130876718283), (3378, 0.01917560735008584), (3379, 0.044065731352639435), (3380, 0.0828482855484026), (3381, 0.02365706009132662), (3382, 0.02690756708111316), (3383, 0.017817235617278313), (3384, 0.05275784012407688), (3385, 0.03814776408816849), (3386, 0.03614241447453491), (3387, 0.032939504808133784), (3388, 0.01678065259011779), (3389, 0.018249143463852344), (3390, 0.03258244516914094), (3391, 0.029304968615758258), (3392, 0.0325353365218911), (3393, 0.03204059064691574), (3394, 0.018601365861732902), (3395, 0.027442434525230885), (3396, 0.043185548357528976), (3397, 0.03933268381045182), (3398, 0.03608809461219068), (3399, 0.03530108525868736), (3400, 0.02100604297281744), (3401, 0.03150530676335016), (3402, 0.031268667339907456), (3403, 0.013964687876542677), (3404, 0.015051123662554365), (3405, 0.030716264908416863), (3406, 0.04548902623891725), (3407, 0.04136696638853037), (3408, 0.013466598081903524), (3409, 0.02421185349221464), (3410, 0.013790757558341579), (3411, 0.015418966373183832), (3412, 0.02898604294835933), (3413, 0.0189757135009687), (3414, 0.016105639172739886), (3415, 0.0392950392641578), (3416, 0.03782100723269318), (3417, 0.023719607791976453), (3418, 0.027790708475443262), (3419, 0.028981894512342687), (3420, 0.037459535343249035), (3421, 0.018179768182059977), (3422, 0.00534788935117588), (3423, 0.0427710898858978), (3424, 0.024511394000387033), (3425, 0.011490569532959061), (3426, 0.015821264210393753), (3427, 0.049144003916335284), (3428, 0.016201082844189366), (3429, 0.04819663659721641), (3430, 0.03833333238753482), (3431, 0.03161930196775209), (3432, 0.04689267464156048), (3433, 0.02671492020037648), (3434, 0.0332212245408792), (3435, 0.023349380510494226), (3436, 0.033069433707973925), (3437, 0.02142896056617793), (3438, 0.053575112641467866), (3439, 0.02015222709503768), (3440, 0.02168347234478754), (3441, 0.017920678761857083), (3442, 0.035680925791093575), (3443, 0.02637747671505669), (3444, 0.02266923802649316), (3445, 0.026793470873070373), (3446, 0.04353654329327518), (3447, 0.019394299601421607), (3448, 0.05537728816159861), (3449, 0.030282176177840386), (3450, 0.02423853227250493), (3451, 0.034468146063454864), (3452, 0.03564200829620881), (3453, 0.026758170617713947), (3454, 0.03714921481524794), (3455, 0.055928224618423394), (3456, 0.03978551902211182), (3457, 0.03588396707260151), (3458, 0.03460252518485509), (3459, 0.06018719356854782), (3460, 0.03884534332247306), (3461, 0.031806188884774045), (3462, 0.05117338566208436), (3463, 0.07057438062824099), (3464, 0.03569246216944808), (3465, 0.019341004228876083), (3466, 0.023359156866741913), (3467, 0.02416619040718492), (3468, 0.04239018090028027), (3469, 0.06339798391150991), (3470, 0.0601603941094252), (3471, 0.036673194443513725), (3472, 0.03374043855692701), (3473, 0.008542232635867439), (3474, 0.04585066368440109), (3475, 0.011986487794861413), (3476, 0.03787899778623531), (3477, 0.03652017066585382), (3478, 0.047106262206894615), (3479, 0.023810953423412547), (3480, 0.020284612249739698), (3481, 0.02754878365535143), (3482, 0.010355354723853002), (3483, 0.02225357807656117), (3484, 0.02875639417433053), (3485, 0.015057257794120994), (3486, 0.01891874070608828), (3487, 0.017818575130911972), (3488, 0.021590304209243676), (3489, 0.07239365594472434), (3490, 0.01388902768072784), (3491, 0.04262836514422299), (3492, 0.02473624911706049), (3493, 0.03852135090626271), (3494, 0.013046817507873891), (3495, 0.02454052750051559), (3496, 0.02301773888752529), (3497, 0.01949858446910155), (3498, 0.021690650877137892), (3499, 0.023564551556376344), (3500, 0.04038748280869397), (3501, 0.0022296306340994715), (3502, 0.02361248722962715), (3503, 0.026676389118616726), (3504, 0.037386457046982555), (3505, 0.022591847199544227), (3506, 0.023179650990589787), (3507, 0.023565362280275025), (3508, 0.029094045151397414), (3509, 0.027735431789643817), (3510, 0.0010592783486841385), (3511, 0.016000523821816354), (3512, 0.04335973694708381), (3513, 0.01701613358135738), (3514, 0.014839594536488447), (3515, 0.03651553426237946), (3516, 0.02302794098512833), (3517, 0.06471247422106766), (3518, 0.01574589691759941), (3519, 0.01487121824718224), (3520, 0.034917380915702956), (3521, 0.014868857567071105), (3522, 0.06751346299684416), (3523, 0.03189793760750038), (3524, 0.014895671645933624), (3525, 0.033357854226323445), (3526, 0.03789185879451884), (3527, 0.037629961705927625), (3528, 0.002492516097068351), (3529, 0.01253674849527939), (3530, 0.0020785256922447137), (3531, 0.02379064895101124), (3532, 0.04553673484804171), (3533, 0.03568794378883471), (3534, 0.039717110813265476), (3535, 0.043191551287979295), (3536, 0.05174514323804037), (3537, 0.01747937785082354), (3538, 0.02589245168397359), (3539, 0.014002463805168789), (3540, 0.009525179578768913), (3541, 0.04808014867734672), (3542, 0.0248289340998771), (3543, 0.0151035318136221), (3544, 0.004137984670894299), (3545, 0.013880691632203745), (3546, 0.03662267533562073), (3547, 0.04344889484137637), (3548, 0.022320830021568098), (3549, 0.013472769642416829), (3550, 0.023419160994932454), (3551, 0.03349053503154787), (3552, 0.03218467852658446), (3553, 0.01903060021378597), (3554, 0.03990067047991643), (3555, 0.05498357259551693), (3556, 0.028692402072537725), (3557, 0.03369366079680134), (3558, 0.00647333152971872), (3559, 0.03608366125943378), (3560, 0.009606019799152503), (3561, 0.004249191061808593), (3562, 0.017623510194985384), (3563, 0.030915293767508255), (3564, 0.03159242240512027), (3565, 0.024568647599122882), (3566, 0.03712643696358294), (3567, 0.026900239166677376), (3568, 0.04399531728232053), (3569, 0.06358630630079895), (3570, 0.016690896459122882), (3571, 0.04180034653752137), (3572, 0.02291733008616459), (3573, 0.02596106891145833), (3574, 0.036697222991980555), (3575, 0.01278149717158537), (3576, 0.026617149644556005), (3577, 0.003282651233850919), (3578, 0.04355090777701229), (3579, 0.04558241328986322), (3580, 0.021175403269780534), (3581, 0.03165427428595448), (3582, 0.04046573815181564), (3583, 0.011945124657102577), (3584, 0.05048317148895202), (3585, 0.011453464609390163), (3586, 0.02192572903689866), (3587, 0.015189247571453535), (3588, 0.02897762279656264), (3589, 0.018503178945724234), (3590, 0.020047539895573313), (3591, 0.041535955354220375), (3592, 0.028098394136718604), (3593, 0.030696876248568764), (3594, 0.01685707709697299), (3595, 0.01650549129204016), (3596, 0.023175130172776805), (3597, 0.019597672091682533), (3598, 0.06128065819547533), (3599, 0.029904962864915077), (3600, 0.009935538529340667), (3601, 0.010183213976936877), (3602, 0.03367084818414762), (3603, 0.030641577637711966), (3604, 0.09187205632483839), (3605, 0.03368641941231), (3606, 0.020723755468527113), (3607, 0.0274767951803588), (3608, 0.0197482446939499), (3609, 0.04135329324784038), (3610, 0.043712557828242536), (3611, 0.017632946998866937), (3612, 0.02926731109975217), (3613, 0.0321330292485639), (3614, 0.02658409584912438), (3615, 0.014343383677077187), (3616, 0.012190782629600112), (3617, 0.012638299711802319), (3618, 0.04051171661585156), (3619, 0.05806557344150058), (3620, 0.021133459004599734), (3621, 0.03191904344961048), (3622, 0.019383121890625243), (3623, 0.048499111533064986), (3624, 0.019322157251965413), (3625, 0.0340410939260838), (3626, 0.022011263546865632), (3627, 0.011292218680766136), (3628, 0.03923527039561865), (3629, 0.036559388657302724), (3630, 0.005341758700798859), (3631, 0.0163004843816998), (3632, 0.0430721086867465), (3633, 0.02699470186743999), (3634, 0.038441458248765485), (3635, 0.027184745223959986), (3636, 0.030479791329809408), (3637, 0.031571568319553905), (3638, 0.005249553084320472), (3639, 0.035501563371045375), (3640, 0.01701741190044044), (3641, 0.046408790939669244), (3642, 0.03713223437217374), (3643, 0.017272752931809486), (3644, 0.00991889880668059), (3645, 0.01513148608274881), (3646, 0.01791598249640478), (3647, 0.015537556003225135), (3648, 0.02705741901678799), (3649, 0.028015350507610684), (3650, 0.014184532084210165), (3651, 0.014632165901611843), (3652, 0.03601752097829819), (3653, 0.02980998176473248), (3654, 0.023707533863499747), (3655, 0.05259453862913321), (3656, 0.024580928712619538), (3657, 0.04730691663596478), (3658, 0.05151320962956909), (3659, 0.032092544358642734), (3660, 0.03489677234189007), (3661, 0.03825700926940516), (3662, 0.016060593904553146), (3663, 0.03141964033377652), (3664, 0.018705101953181348), (3665, 0.026283561708354684), (3666, 0.03616086622451391), (3667, 0.015952167622102036), (3668, 0.011621085662349056), (3669, 0.00560268845017998), (3670, 0.031545639149461464), (3671, 0.036445204210636004), (3672, 0.00999744760227972), (3673, 0.03908008101468064), (3674, 0.014804694449756994), (3675, 0.031616291606348754), (3676, 0.0), (3677, 0.04669696873918094), (3678, 0.06409404918652818), (3679, 0.021191973479439553), (3680, 0.0053606326443360885), (3681, 0.055875004872037094), (3682, 0.037013621092206093), (3683, 0.02442889663852081), (3684, 0.03276642346310389), (3685, 0.023942512023337827), (3686, 0.049957641181102186), (3687, 0.020836573755496468), (3688, 0.013804667368524707), (3689, 0.03522389901641938), (3690, 0.018692886651092932), (3691, 0.027886634080521975), (3692, 0.042701769760924255), (3693, 0.03991023728738935), (3694, 0.02814292291738737), (3695, 0.017703791803492606), (3696, 0.024891334443145022), (3697, 0.027042955764795235), (3698, 0.040121076540697), (3699, 0.042722830307627156), (3700, 0.0420277491971213), (3701, 0.027375480145578324), (3702, 0.020794852407232757), (3703, 0.018804348452075438), (3704, 0.010277686869090906), (3705, 0.03252541975368264), (3706, 0.05980494416469536), (3707, 0.01301257528286736), (3708, 0.0368762841648203), (3709, 0.04598636747030046), (3710, 0.02829389921274292), (3711, 0.025719338887494607), (3712, 0.0054829304916223015), (3713, 0.02079806509920702), (3714, 0.003511324496523452), (3715, 0.03375920044215837), (3716, 0.011935135955905772), (3717, 0.02357071633683399), (3718, 0.04303345137567259), (3719, 0.0432598388976037), (3720, 0.03905333627703386), (3721, 0.01217895080996887), (3722, 0.04253646857691344), (3723, 0.034843116556160965), (3724, 0.02643075411078765), (3725, 0.03126949716717266), (3726, 0.0247824198932356), (3727, 0.013248722662900395), (3728, 0.009831906079061606), (3729, 0.02186674280033424), (3730, 0.014142338049898956), (3731, 0.02504995543991621), (3732, 0.02240148874266041), (3733, 0.03612646421734634), (3734, 0.0325559166110971), (3735, 0.029896119325093062), (3736, 0.027380621718281425), (3737, 0.059805706142073076), (3738, 0.025791388684247837), (3739, 0.02374639297884806), (3740, 0.03219351277686094), (3741, 0.030561287417731082), (3742, 0.031411765280076165), (3743, 0.017310913608804608), (3744, 0.03483956430465693), (3745, 0.07144723786076629), (3746, 0.030377428145661224), (3747, 0.027262277649867182), (3748, 0.009613607223029275), (3749, 0.022744009733110585), (3750, 0.018141840974337596), (3751, 0.03544271628651462), (3752, 0.027050190894596905), (3753, 0.0076707913552869775), (3754, 0.00789130979846525), (3755, 0.011127265366729151), (3756, 0.039119001189574606), (3757, 0.05256727696253878), (3758, 0.04030840872710966), (3759, 0.062106432315749416), (3760, 0.02643741342843693), (3761, 0.04795487733765172), (3762, 0.024659007338725704), (3763, 0.028372759594926005), (3764, 0.030913290477648524), (3765, 0.01704508433565791), (3766, 0.01831648755505504), (3767, 0.031178730880101937), (3768, 0.028813290768937922), (3769, 0.016827686574571003), (3770, 0.003968826995842981), (3771, 0.05636620098009369), (3772, 0.04504575735824778), (3773, 0.02326144206240536), (3774, 0.03946572426720828), (3775, 0.029562808997166658), (3776, 0.01145406198140086), (3777, 0.04523952354056314), (3778, 0.02757598857144223), (3779, 0.037286196569494244), (3780, 0.042739592954910026), (3781, 0.039790036404397204), (3782, 0.036920525911963424), (3783, 0.04100278479340004), (3784, 0.02931637182622884), (3785, 0.04056445246863398), (3786, 0.02285634697453562), (3787, 0.060383339349108396), (3788, 0.02008264863906984), (3789, 0.018485633173751195), (3790, 0.022630291485627528), (3791, 0.012471484163797947), (3792, 0.03523728983989393), (3793, 0.05482049516975851), (3794, 0.049588561791099744), (3795, 0.02634550667365351), (3796, 0.007119801579481178), (3797, 0.05217048607116531), (3798, 0.029701008159318087), (3799, 0.034678203984437654), (3800, 0.00598882850744463), (3801, 0.045143634857571786), (3802, 0.04979434157650493), (3803, 0.02659796202173219), (3804, 0.026225309533881858), (3805, 0.021019972002581537), (3806, 0.04367989160869578), (3807, 0.04204535116394901), (3808, 0.02055716026138711), (3809, 0.04204533559944084), (3810, 0.03381017975046812), (3811, 0.030446337598972563), (3812, 0.033957658218256796), (3813, 0.015226515568046314), (3814, 0.04044161022253755), (3815, 0.02846026129543175), (3816, 0.024038517580407367), (3817, 0.02419071228836738), (3818, 0.019071785517040297), (3819, 0.026330318127875126), (3820, 0.017278339288773866), (3821, 0.04384972930795834), (3822, 0.03654449841028408), (3823, 0.06050278179272047), (3824, 0.08978217571448657), (3825, 0.031929232849358294), (3826, 0.03009092977882987), (3827, 0.014738395525272603), (3828, 0.03697106713139011), (3829, 0.020593340723849173), (3830, 0.01066653367516074), (3831, 0.019895718504407172), (3832, 0.01587178683250385), (3833, 0.03900530941016736), (3834, 0.042252520506734656), (3835, 0.011857953133036506), (3836, 0.012856393076906307), (3837, 0.09462587548674012), (3838, 0.021341397585876627), (3839, 0.02313554275389124), (3840, 0.031194027412616707), (3841, 0.036957389972915894), (3842, 0.04526451219477585), (3843, 0.058276668583531664), (3844, 0.01396457049996881), (3845, 0.03298400128416855), (3846, 0.06808248528052271), (3847, 0.043758097615112304), (3848, 0.010637764646619386), (3849, 0.04294181566386107), (3850, 0.022028622139235204), (3851, 0.05074096502250926), (3852, 0.045310648611491776), (3853, 0.023615779019308357), (3854, 0.025295770662298798), (3855, 0.006089234271903645), (3856, 0.04631949399367041), (3857, 0.018958958755073533), (3858, 0.009833186253305912), (3859, 0.016879335759914838), (3860, 0.03621688155742636), (3861, 0.016699641937569076), (3862, 0.04100520842276699), (3863, 0.008926346885039155), (3864, 0.010982641969165815), (3865, 0.013735648829141581), (3866, 0.007892618320255713), (3867, 0.02091233614439339), (3868, 0.023816746757122267), (3869, 0.028670575389099926), (3870, 0.04032239725104678), (3871, 0.036835872254362106), (3872, 0.020818851960005522), (3873, 0.0340564586332324), (3874, 0.008639426802203275), (3875, 0.044083168071977444), (3876, 0.046241381293206034), (3877, 0.048037437124087375), (3878, 0.01439405978152814), (3879, 0.02875444193647588), (3880, 0.026087251134172144), (3881, 0.02651115178404504), (3882, 0.03395255491917971), (3883, 0.014752341922534726), (3884, 0.018811735992772468), (3885, 0.022551258864368963), (3886, 0.0554984764747061), (3887, 0.005690454067982566), (3888, 0.029778219779906513), (3889, 0.02508310299617639), (3890, 0.010925503383293976), (3891, 0.033607706383209035), (3892, 0.03716766820119611), (3893, 0.02877516294291866), (3894, 0.026334198038463336), (3895, 0.01177834343291071), (3896, 0.008111957495513404), (3897, 0.026994237515805583), (3898, 0.021538154340481692), (3899, 0.016234839484575762), (3900, 0.013085398866344869), (3901, 0.025805982326275595), (3902, 0.034031944447794636), (3903, 0.04567232030219328), (3904, 0.02752117254988197), (3905, 0.01493408775087054), (3906, 0.031226193384530795), (3907, 0.023750628429076555), (3908, 0.022685140902352484), (3909, 0.01828033852329685), (3910, 0.02190889767742464), (3911, 0.012839815810989925), (3912, 0.030280347748508567), (3913, 0.023201237732432756), (3914, 0.02227313769731155), (3915, 0.0342866478639708), (3916, 0.014054358734667434), (3917, 0.048571157522359604), (3918, 0.014446614801129814), (3919, 0.03290846874566391), (3920, 0.020716342753259412), (3921, 0.0361754842575949), (3922, 0.029882650944742604), (3923, 0.022488221289554636), (3924, 0.036054790220207945), (3925, 0.027554919348311432), (3926, 0.028967381858377887), (3927, 0.020832538116338877), (3928, 0.03210636537277411), (3929, 0.024734656526626504), (3930, 0.023972374645882904), (3931, 0.019443784397330206), (3932, 0.01726323015947185), (3933, 0.0194745657753944), (3934, 0.010953306385591721), (3935, 0.03299271659249529), (3936, 0.009052760788974937), (3937, 0.052971555719911856), (3938, 0.02983895171584153), (3939, 0.03333710252557265), (3940, 0.02761441129023745), (3941, 0.02402083645014395), (3942, 0.01726634926361414), (3943, 0.017055075406885927), (3944, 0.05057327960991228), (3945, 0.012335693025071103), (3946, 0.031207968123632343), (3947, 0.017634553600746384), (3948, 0.03232898915007957), (3949, 0.021622005908512192), (3950, 0.01161841654722219), (3951, 0.013255701762302473), (3952, 0.04568306463589652), (3953, 0.02604217469576851), (3954, 0.019913779727256605), (3955, 0.03936301201788338), (3956, 0.018163348560781323), (3957, 0.05271851049396904), (3958, 0.011519306625662683), (3959, 0.026259435856515728), (3960, 0.016633089228180548), (3961, 0.03495248181612205), (3962, 0.028378040623976714), (3963, 0.0555939186411577), (3964, 0.014870704284881625), (3965, 0.01983787868125088), (3966, 0.03266609447449637), (3967, 0.02632034985501035), (3968, 0.02610753870980234), (3969, 0.031407160814820895), (3970, 0.028759170886443162), (3971, 0.011242584799565134), (3972, 0.027584086261790965), (3973, 0.03914962869945188), (3974, 0.038354168200126416), (3975, 0.016045796370524314), (3976, 0.024954148486307105), (3977, 0.02423831016924398), (3978, 0.02170670717008341), (3979, 0.023396070903986474), (3980, 0.03425010217755479), (3981, 0.044807909930965235), (3982, 0.018292673132473725), (3983, 0.03417467844593748), (3984, 0.018813691401534716), (3985, 0.025587582269449082), (3986, 0.027902078081135435), (3987, 0.01862173523709884), (3988, 0.0034734663461374045), (3989, 0.04369571009802386), (3990, 0.025734677564045426), (3991, 0.024773464916384633), (3992, 0.02085017607416037), (3993, 0.04514938211360803), (3994, 0.040409053147137865), (3995, 0.029854959584439015), (3996, 0.026130571449864942), (3997, 0.03869747205574634), (3998, 0.02886455006278288), (3999, 0.025323878579657375), (4000, 0.05047238379722993), (4001, 0.026726888496995914), (4002, 0.07817215066910643), (4003, 0.0336486319654704), (4004, 0.02519772314129433), (4005, 0.05142260967273045), (4006, 0.03381504264892755), (4007, 0.0234068221110961), (4008, 0.01648771394525622), (4009, 0.031729942963370394), (4010, 0.024180436651649186), (4011, 0.01991062462188359), (4012, 0.028668059618540204), (4013, 0.04764117648806293), (4014, 0.027557442143942613), (4015, 0.024431762084074878), (4016, 0.020754821203681897), (4017, 0.06965899275958895), (4018, 0.02117005995400191), (4019, 0.006556749976518899), (4020, 0.03746021986663717), (4021, 0.02205169711141874), (4022, 0.017997936040782942), (4023, 0.010488520723420873), (4024, 0.028112621805875183), (4025, 0.018594671503987175), (4026, 0.012955811497302102), (4027, 0.03509802216850102), (4028, 0.02891082859976288), (4029, 0.028464150741571083), (4030, 0.014681900235799267), (4031, 0.039782517453807655), (4032, 0.024209014720456883), (4033, 0.03255956706750542), (4034, 0.023617418036343107), (4035, 0.03825870981519202), (4036, 0.042764604718313844), (4037, 0.05744646493867444), (4038, 0.05380229262155764), (4039, 0.0242169102437378), (4040, 0.015010361933331856), (4041, 0.01920318788513199), (4042, 0.036514142158486286), (4043, 0.028960107026481725), (4044, 0.04025634222437086), (4045, 0.021589532989178293), (4046, 0.0231378464234812), (4047, 0.01272882490301725), (4048, 0.013428366183923072), (4049, 0.04277876793231373), (4050, 0.02505007508026363), (4051, 0.02416528222392008), (4052, 0.021306850978093247), (4053, 0.030803945432146682), (4054, 0.024008709414366766), (4055, 0.0417878936761434), (4056, 0.024275598712738634), (4057, 0.033776602754835135), (4058, 0.016705516404939207), (4059, 0.045809832271499484), (4060, 0.030697045724600146), (4061, 0.03599432277827684), (4062, 0.05607755084895599), (4063, 0.017970060618289672), (4064, 0.0299661426275936), (4065, 0.01273984240232365), (4066, 0.025220562002983112), (4067, 0.036236601397993805), (4068, 0.028373931285183215), (4069, 0.02718915576672329), (4070, 0.03805881982945023), (4071, 0.03552989775345142), (4072, 0.02073440622321085), (4073, 0.015713010356323654), (4074, 0.011400426049754614), (4075, 0.025084205136077398), (4076, 0.01213927679731874), (4077, 0.020627766813173326), (4078, 0.040268493943723324), (4079, 0.023065389556942185), (4080, 0.02067697378916898), (4081, 0.024921579111187666), (4082, 0.043964513752429324), (4083, 0.02472436932802957), (4084, 0.018464466949332053), (4085, 0.061855202518620166), (4086, 0.04108023683187418), (4087, 0.02807058955801799), (4088, 0.0379179754493682), (4089, 0.02271856627372571), (4090, 0.0226768155225229), (4091, 0.02498089355630214), (4092, 0.04108223508859288), (4093, 0.05221012640681745), (4094, 0.033530775709369826), (4095, 0.029615052822382422), (4096, 0.02393320790978187), (4097, 0.020368682645396083), (4098, 0.03971887925943111), (4099, 0.03833932927743013), (4100, 0.03835636505545385), (4101, 0.018628412551333635), (4102, 0.03062210035646704), (4103, 0.034900176666668), (4104, 0.01605628170980002), (4105, 0.036689996661444346), (4106, 0.020058788163761054), (4107, 0.019221316788624057), (4108, 0.027073469621113247), (4109, 0.019488803936015115), (4110, 0.02823096329511457), (4111, 0.0), (4112, 0.02051056506385014), (4113, 0.037840523470133176), (4114, 0.04118797885004037), (4115, 0.0333723012275706), (4116, 0.03684008376014219), (4117, 0.013765094922939307), (4118, 0.04823757248419241), (4119, 0.025089585706647134), (4120, 0.018508120651347236), (4121, 0.022440127623512805), (4122, 0.03153315184871665), (4123, 0.02264864400791403), (4124, 0.031048794028985076), (4125, 0.023511787478306224), (4126, 0.0048394666774246795), (4127, 0.01110627048316342), (4128, 0.034095200196620025), (4129, 0.022397715550802107), (4130, 0.025376350853133153), (4131, 0.0008921187764795156), (4132, 0.03015945952838716), (4133, 0.013928691134474735), (4134, 0.02335450685176484), (4135, 0.02788510059504032), (4136, 0.042083459237904006), (4137, 0.0505018876634119), (4138, 0.02462315210962934), (4139, 0.012695857933702367), (4140, 0.07838120605050822), (4141, 0.03255435070032632), (4142, 0.04767192406793834), (4143, 0.04323209775473104), (4144, 0.026130330289727745), (4145, 0.026896688578785022), (4146, 0.0352402317688126), (4147, 0.03039226595920954), (4148, 0.049002497628454184), (4149, 0.02870962920775296), (4150, 0.02526782353201553), (4151, 0.009260013165503638), (4152, 0.031407626352030114), (4153, 0.019752752494390364), (4154, 0.04094046588255076), (4155, 0.02889609960193394), (4156, 0.028889410295672192), (4157, 0.016422117217431392), (4158, 0.04105750441329236), (4159, 0.02631929049689235), (4160, 0.019785086908395068), (4161, 0.040930551394078356), (4162, 0.05210411839371504), (4163, 0.04600941562104742), (4164, 0.048573149697348605), (4165, 0.01882345955641646), (4166, 0.033777844021472124), (4167, 0.018686005915909416), (4168, 0.02292628354248914), (4169, 0.016828046020652066), (4170, 0.028640674497637686), (4171, 0.0353244855289976), (4172, 0.03747689876304419), (4173, 0.013205918960568882), (4174, 0.015169003913284483), (4175, 0.026094568993049194), (4176, 0.027557881404942152), (4177, 0.062120486409428265), (4178, 0.04719509380092488), (4179, 0.03128410587065209), (4180, 0.012090642584536026), (4181, 0.03932848040218088), (4182, 0.017981341023722806), (4183, 0.026456896522823146), (4184, 0.010305884199687728), (4185, 0.03059254703482089), (4186, 0.03135467768161949), (4187, 0.04694438081234603), (4188, 0.01045850232068673), (4189, 0.036517293366476675), (4190, 0.01713045698936743), (4191, 0.019251764077581536), (4192, 0.021436537214959372), (4193, 0.04092160731163111), (4194, 0.045358390106847585), (4195, 0.02335955782284543), (4196, 0.017280898991670342), (4197, 0.006110986648473364), (4198, 0.02750072503962228), (4199, 0.013833390117239882), (4200, 0.019524374508387767), (4201, 0.014171697627243147), (4202, 0.032326094020476474), (4203, 0.01455853081692418), (4204, 0.012026717063380118), (4205, 0.01753399017687435), (4206, 0.04445500010600349), (4207, 0.023801211905692312), (4208, 0.029322244479857176), (4209, 0.0142868209363726), (4210, 0.021246978174331695), (4211, 0.03269591349427424), (4212, 0.06686608481708416), (4213, 0.033264301475769274), (4214, 0.01157507530723141), (4215, 0.010234077142592665), (4216, 0.022667821026111153), (4217, 0.027728261665526856), (4218, 0.02926844450845791), (4219, 0.02509144351003889), (4220, 0.038388415682805335), (4221, 0.008467646838406999), (4222, 0.006691523987463653), (4223, 0.029449057289759197), (4224, 0.049890947857886406), (4225, 0.02689566872877865), (4226, 0.024670816061471174), (4227, 0.05808904417638675), (4228, 0.017466442178264232), (4229, 0.023810294629335742), (4230, 0.02275834039566264), (4231, 0.02683789680677233), (4232, 0.04726822593546203), (4233, 0.05638682508205724), (4234, 0.018021039666250595), (4235, 0.026030933913486595), (4236, 0.030642177926334755), (4237, 0.02774521686964741), (4238, 0.043906760870606194), (4239, 0.020765306110269725), (4240, 0.04260408745817668), (4241, 0.027718933214880462), (4242, 0.044214346351107686), (4243, 0.021298085567002738), (4244, 0.03187781026725263), (4245, 0.029167734340399362), (4246, 0.040030529904990585), (4247, 0.023178279887320824), (4248, 0.045121581957156605), (4249, 0.023807545973550233), (4250, 0.010122637093989027), (4251, 0.003537317322936306), (4252, 0.04319936544807468), (4253, 0.025532803107683646), (4254, 0.012127777630957962), (4255, 0.039539779114578795), (4256, 0.02317505323206227), (4257, 0.027196714966395495), (4258, 0.03425681973902217), (4259, 0.020026001587762306), (4260, 0.0), (4261, 0.036976622188588354), (4262, 0.04610830314561856), (4263, 0.030113404940466132), (4264, 0.039275526972294736), (4265, 0.05473570970156584), (4266, 0.02665439692617356), (4267, 0.022052967358638827), (4268, 0.055331392922036864), (4269, 0.021195455470463493), (4270, 0.04082057920499038), (4271, 0.029776091228433704), (4272, 0.051034098684010855), (4273, 0.04578129051531287), (4274, 0.021056920943481515), (4275, 0.032554496301324815), (4276, 0.01643611968799353), (4277, 0.03338278689187552), (4278, 0.027195793384754304), (4279, 0.02162433577658139), (4280, 0.019139198015017053), (4281, 0.0420191821546995), (4282, 0.031563963481492166), (4283, 0.05665424672013038), (4284, 0.005208363409296096), (4285, 0.0466462589843849), (4286, 0.05223631867000651), (4287, 0.02080193868721958), (4288, 0.02890611641234612), (4289, 0.021482492765378582), (4290, 0.04090007027837338), (4291, 0.019231625888318882), (4292, 0.03184130102642628), (4293, 0.031737717431636725), (4294, 0.030065034738977807), (4295, 0.02595253800894906), (4296, 0.044137269809402024), (4297, 0.02191128941139454), (4298, 0.04776195097955956), (4299, 0.033935144248327505), (4300, 0.01859995901990598), (4301, 0.010794248849726136), (4302, 0.025514581022156896), (4303, 0.031964440830921495), (4304, 0.021238627354771174), (4305, 0.03525556770232062), (4306, 0.0346838731379605), (4307, 0.027659494867699943), (4308, 0.02349937166031951), (4309, 0.033204350537522596), (4310, 0.02736813977719546), (4311, 0.013014967103669483), (4312, 0.026562841740187457), (4313, 0.028672950670017277), (4314, 0.022897118787687194), (4315, 0.009060732805768282), (4316, 0.0060569692175093766), (4317, 0.01199952975252741), (4318, 0.025663890066469672), (4319, 0.06100535069442787), (4320, 0.023659062296428685), (4321, 0.019947541829017056), (4322, 0.026758819270404393), (4323, 0.02721437340738893), (4324, 0.028532249432271926), (4325, 0.022604787191090825), (4326, 0.02643998467811366), (4327, 0.04398125239128392), (4328, 0.041412266951454606), (4329, 0.05062865218121639), (4330, 0.021410722780129662), (4331, 0.059959366690862395), (4332, 0.011033701800671144), (4333, 0.03312521082039161), (4334, 0.08972224151703712), (4335, 0.018691989142103488), (4336, 0.035839253196273936), (4337, 0.02657667757653642), (4338, 0.047858153282618936), (4339, 0.023731120404597843), (4340, 0.02418046232305866), (4341, 0.029383031063374112), (4342, 0.025284795106214647), (4343, 0.03175297745767023), (4344, 0.023056496859170394), (4345, 0.033728559269735524), (4346, 0.021338557658038392), (4347, 0.04153508356616134), (4348, 0.03331605610562331), (4349, 0.013582171462436197), (4350, 0.03502484148867781), (4351, 0.06206858603361232), (4352, 0.019340872036217628), (4353, 0.02779691721960434), (4354, 0.015062007286098017), (4355, 0.010749250688697908), (4356, 0.05710818211685233), (4357, 0.04334408221528647), (4358, 0.030446880129545266), (4359, 0.027057522469744636), (4360, 0.028905318957094354), (4361, 0.013977776752683628), (4362, 0.02259830637701008), (4363, 0.06475666258067285), (4364, 0.04162498109983387), (4365, 0.05610490931969271), (4366, 0.03394415979782334), (4367, 0.04726515526411616), (4368, 0.024663744524968122), (4369, 0.012100585050499952), (4370, 0.017236576477248893), (4371, 0.05370786723575465), (4372, 0.027448046672024842), (4373, 0.023713563034877438), (4374, 0.057270839439995024), (4375, 0.042409796839445055), (4376, 0.0394654930837899), (4377, 0.03918645660712046), (4378, 0.021000845302279997), (4379, 0.028936738464790286), (4380, 0.025197740390026015), (4381, 0.028250830906394384), (4382, 0.011589765721301796), (4383, 0.032399764173988786), (4384, 0.07312309690566658), (4385, 0.03318507664126979), (4386, 0.02648890082126544), (4387, 0.022226578190177114), (4388, 0.03731118199302564), (4389, 0.04424902333429646), (4390, 0.031317605068843145), (4391, 0.027861059233223285), (4392, 0.025982343280849755), (4393, 0.02223980034772497), (4394, 0.017215024543465688), (4395, 0.017595413226015), (4396, 0.03481233779555897), (4397, 0.032943437556782425), (4398, 0.01783622683397078), (4399, 0.032000253788513226), (4400, 0.034058982738501165), (4401, 0.014096560584997463), (4402, 0.021031818086621582), (4403, 0.022785304911044406), (4404, 0.030341077738646752), (4405, 0.020753286016146042), (4406, 0.035803223464931595), (4407, 0.010082608076609196), (4408, 0.022902741923690222), (4409, 0.021052168865202447), (4410, 0.01905613597843895), (4411, 0.027831226208716957), (4412, 0.04311859231173741), (4413, 0.027766077218384668), (4414, 0.03177673368521348), (4415, 0.013975620999037229), (4416, 0.04862381162174191), (4417, 0.011672121116235534), (4418, 0.020856727548861014), (4419, 0.02594072825438091), (4420, 0.01617799695762683), (4421, 0.029887429112586635), (4422, 0.01927761184157395), (4423, 0.0505232389610165), (4424, 0.006105517616075163), (4425, 0.009791785696200442), (4426, 0.009100836989248627), (4427, 0.009159792059030657), (4428, 0.03687294070454281), (4429, 0.022664023498177494), (4430, 0.023364684973155254), (4431, 0.03247439581767051), (4432, 0.017076832418474186), (4433, 0.041146741029517535), (4434, 0.01954657269049056), (4435, 0.02431182893148994), (4436, 0.01845461123672912), (4437, 0.022326214733801097), (4438, 0.038399488296875936), (4439, 0.023141882872721817), (4440, 0.047322313342759485), (4441, 0.025311465798324672), (4442, 0.02638690135479779), (4443, 0.022307005352425666), (4444, 0.028986507655491444), (4445, 0.025087318963731245), (4446, 0.01139605949562067), (4447, 0.024709722194424074), (4448, 0.0275253470345898), (4449, 0.02864641508343649), (4450, 0.030084556226078706), (4451, 0.017221273425894343), (4452, 0.022840244065430573), (4453, 0.01915107284523596), (4454, 0.05135712160062668), (4455, 0.03730569351618319), (4456, 0.030790331928124644), (4457, 0.055853424281386156), (4458, 0.03297219967783116), (4459, 0.03880584180295899), (4460, 0.03126833692140951), (4461, 0.017908138676483006), (4462, 0.03701040198794602), (4463, 0.018414911858241675), (4464, 0.03744409554521913), (4465, 0.037324657929107274), (4466, 0.023398267528404293), (4467, 0.046752436806440735), (4468, 0.022113010371410124), (4469, 0.011605445694614027), (4470, 0.05869050232807756), (4471, 0.08602897850794539), (4472, 0.030931980831741226), (4473, 0.02777459100755124), (4474, 0.031449883607872604), (4475, 0.03947657537994663), (4476, 0.022006714219336573), (4477, 0.045026949317465474), (4478, 0.02543478727245315), (4479, 0.02448814792459665), (4480, 0.06091933405003068), (4481, 0.03703748884812003), (4482, 0.04501458240005878), (4483, 0.031149153358553075), (4484, 0.02219760226736448), (4485, 0.01865408416699573), (4486, 0.037408333765116736), (4487, 0.02542863780162518), (4488, 0.027131535255292556), (4489, 0.022517372931824674), (4490, 0.019665552065010833), (4491, 0.013226714751153624), (4492, 0.012130217147950918), (4493, 0.03437727503130206), (4494, 0.024978178860351582), (4495, 0.05670672017771205), (4496, 0.02216999634030458), (4497, 0.02195205751530527), (4498, 0.029042509604217084), (4499, 0.023970496624264852), (4500, 0.017579205188776724), (4501, 0.02180127703974795), (4502, 0.025387026238598894), (4503, 0.027719338773083413), (4504, 0.038721335950531253), (4505, 0.030032694701229642), (4506, 0.018573686150918284), (4507, 0.029375149678398042), (4508, 0.02759081280215607), (4509, 0.04664874141262006), (4510, 0.021589491970896848), (4511, 0.05358687245062607), (4512, 0.026860161931676292), (4513, 0.04079461685586649), (4514, 0.013808385818773153), (4515, 0.014935271120999495), (4516, 0.02944428747957252), (4517, 0.037797861095729524), (4518, 0.018577244893911382), (4519, 0.04436122965420583), (4520, 0.008971156362142813), (4521, 0.012728079498620771), (4522, 0.05852900673984923), (4523, 0.03488207126142638), (4524, 0.041309125094525646), (4525, 0.041829953971800726), (4526, 0.01977197769010313), (4527, 0.029745310728882698), (4528, 0.045508462662738655), (4529, 0.02818336065607341), (4530, 0.015012207152410261), (4531, 0.018170276052027222), (4532, 0.012291025244638997), (4533, 0.02415746525707116), (4534, 0.02590080428994233), (4535, 0.0390198912193041), (4536, 0.028125592893262257), (4537, 0.018307655115328048), (4538, 0.03693383580393675), (4539, 0.030760009043121057), (4540, 0.01891499047287403), (4541, 0.026327978541473344), (4542, 0.012440839201720106), (4543, 0.019943970809296177), (4544, 0.004249802564888347), (4545, 0.04219886542698672), (4546, 0.02851709068912768), (4547, 0.03332258910250163), (4548, 0.04412763452581618), (4549, 0.02931899931671465), (4550, 0.03188390470195584), (4551, 0.03347230450321069), (4552, 0.02928060379991132), (4553, 0.04017765265269354), (4554, 0.058338998535780145), (4555, 0.029352366421503382), (4556, 0.01197530896183956), (4557, 0.03494419662309416), (4558, 0.02656194894123185), (4559, 0.039126096172845834), (4560, 0.04312120189894572), (4561, 0.0), (4562, 0.017736011966463093), (4563, 0.01684890386847179), (4564, 0.0506576842196441), (4565, 0.015186070500822992), (4566, 0.02699895714702147), (4567, 0.013791320359915543), (4568, 0.03636208635477769), (4569, 0.02990112814395007), (4570, 0.015767859977595812), (4571, 0.002888186907344967), (4572, 0.011374636735426883), (4573, 0.015941688662167663), (4574, 0.04459015889676036), (4575, 0.07104051802654288), (4576, 0.05157154687229917), (4577, 0.02023602725496853), (4578, 0.004533644977605271), (4579, 0.01039329738610689), (4580, 0.008164045913348905), (4581, 0.02595246426446704), (4582, 0.023149972082421106), (4583, 0.021314380074137315), (4584, 0.028848183132765486), (4585, 0.019819660290434762), (4586, 0.02277223231112514), (4587, 0.03490074299606868), (4588, 0.028675170551470227), (4589, 0.0352564190686793), (4590, 0.0378531960241324), (4591, 0.02388889843780245), (4592, 0.025258343016277413), (4593, 0.02533995246938712), (4594, 0.02909254771427115), (4595, 0.041918627823756674), (4596, 0.02253388109167727), (4597, 0.03290190730385456), (4598, 0.05050382834000211), (4599, 0.029441923189368748), (4600, 0.07184037291828839), (4601, 0.024533701789676197), (4602, 0.02729550641460855), (4603, 0.03142476737251372), (4604, 0.01349339592771431), (4605, 0.020344731977639027), (4606, 0.01850161135860213), (4607, 0.021391446243718276), (4608, 0.019224036016593143), (4609, 0.02842911113032044), (4610, 0.0229072432171358), (4611, 0.024202606629418724), (4612, 0.04470740695324743), (4613, 0.03947871087373652), (4614, 0.01952612827216896), (4615, 0.033258221569512116), (4616, 0.02264243825990426), (4617, 0.009281174275026395), (4618, 0.014888708393034186), (4619, 0.029369307700332838), (4620, 0.020950746702125295), (4621, 0.015631314092167878), (4622, 0.02545209951012602), (4623, 0.04468188318607965), (4624, 0.027668680658660887), (4625, 0.033325861229947136), (4626, 0.03470735019909365), (4627, 0.028261621676090157), (4628, 0.018791667540357274), (4629, 0.0244999640424564), (4630, 0.03905009006369651), (4631, 0.007598727561408275), (4632, 0.028233032291723498), (4633, 0.021889320538267573), (4634, 0.019833931695060675), (4635, 0.02098643847369003), (4636, 0.03117187047368781), (4637, 0.020048070569876893), (4638, 0.018414583950241686), (4639, 0.029493977542143626), (4640, 0.05855638893026167), (4641, 0.03806499081186135), (4642, 0.021969459285415254), (4643, 0.01615624638496994), (4644, 0.011526698450349933), (4645, 0.012046007091784152), (4646, 0.016543420653374934), (4647, 0.021002088695636297), (4648, 0.00833808991189844), (4649, 0.02952929325206376), (4650, 0.008256345487559592), (4651, 0.05428495857448879), (4652, 0.050650945145034515), (4653, 0.03225942155096348), (4654, 0.018551043061500377), (4655, 0.04964306574292477), (4656, 0.03413342199639981), (4657, 0.007712618887855066), (4658, 0.019590660738359553), (4659, 0.024129984801270998), (4660, 0.01564886362290658), (4661, 0.028564201672383452), (4662, 0.023033628494193926), (4663, 0.02401345614962856), (4664, 0.03995019930503938), (4665, 0.03447766574897778), (4666, 0.0274164469033568), (4667, 0.04082206086524491), (4668, 0.03787209565428493), (4669, 0.027056887292109567), (4670, 0.025580543588942295), (4671, 0.0023142883181886766), (4672, 0.021614669770408858), (4673, 0.05033910794154052), (4674, 0.021476104457356034), (4675, 0.03630181256418524), (4676, 0.019317620208362456), (4677, 0.018682640485788615), (4678, 0.033546102762575296), (4679, 0.03655190328341467), (4680, 0.022230854836623685), (4681, 0.017714078901823582), (4682, 0.04304368651487919), (4683, 0.023008308336162468), (4684, 0.024869386869291618), (4685, 0.017532270546421397), (4686, 0.03064350725400843), (4687, 0.008132854028455861), (4688, 0.006110806166315941), (4689, 0.023172816276538354), (4690, 0.027059233822887288), (4691, 0.016533800852364722), (4692, 0.03598718440162839), (4693, 0.014939058738346875), (4694, 0.014087508434670246), (4695, 0.01945703174934308), (4696, 0.00656069282830173), (4697, 0.049525380311667935), (4698, 0.06702757734848763), (4699, 0.029367912219556088), (4700, 0.008340116537771496), (4701, 0.04186692742687854), (4702, 0.009402114500906661), (4703, 0.017555269086516504), (4704, 0.034077588164732824), (4705, 0.023406009857636464), (4706, 0.019034490415279118), (4707, 0.04540051606861046), (4708, 0.008598438025716358), (4709, 0.029099317583760557), (4710, 0.0047726045082538), (4711, 0.004100205804636109), (4712, 0.027612824815561418), (4713, 0.021235809225404488), (4714, 0.021780518158298144), (4715, 0.04043614461727615), (4716, 0.0196278918397348), (4717, 0.028057690947779237), (4718, 0.02985775864973999), (4719, 0.031743642541724404), (4720, 0.012266902644957034), (4721, 0.01710565860837283), (4722, 0.017853002203391432), (4723, 0.014427934037003742), (4724, 0.0031249196143222353), (4725, 0.05561183239018068), (4726, 0.009957897460318643), (4727, 0.010152986173977675), (4728, 0.006240543051712995), (4729, 0.004498052205254454), (4730, 0.01636818500195747), (4731, 0.011641678725802934), (4732, 0.018529132468145866), (4733, 0.015103563462632214), (4734, 0.05424351731885902), (4735, 0.03104845672822271), (4736, 0.014687789967559395), (4737, 0.02975532199275759), (4738, 0.021697642673200117), (4739, 0.014800950507489676), (4740, 0.01657342496411561), (4741, 0.03644337402734174), (4742, 0.020168402020171998), (4743, 0.029779884840275134), (4744, 0.022062059323125525), (4745, 0.020376385500623873), (4746, 0.018009975465932845), (4747, 0.031562703205073435), (4748, 0.033045721975575794), (4749, 0.010429730224037063), (4750, 0.018939699222300523), (4751, 0.012342546294406256), (4752, 0.013521713762844513), (4753, 0.008603488278951145), (4754, 0.01408514665322557), (4755, 0.0064621694167523915), (4756, 0.026657907652820827), (4757, 0.021470027005975535), (4758, 0.04503799845033716), (4759, 0.01119752373630302)]\n"
          ]
        }
      ]
    },
    {
      "cell_type": "code",
      "source": [
        "len(recommendation_score)"
      ],
      "metadata": {
        "colab": {
          "base_uri": "https://localhost:8080/"
        },
        "id": "pHqkkQw46j4_",
        "outputId": "206f8610-4cd8-41e7-9d8b-73df3826b5cc"
      },
      "execution_count": 35,
      "outputs": [
        {
          "output_type": "execute_result",
          "data": {
            "text/plain": [
              "4760"
            ]
          },
          "metadata": {},
          "execution_count": 35
        }
      ]
    },
    {
      "cell_type": "markdown",
      "source": [
        "### **Get All Movies Sort Based on Recommendation Score wrt Favourite Movie**"
      ],
      "metadata": {
        "id": "5naKrexQKF1F"
      }
    },
    {
      "cell_type": "code",
      "source": [
        "sorted_similar_movies = sorted(recommendation_score, key = lambda x:x[1], reverse = True)\n",
        "print(sorted_similar_movies)"
      ],
      "metadata": {
        "colab": {
          "base_uri": "https://localhost:8080/"
        },
        "id": "Io8BzLau6j75",
        "outputId": "9ee50bff-4ef8-4175-c966-fd94f4b0437d"
      },
      "execution_count": 36,
      "outputs": [
        {
          "output_type": "stream",
          "name": "stdout",
          "text": [
            "[(557, 1.0000000000000002), (556, 0.15142561188788395), (777, 0.10765655512689826), (291, 0.10185528402459189), (3326, 0.0977173262515396), (1880, 0.09557834003046854), (3837, 0.09462587548674012), (3604, 0.09187205632483839), (2251, 0.09158332205664611), (1339, 0.09133910052481246), (3824, 0.08978217571448657), (4334, 0.08972224151703712), (2216, 0.08812562527900601), (1207, 0.08788276989638402), (2357, 0.08757367881719004), (1515, 0.08735583045409828), (3369, 0.08609674716898634), (4471, 0.08602897850794539), (2550, 0.08602870442157454), (2139, 0.08493222381267464), (100, 0.08492113346898833), (81, 0.08491773266031474), (99, 0.08390054394500217), (3380, 0.0828482855484026), (2440, 0.08210793533365891), (2805, 0.08153413528887274), (1502, 0.08053824415586029), (208, 0.08050448606744784), (2701, 0.08014057609145439), (2899, 0.07989610131015938), (2914, 0.07903859064811518), (2511, 0.07847454665886167), (4140, 0.07838120605050822), (4002, 0.07817215066910643), (3191, 0.07640095166218211), (2953, 0.07629707256420071), (3363, 0.07599620997471297), (2745, 0.07597713276035563), (1864, 0.07435175787499612), (994, 0.07385151458442017), (4384, 0.07312309690566658), (3109, 0.07291650836756373), (464, 0.0728566876851244), (2278, 0.07279920962322743), (866, 0.07263159079612505), (97, 0.07254471669981966), (3489, 0.07239365594472434), (4600, 0.07184037291828839), (436, 0.07172881425245123), (3155, 0.07147426036026384), (3745, 0.07144723786076629), (4575, 0.07104051802654288), (46, 0.07098438604291445), (189, 0.07097466202683415), (2506, 0.0708161457086297), (3463, 0.07057438062824099), (2693, 0.06998897448913367), (1591, 0.06998158924707831), (1853, 0.06992464555711476), (2554, 0.06978639739705465), (2755, 0.06968420240811106), (4017, 0.06965899275958895), (1795, 0.06947200759595248), (1935, 0.06873726269229215), (1867, 0.06873363302547138), (110, 0.06845325961393468), (375, 0.0684047789851657), (223, 0.06818155600882161), (3846, 0.06808248528052271), (1482, 0.06790070655114214), (2535, 0.06774910318126436), (3522, 0.06751346299684416), (2394, 0.06724040560672458), (4698, 0.06702757734848763), (4212, 0.06686608481708416), (334, 0.06647575961404262), (3352, 0.06565501278797015), (1432, 0.06562273091551661), (2766, 0.06556459487560232), (378, 0.06549843484656379), (996, 0.06541060707570696), (820, 0.06511018240243041), (2683, 0.06510538999734838), (2561, 0.0650388948138386), (1634, 0.06484756550225931), (1829, 0.06481524547457246), (4363, 0.06475666258067285), (3517, 0.06471247422106766), (3315, 0.06468002270614377), (1379, 0.06456489925843817), (2464, 0.0644158146011077), (2802, 0.06422018379444952), (143, 0.06419002773723434), (1595, 0.06412465098040136), (2680, 0.06409543461014261), (3678, 0.06409404918652818), (1177, 0.06395025701961886), (3569, 0.06358630630079895), (178, 0.0635359104762151), (212, 0.06344926304531955), (3469, 0.06339798391150991), (2252, 0.06335238741844548), (463, 0.06333113964694664), (1535, 0.06311302379120616), (5, 0.06237786203550673), (1082, 0.062241537506373755), (4177, 0.062120486409428265), (3759, 0.062106432315749416), (1551, 0.06206949877016399), (4351, 0.06206858603361232), (800, 0.062022832824460035), (4085, 0.061855202518620166), (387, 0.061726986728102014), (2543, 0.06161195364851683), (2107, 0.06149428305687318), (1493, 0.0613446788626954), (3598, 0.06128065819547533), (558, 0.061162563624593), (621, 0.061087210705632375), (4319, 0.06100535069442787), (1658, 0.06092126303407258), (4480, 0.06091933405003068), (2226, 0.06091393151269637), (2757, 0.06083467996341531), (3823, 0.06050278179272047), (1321, 0.060424959269841844), (3787, 0.060383339349108396), (2337, 0.06028013651042319), (3459, 0.06018719356854782), (2518, 0.060183972153061066), (3470, 0.0601603941094252), (1119, 0.06012531812200352), (4331, 0.059959366690862395), (2625, 0.05991813515521425), (3737, 0.059805706142073076), (3706, 0.05980494416469536), (2665, 0.05973513423029957), (3086, 0.05967708677389818), (952, 0.05966757688647249), (703, 0.05965712129798682), (3013, 0.059651316479892996), (2136, 0.05926723477623838), (273, 0.059249383148240374), (465, 0.05922805912253335), (2661, 0.05920809097538641), (545, 0.05892015635442771), (3294, 0.05886256137653213), (1283, 0.058854967972592445), (4470, 0.05869050232807756), (4640, 0.05855638893026167), (3099, 0.05855592156055372), (4522, 0.05852900673984923), (1104, 0.058504781380970435), (4554, 0.058338998535780145), (1806, 0.05831214166621024), (403, 0.05827877240847081), (3843, 0.058276668583531664), (868, 0.05822535114164864), (4227, 0.05808904417638675), (59, 0.0580701474698757), (3619, 0.05806557344150058), (1023, 0.05789450707172736), (934, 0.05782654387426613), (2908, 0.05775228388089152), (988, 0.05759930331919739), (4037, 0.05744646493867444), (2526, 0.05740275073721263), (896, 0.0573916063827015), (849, 0.057346227819183464), (4374, 0.057270839439995024), (1299, 0.057207851728519166), (3166, 0.05717399801264978), (4356, 0.05710818211685233), (574, 0.057097379689158415), (265, 0.05705690845184846), (53, 0.056952626940814904), (3253, 0.05692526905520438), (2368, 0.056916756573280214), (245, 0.056901185280051655), (624, 0.05683259315015374), (2181, 0.05676884077697945), (1904, 0.0567261685823732), (4495, 0.05670672017771205), (648, 0.05668964638435902), (4283, 0.05665424672013038), (3091, 0.056619958622147366), (2168, 0.05646405373671618), (4233, 0.05638682508205724), (3771, 0.05636620098009369), (2492, 0.05625578123954404), (47, 0.0561944621668677), (2718, 0.05616523647114759), (161, 0.05611204766601165), (4365, 0.05610490931969271), (4062, 0.05607755084895599), (2927, 0.05593457221390487), (3455, 0.055928224618423394), (3681, 0.055875004872037094), (4457, 0.055853424281386156), (747, 0.05579531985863452), (2413, 0.05576505232643924), (644, 0.05566744763081191), (4725, 0.05561183239018068), (3963, 0.0555939186411577), (963, 0.055533912317202706), (2201, 0.05550391435123951), (3886, 0.0554984764747061), (2892, 0.05549778437271983), (3278, 0.055474690478440905), (3362, 0.05543077911193605), (260, 0.05538128409544628), (3448, 0.05537728816159861), (4268, 0.055331392922036864), (269, 0.05524417691897542), (1163, 0.05505948122413862), (2803, 0.054986796341075235), (3555, 0.05498357259551693), (1228, 0.05493548100241816), (3793, 0.05482049516975851), (1415, 0.0547365860425599), (4265, 0.05473570970156584), (2891, 0.05471672566697536), (1111, 0.054491980024399866), (171, 0.05446657018658176), (956, 0.0543922410714782), (735, 0.054390399928686196), (4651, 0.05428495857448879), (1006, 0.05424777002137585), (4734, 0.05424351731885902), (1357, 0.054145140843032055), (163, 0.053956783195883), (4038, 0.05380229262155764), (1966, 0.05371262663984192), (4371, 0.05370786723575465), (16, 0.05368799607419747), (4511, 0.05358687245062607), (3438, 0.053575112641467866), (1065, 0.05351435648502945), (1436, 0.053414888459047), (168, 0.053125728585678905), (587, 0.053088613145712206), (3937, 0.052971555719911856), (915, 0.052897056763245305), (2584, 0.0528901566355342), (1251, 0.0528815115757488), (2182, 0.052836659544647634), (1113, 0.05282787487620748), (3384, 0.05275784012407688), (3957, 0.05271851049396904), (3655, 0.05259453862913321), (3757, 0.05256727696253878), (3238, 0.05243718030478857), (634, 0.05232283537364777), (4286, 0.05223631867000651), (4093, 0.05221012640681745), (3797, 0.05217048607116531), (4162, 0.05210411839371504), (1548, 0.052084000017953866), (2962, 0.052028828091569126), (3114, 0.051932845445165327), (739, 0.051844162491532696), (946, 0.0518094010516442), (3536, 0.05174514323804037), (1388, 0.05174000076350729), (1059, 0.0517161277476994), (771, 0.051705876330342265), (918, 0.051614385062577005), (4576, 0.05157154687229917), (2065, 0.051526140079773984), (2399, 0.051513437794985746), (3658, 0.05151320962956909), (2741, 0.051506679346228566), (4005, 0.05142260967273045), (2241, 0.051376015195098886), (4454, 0.05135712160062668), (875, 0.051294299604772234), (2330, 0.051205572867122164), (3353, 0.05120312352399679), (3462, 0.05117338566208436), (3214, 0.05117005392642372), (373, 0.051150672976310076), (4272, 0.051034098684010855), (1945, 0.05102392895839928), (1827, 0.05092317045218711), (781, 0.05089021204337524), (1874, 0.050883655477020985), (700, 0.05086984712224833), (2027, 0.0508695194017076), (797, 0.05083103204453203), (1215, 0.05082302383478888), (3851, 0.05074096502250926), (3284, 0.05073901738320347), (2607, 0.05073839281426374), (4564, 0.0506576842196441), (4652, 0.050650945145034515), (4329, 0.05062865218121639), (3944, 0.05057327960991228), (4423, 0.0505232389610165), (4598, 0.05050382834000211), (4137, 0.0505018876634119), (3584, 0.05048317148895202), (4000, 0.05047238379722993), (2179, 0.050395135525093164), (2135, 0.05038692463711828), (702, 0.050375625887683816), (4673, 0.05033910794154052), (1290, 0.050337339271760276), (3030, 0.05030837230124069), (2114, 0.05028180812403247), (1661, 0.05024997184068888), (554, 0.05022921189574239), (2322, 0.05010523224936928), (1860, 0.050088352525857284), (2877, 0.050065136276844203), (3276, 0.04999470396652811), (1224, 0.04998454422298646), (2673, 0.04996000003171412), (3686, 0.049957641181102186), (4224, 0.049890947857886406), (609, 0.04987856135935355), (3802, 0.04979434157650493), (1206, 0.04979133018513048), (2437, 0.04964687874942553), (4655, 0.04964306574292477), (1728, 0.04963646051869012), (3289, 0.04963221431630719), (1726, 0.04961731141100832), (2672, 0.04961603441983566), (3794, 0.049588561791099744), (4697, 0.049525380311667935), (2109, 0.04951401779095512), (2998, 0.04950301916730057), (218, 0.04946761270057883), (1404, 0.04945470466296499), (874, 0.04940985657494683), (1543, 0.04933952819797702), (2156, 0.04931393722716659), (780, 0.04930263601929847), (1987, 0.04926627300542916), (2197, 0.04926204960014892), (586, 0.049165310626091606), (1898, 0.04915962736114065), (288, 0.04915864823109393), (3298, 0.049154011705826096), (3427, 0.049144003916335284), (3189, 0.049100838320636164), (2475, 0.0490889376931711), (324, 0.04907229118750555), (1102, 0.04905473384764399), (4148, 0.049002497628454184), (2047, 0.048986079785880446), (3165, 0.048954846170604464), (977, 0.04890480833171979), (1975, 0.04886427992943345), (2791, 0.04883772919220035), (448, 0.04883665369913793), (1193, 0.04882891205339674), (2268, 0.04879504397062106), (325, 0.04874767328059481), (1279, 0.048712379828116076), (2790, 0.048664288514698915), (2675, 0.04862482969947125), (4416, 0.04862381162174191), (4164, 0.048573149697348605), (3917, 0.048571157522359604), (1531, 0.04856303529165015), (2580, 0.04855733281928787), (1655, 0.04854419189452582), (2317, 0.048529335873587), (3623, 0.048499111533064986), (656, 0.0484958075552637), (3141, 0.048440491126992224), (2043, 0.04841959096811503), (3254, 0.048391019628081254), (907, 0.048360189625752725), (1210, 0.04826410193629904), (4118, 0.04823757248419241), (3429, 0.04819663659721641), (3272, 0.04817980272619804), (1526, 0.04816926952723884), (692, 0.0481509407253788), (3365, 0.048117460063757694), (1699, 0.04810131413228823), (3541, 0.04808014867734672), (101, 0.048049153474616975), (3081, 0.04804083375455976), (3877, 0.048037437124087375), (3244, 0.04800428846083837), (2392, 0.047962325330047746), (2939, 0.04796064145895198), (3761, 0.04795487733765172), (694, 0.047912246180932885), (2767, 0.04786227487915727), (4338, 0.047858153282618936), (441, 0.04784998940850761), (1532, 0.04779112582796729), (2855, 0.047786980741129574), (3148, 0.04776854049671072), (4298, 0.04776195097955956), (451, 0.047730826580871986), (3169, 0.04771079278399677), (1584, 0.047679082253703424), (447, 0.04767569720935091), (4142, 0.04767192406793834), (2461, 0.04765332104084084), (4013, 0.04764117648806293), (1069, 0.04763929110323388), (1559, 0.047488823440426), (1160, 0.047386654671862136), (199, 0.047386172535188065), (2358, 0.04734165552435699), (1492, 0.04733160796328363), (4440, 0.047322313342759485), (3657, 0.04730691663596478), (1398, 0.04730212054681461), (830, 0.047292659130941904), (2277, 0.04729176247812861), (3217, 0.04727074057079509), (4232, 0.04726822593546203), (4367, 0.04726515526411616), (2409, 0.04722508533557826), (4178, 0.04719509380092488), (1494, 0.04715139600507145), (277, 0.047134097814819045), (1397, 0.04713223310077516), (3478, 0.047106262206894615), (629, 0.04709365138673034), (395, 0.04708894369231495), (3164, 0.0470687769980137), (1902, 0.0470122546809442), (913, 0.04699496248768598), (706, 0.046993978253695834), (2820, 0.046972011051612715), (4187, 0.04694438081234603), (2612, 0.046943523197133186), (85, 0.04691349153034782), (3432, 0.04689267464156048), (1505, 0.04688145000323338), (3032, 0.04685405854809431), (232, 0.04679092406182333), (2035, 0.04676689035061768), (4467, 0.046752436806440735), (1273, 0.04673285895379332), (3677, 0.04669696873918094), (3100, 0.046683936173582345), (1445, 0.046666395248191904), (4509, 0.04664874141262006), (4285, 0.0466462589843849), (2001, 0.04663060633201688), (83, 0.0466142997195316), (3076, 0.04650304043048425), (2639, 0.04644767403826354), (922, 0.046418162372641666), (3641, 0.046408790939669244), (2175, 0.046353081348300545), (546, 0.04634328460075795), (3856, 0.04631949399367041), (2346, 0.04631737754112602), (2383, 0.046306389521234344), (1465, 0.04629260371035484), (2213, 0.04624973583666702), (3876, 0.046241381293206034), (3304, 0.04616178541065058), (1001, 0.04613402553617159), (2941, 0.04612581860025958), (1816, 0.046124717212783196), (1293, 0.046117876075957936), (4262, 0.04610830314561856), (152, 0.046020166513502964), (3097, 0.04601698012551308), (4163, 0.04600941562104742), (1053, 0.04599822187966196), (516, 0.045990435804788767), (3709, 0.04598636747030046), (2088, 0.04595663974310136), (515, 0.04594394203067654), (2098, 0.0459364671785125), (3474, 0.04585066368440109), (1598, 0.045831368928041696), (4059, 0.045809832271499484), (936, 0.045807429193495106), (499, 0.045802146717599), (2367, 0.04578712152257767), (4273, 0.04578129051531287), (617, 0.04574927945546948), (3033, 0.04570151655089058), (3952, 0.04568306463589652), (3903, 0.04567232030219328), (2148, 0.04565005882527748), (725, 0.04564532320388121), (2753, 0.045584840696628944), (3579, 0.04558241328986322), (3192, 0.045553830444380626), (2691, 0.045553590329462414), (968, 0.04554400090577693), (3532, 0.04553673484804171), (4528, 0.045508462662738655), (2574, 0.04549566668292727), (446, 0.045489569777378294), (3406, 0.04548902623891725), (1755, 0.045405440514322944), (1058, 0.04540227831040111), (4707, 0.04540051606861046), (2077, 0.04537000678145896), (42, 0.04536501138126622), (1670, 0.04536459044437422), (4194, 0.045358390106847585), (687, 0.04535150423393879), (382, 0.045320488001089385), (861, 0.045319719241651436), (3209, 0.045312609300158124), (1342, 0.04531236517099736), (3852, 0.045310648611491776), (2487, 0.04529715681025428), (3842, 0.04526451219477585), (1901, 0.04524677582295884), (3777, 0.04523952354056314), (1246, 0.04523337791971922), (578, 0.04521145323409287), (2443, 0.04517725747748347), (1503, 0.04516137698107959), (3993, 0.04514938211360803), (3801, 0.045143634857571786), (2633, 0.04512929159496177), (4248, 0.045121581957156605), (3184, 0.04511119385353736), (1200, 0.045071767235849665), (1566, 0.04507165593355956), (3351, 0.04506101143100742), (954, 0.04505770968812611), (2171, 0.04505230472563254), (3772, 0.04504575735824778), (4758, 0.04503799845033716), (4477, 0.045026949317465474), (350, 0.04501660785268756), (4482, 0.04501458240005878), (660, 0.04499687263819653), (3303, 0.044995188849692946), (1936, 0.044958226029644346), (562, 0.04495205113711149), (372, 0.044945987140603105), (1153, 0.04493432528927889), (894, 0.0448928815212467), (754, 0.04487372604399389), (2843, 0.044843358919284114), (3981, 0.044807909930965235), (3305, 0.04473724957873375), (349, 0.04472419531606599), (710, 0.044716078557504355), (4612, 0.04470740695324743), (259, 0.04470349307257611), (4623, 0.04468188318607965), (2205, 0.0446808659194338), (2432, 0.044600013151080566), (1302, 0.04459288093382519), (4574, 0.04459015889676036), (3213, 0.044561177540375856), (1131, 0.044558174555943554), (666, 0.04453700622127005), (4206, 0.04445500010600349), (1593, 0.044429534375731855), (160, 0.0443913032155796), (1149, 0.04438540904333562), (4519, 0.04436122965420583), (2423, 0.04436016868177472), (3270, 0.04435584004204186), (1093, 0.04427057689697896), (434, 0.044267658315868826), (429, 0.04425261319707185), (4389, 0.04424902333429646), (779, 0.04424825257276766), (4242, 0.044214346351107686), (520, 0.044208036102343945), (2925, 0.04419854916816513), (1558, 0.04415530305826129), (1968, 0.04414407690339432), (1730, 0.044139935638859394), (4296, 0.044137269809402024), (4548, 0.04412763452581618), (486, 0.04411938168266198), (3875, 0.044083168071977444), (823, 0.04408004288787962), (3156, 0.04407356963209974), (369, 0.04407032992520572), (3379, 0.044065731352639435), (3005, 0.04406441926419866), (3117, 0.04401458476915315), (3279, 0.04400402829647815), (3568, 0.04399531728232053), (4327, 0.04398125239128392), (4082, 0.043964513752429324), (1014, 0.043934567630923835), (2764, 0.04392906330995866), (4238, 0.043906760870606194), (2237, 0.04386413323369981), (3821, 0.04384972930795834), (1172, 0.04378648903403485), (1088, 0.0437739227567775), (3847, 0.043758097615112304), (3610, 0.043712557828242536), (748, 0.043710846445945174), (3989, 0.04369571009802386), (249, 0.04369418156401612), (944, 0.043692622636068115), (511, 0.043691227805573316), (2284, 0.043685920072430114), (3806, 0.04367989160869578), (1095, 0.04367510249026012), (717, 0.04355542528884711), (1808, 0.04355316407274747), (3578, 0.04355090777701229), (1510, 0.043548164122204656), (3446, 0.04353654329327518), (3547, 0.04344889484137637), (2052, 0.04342786005934201), (39, 0.04341663294207067), (2578, 0.043412353443741725), (2092, 0.043398759452250815), (3512, 0.04335973694708381), (1201, 0.043354963031069914), (1611, 0.04335012918630221), (4357, 0.04334408221528647), (2527, 0.04333323953895231), (888, 0.043318085642853645), (2993, 0.04331552499083344), (2324, 0.04331508557778821), (2707, 0.04331114130913543), (3364, 0.04330080448761292), (1769, 0.04327199109633576), (3286, 0.0432622247808723), (3719, 0.0432598388976037), (1474, 0.04325258593220645), (4143, 0.04323209775473104), (905, 0.0432305694040055), (2540, 0.04322498961147495), (339, 0.0432087479759895), (591, 0.0432073679513915), (4252, 0.04319936544807468), (3535, 0.043191551287979295), (3396, 0.043185548357528976), (2144, 0.0431400497920571), (4560, 0.04312120189894572), (4412, 0.04311859231173741), (566, 0.043077810480555125), (3632, 0.0430721086867465), (1931, 0.043061287389477516), (4682, 0.04304368651487919), (1742, 0.04303433611678515), (3718, 0.04303345137567259), (2942, 0.04303275849049506), (2023, 0.04301089115203252), (2111, 0.04298969247075152), (383, 0.04296885304685319), (3849, 0.04294181566386107), (3306, 0.0429388362521417), (2547, 0.04291892754130973), (3225, 0.04289774558285423), (2359, 0.042873065470833124), (2656, 0.04283200723724037), (1066, 0.0428268899645292), (1475, 0.042780553545636604), (1189, 0.042779182914080116), (4049, 0.04277876793231373), (3423, 0.0427710898858978), (4036, 0.042764604718313844), (3780, 0.042739592954910026), (3699, 0.042722830307627156), (3692, 0.042701769760924255), (541, 0.04269101413713012), (2933, 0.04268131285458948), (987, 0.042659261957536866), (3491, 0.04262836514422299), (4240, 0.04260408745817668), (3017, 0.042572138907929116), (2476, 0.04255302849892843), (3722, 0.04253646857691344), (2293, 0.042514569435621916), (2081, 0.042483159005404024), (1766, 0.04245974383114675), (2521, 0.04243629642919992), (1078, 0.042431606528849065), (4375, 0.042409796839445055), (635, 0.04240321994449616), (3468, 0.04239018090028027), (2084, 0.042363917358777876), (3368, 0.04234217852866312), (2576, 0.04234010406771879), (2918, 0.042313268006650376), (1412, 0.042307632222513214), (70, 0.042275012728881026), (1677, 0.0422666360934848), (3834, 0.042252520506734656), (801, 0.042223174073622215), (1180, 0.04220503365202493), (2497, 0.04219998250642385), (4545, 0.04219886542698672), (1567, 0.04217104311210478), (827, 0.04214909265378592), (1767, 0.042147498666286726), (458, 0.042132997126716094), (1727, 0.04212244138686885), (394, 0.04209323745855438), (4136, 0.042083459237904006), (3807, 0.04204535116394901), (3809, 0.04204533559944084), (3700, 0.0420277491971213), (4281, 0.0420191821546995), (2303, 0.04200579664879816), (3090, 0.04197689989615471), (444, 0.04196967574263912), (2929, 0.041956117793693536), (4595, 0.041918627823756674), (183, 0.04189304717077802), (4701, 0.04186692742687854), (2445, 0.04186662393466954), (4525, 0.041829953971800726), (2011, 0.04182648697471646), (410, 0.04182249248713865), (3571, 0.04180034653752137), (1446, 0.04179713333282089), (1122, 0.04178835389527251), (4055, 0.0417878936761434), (368, 0.04172765236406195), (2529, 0.04172202385449732), (664, 0.04168869890456176), (2185, 0.041678423777124884), (1292, 0.041677678534118336), (32, 0.04163054320906354), (4364, 0.04162498109983387), (872, 0.041603933222169535), (185, 0.041602084052280774), (1556, 0.04158832284420937), (1127, 0.04157565819440921), (1962, 0.041562505434281465), (1662, 0.041541565841555474), (3591, 0.041535955354220375), (4347, 0.04153508356616134), (870, 0.04153106156845564), (2141, 0.04152525488437247), (496, 0.04152337273341941), (2909, 0.041493282553812086), (41, 0.04148705451840098), (2209, 0.0414827204592188), (597, 0.04146895267064232), (2355, 0.04146129147452984), (3058, 0.04144829560921351), (877, 0.04144084961283067), (304, 0.04143932525116468), (2498, 0.041426873806169905), (1375, 0.041426589927482146), (4328, 0.041412266951454606), (3012, 0.041409860552313014), (343, 0.04138239242115754), (214, 0.04137058135806317), (3407, 0.04136696638853037), (3609, 0.04135329324784038), (3346, 0.041349175572455946), (4524, 0.041309125094525646), (1061, 0.04127502031142005), (472, 0.04124261774090496), (728, 0.04120924585334739), (1272, 0.041192632154592686), (2239, 0.0411915843771379), (4114, 0.04118797885004037), (646, 0.041151585034122605), (4433, 0.041146741029517535), (1520, 0.04113338101420186), (2255, 0.04112307916246842), (4092, 0.04108223508859288), (4086, 0.04108023683187418), (1798, 0.04107572500019724), (1472, 0.04107082630203506), (4158, 0.04105750441329236), (2389, 0.041011917588305066), (3862, 0.04100520842276699), (3783, 0.04100278479340004), (852, 0.04096487569180105), (2813, 0.040959673761366396), (4154, 0.04094046588255076), (4161, 0.040930551394078356), (4193, 0.04092160731163111), (3281, 0.04091632222633814), (4290, 0.04090007027837338), (1435, 0.04087747606104762), (2012, 0.04087529869359928), (3102, 0.04087259322158948), (364, 0.04086836120475575), (2095, 0.040832855385592566), (266, 0.040829848515045515), (4667, 0.04082206086524491), (4270, 0.04082057920499038), (2837, 0.04081239463803675), (4513, 0.04079461685586649), (1028, 0.04078714124026108), (1074, 0.040751450922440494), (790, 0.040750007290680575), (1341, 0.0407338593505721), (1052, 0.0407204344967219), (590, 0.04069429355561787), (686, 0.040681471357844015), (1948, 0.040679672548515663), (2096, 0.040675979264531405), (2003, 0.04066227220182898), (2331, 0.04064978668291602), (2723, 0.040642563426189854), (1837, 0.04064120854784771), (3785, 0.04056445246863398), (2415, 0.04056119703315972), (1433, 0.04052201531043971), (836, 0.04051714752988771), (3618, 0.04051171661585156), (819, 0.04049857845795776), (1410, 0.040488755052868815), (2264, 0.040470814778344084), (3582, 0.04046573815181564), (3814, 0.04044161022253755), (4715, 0.04043614461727615), (3994, 0.040409053147137865), (825, 0.0404027033026828), (3500, 0.04038748280869397), (753, 0.04038100768380596), (2211, 0.04037710022678281), (1961, 0.04036110493468546), (2609, 0.04033554127549214), (720, 0.040333791470542654), (3870, 0.04032239725104678), (3758, 0.04030840872710966), (1067, 0.04030640857054987), (1083, 0.04028306018239898), (4078, 0.040268493943723324), (4044, 0.04025634222437086), (2513, 0.0402515228356422), (1011, 0.040235262209839306), (2522, 0.04022278464644916), (2973, 0.0401865956743964), (4553, 0.04017765265269354), (92, 0.04016620596616293), (2624, 0.040156750817451375), (3201, 0.04015418093309475), (3067, 0.04015352373897663), (3211, 0.04013878476305964), (3698, 0.040121076540697), (62, 0.040091513069338565), (167, 0.04007258129632422), (2297, 0.040068951228678186), (4246, 0.040030529904990585), (2600, 0.04001936795277313), (3331, 0.03997265835180881), (3280, 0.03995800416271082), (4664, 0.03995019930503938), (2054, 0.039948413912645406), (384, 0.03992257153717533), (2846, 0.039914652737758335), (3693, 0.03991023728738935), (2799, 0.039902237436227915), (3554, 0.03990067047991643), (2816, 0.03989593737723719), (228, 0.03987347273540587), (3252, 0.03984194097370193), (1877, 0.03980642317811436), (261, 0.03980161208639554), (945, 0.039796656582986485), (3781, 0.039790036404397204), (3456, 0.03978551902211182), (4031, 0.039782517453807655), (2232, 0.0397473062956381), (31, 0.039732846584761686), (4098, 0.03971887925943111), (3534, 0.039717110813265476), (422, 0.03970940753045096), (2361, 0.039708182406605334), (2296, 0.03968989316726268), (3311, 0.03968172052437472), (2193, 0.03968127453761647), (1587, 0.039667292215270794), (1831, 0.03965523292790909), (854, 0.03964230028835692), (795, 0.03958940509655042), (1040, 0.039587017828665666), (2797, 0.03958146787155927), (2478, 0.03956592896391774), (4255, 0.039539779114578795), (1242, 0.03951332581309588), (2062, 0.039485151256618535), (4613, 0.03947871087373652), (4475, 0.03947657537994663), (724, 0.03947315739697361), (78, 0.039468207502943733), (1247, 0.03946733590121497), (3774, 0.03946572426720828), (4376, 0.0394654930837899), (641, 0.0394197635720912), (2370, 0.039415586811899724), (2283, 0.03941478754015), (3955, 0.03936301201788338), (89, 0.03935578702521982), (3397, 0.03933268381045182), (4181, 0.03932848040218088), (1332, 0.039315401421226415), (3415, 0.0392950392641578), (2395, 0.03928999081560965), (4264, 0.039275526972294736), (1431, 0.039244754781060716), (845, 0.03924274053519342), (2353, 0.03923806817623873), (3628, 0.03923527039561865), (182, 0.03921385079956712), (840, 0.03920646818504236), (2426, 0.039199850565461006), (2557, 0.03919039186890362), (4377, 0.03918645660712046), (989, 0.03915203105581235), (3973, 0.03914962869945188), (4559, 0.039126096172845834), (3756, 0.039119001189574606), (3310, 0.03910482765165372), (3673, 0.03908008101468064), (481, 0.039071248796810405), (1821, 0.03906454495251699), (1421, 0.03905779711277352), (3720, 0.03905333627703386), (4630, 0.03905009006369651), (4535, 0.0390198912193041), (3833, 0.03900530941016736), (186, 0.039001219946363054), (1158, 0.03899383636420807), (707, 0.038959626332612754), (1873, 0.038946446558026586), (1610, 0.03892092196276561), (2976, 0.038917363350092646), (1700, 0.038909722079321835), (3056, 0.03890853391415921), (1954, 0.03889863600357816), (3460, 0.03884534332247306), (1480, 0.03883521644772043), (980, 0.03883462686111083), (4459, 0.03880584180295899), (789, 0.038795362191808944), (690, 0.0387853559426177), (1148, 0.03874487896909297), (1538, 0.038743334971647794), (1471, 0.03873589369122499), (4504, 0.038721335950531253), (155, 0.03870642561063254), (3997, 0.03869747205574634), (2545, 0.03867257219671171), (940, 0.038652825646323), (3360, 0.038645027598777235), (2532, 0.038631716184107164), (711, 0.038628946498830204), (483, 0.03860654732631154), (1204, 0.03859771968361622), (1841, 0.03858381430669942), (911, 0.03857122782962141), (415, 0.038562993755125397), (3163, 0.038548783915961726), (2722, 0.03854140317933174), (3493, 0.03852135090626271), (75, 0.0385168120926022), (1304, 0.03851214078036001), (3277, 0.038506040646841495), (1345, 0.03849538005885368), (1777, 0.038477020865808044), (3055, 0.03847639157700334), (1186, 0.038465916038929106), (1305, 0.038465846200681594), (892, 0.038460173127704694), (3634, 0.038441458248765485), (714, 0.03843041079927266), (519, 0.038427145237194024), (1934, 0.03842597378378478), (1562, 0.038415959678959326), (4438, 0.038399488296875936), (1731, 0.03839461639272633), (625, 0.03838873263339068), (4220, 0.038388415682805335), (3020, 0.038363150463438016), (803, 0.038360618956265254), (4100, 0.03835636505545385), (3974, 0.038354168200126416), (2290, 0.03834681227696237), (4099, 0.03833932927743013), (3430, 0.03833333238753482), (2230, 0.03832767762258232), (715, 0.0383122109522566), (2930, 0.03830898898796401), (2262, 0.03830353859601983), (3158, 0.03828485482833077), (169, 0.038280346212735426), (2134, 0.038279253220411646), (111, 0.0382695946847679), (983, 0.03826627106595085), (4035, 0.03825870981519202), (3661, 0.03825700926940516), (2848, 0.03824671508787675), (2623, 0.0382456483501974), (138, 0.038226735109483115), (2454, 0.03822646679848157), (386, 0.03821203248906714), (658, 0.03817987945253825), (106, 0.03817186152947473), (1722, 0.03817082872870296), (992, 0.038163832103600775), (3093, 0.03815470301839482), (2375, 0.03814987848755679), (3385, 0.03814776408816849), (1408, 0.038137279687755404), (2121, 0.038127762904603256), (3080, 0.03806578922649422), (1542, 0.03806523214958837), (4641, 0.03806499081186135), (379, 0.03805899852051211), (4070, 0.03805881982945023), (895, 0.03804848375135026), (659, 0.03802007890468844), (2105, 0.038019669521267146), (3343, 0.038011939185684365), (766, 0.03800456738009121), (1309, 0.03798267894853056), (477, 0.037949136096557805), (1365, 0.03794507621300029), (4088, 0.0379179754493682), (1911, 0.03791135780453114), (3526, 0.03789185879451884), (3476, 0.03787899778623531), (4668, 0.03787209565428493), (3342, 0.03787062968661654), (4590, 0.0378531960241324), (4113, 0.037840523470133176), (3416, 0.03782100723269318), (1459, 0.037815750195050915), (4517, 0.037797861095729524), (2410, 0.03779635008755402), (1086, 0.037779212574988), (292, 0.03774486559985611), (1555, 0.03772076539581324), (1437, 0.03769380307735561), (1219, 0.03763898696237041), (3527, 0.037629961705927625), (1135, 0.03761569777651266), (1105, 0.03760476893442435), (2060, 0.037587171750972787), (2236, 0.037580733041227506), (1615, 0.037565860479847175), (1915, 0.03756247044822585), (1601, 0.03755544144949177), (330, 0.037540529035125524), (491, 0.037523430151105035), (3202, 0.037522113964539444), (1788, 0.0375213662819598), (3153, 0.03751296148502679), (642, 0.037494439414402274), (1519, 0.03747837034093772), (4172, 0.03747689876304419), (4020, 0.03746021986663717), (3420, 0.037459535343249035), (4464, 0.03744409554521913), (873, 0.03743556688479046), (3144, 0.037434968890386874), (1763, 0.03743309703600834), (3218, 0.03742805865887285), (3043, 0.03742662555075209), (2884, 0.037419673734471644), (3078, 0.037412379417498795), (4486, 0.037408333765116736), (279, 0.037405574203164996), (3504, 0.037386457046982555), (2893, 0.03737832263726228), (1890, 0.03736803571139245), (2749, 0.03735148348567341), (2214, 0.03733929822647516), (605, 0.037333551413158104), (4465, 0.037324657929107274), (1523, 0.037317795000690095), (4388, 0.03731118199302564), (4455, 0.03730569351618319), (3779, 0.037286196569494244), (585, 0.03728414782299484), (2647, 0.0372722296399743), (647, 0.037269547817737725), (882, 0.037232715298888074), (57, 0.0372315283797385), (3205, 0.0372287576109121), (810, 0.03720216968988207), (805, 0.03718930822609713), (1004, 0.03718823295286381), (1448, 0.03717659339918647), (3892, 0.03716766820119611), (3454, 0.03714921481524794), (1216, 0.037144984280914194), (2915, 0.03714330242072276), (1373, 0.037139902302217365), (1908, 0.03713426502290986), (3642, 0.03713223437217374), (3566, 0.03712643696358294), (804, 0.03711024678880589), (1428, 0.037109490352268994), (2739, 0.037104325139049765), (3008, 0.03710060429727359), (2653, 0.0370919584162981), (2971, 0.037079683782890206), (991, 0.037060273352531446), (165, 0.03704576178691897), (4481, 0.03703748884812003), (1051, 0.03702223268061024), (3682, 0.037013621092206093), (4462, 0.03701040198794602), (1651, 0.037008476191739685), (6, 0.03700127321124116), (3274, 0.03699573314357169), (2430, 0.03699531900722181), (4261, 0.036976622188588354), (3828, 0.03697106713139011), (3841, 0.036957389972915894), (4538, 0.03693383580393675), (2160, 0.036929257565492465), (3782, 0.036920525911963424), (2146, 0.036918309683823584), (1910, 0.036896355896248546), (2130, 0.0368881781317731), (3708, 0.0368762841648203), (4428, 0.03687294070454281), (3116, 0.03686968055560948), (4116, 0.03684008376014219), (3871, 0.036835872254362106), (3282, 0.03681866270021589), (1971, 0.036799644304773046), (1183, 0.03678280659305571), (2725, 0.03678274221156055), (326, 0.03675277510075758), (2975, 0.03674414688794145), (2994, 0.036701116325125724), (3574, 0.036697222991980555), (254, 0.03669209770880737), (4105, 0.036689996661444346), (3471, 0.036673194443513725), (1779, 0.03666972306602075), (2203, 0.03666726049808027), (2308, 0.03666012465821497), (3122, 0.03665175427481443), (611, 0.036631819581681796), (3546, 0.03662267533562073), (2604, 0.036606222209651), (1089, 0.03660166176234949), (341, 0.036591596947912065), (1937, 0.03659134951256506), (2980, 0.036590621569827064), (3147, 0.03658766069634726), (1233, 0.03658632058850637), (1117, 0.0365843501992855), (2835, 0.03657672731842918), (1512, 0.03657175569511391), (1460, 0.03656196962619247), (3629, 0.036559388657302724), (3145, 0.036558920919312836), (572, 0.036556019655351026), (4679, 0.03655190328341467), (3822, 0.03654449841028408), (3477, 0.03652017066585382), (4189, 0.036517293366476675), (3515, 0.03651553426237946), (4042, 0.036514142158486286), (1289, 0.036504829257185505), (1529, 0.03649872814521097), (1381, 0.036479578747205574), (549, 0.036472433049018205), (764, 0.036471430265746674), (3160, 0.036452915281246064), (3671, 0.036445204210636004), (4741, 0.03644337402734174), (1481, 0.03644228297865577), (2117, 0.03643603230156076), (2921, 0.03643001284363862), (3134, 0.03640367650945819), (374, 0.03639749109952632), (1626, 0.03636566164497904), (4568, 0.03636208635477769), (883, 0.036352617662449085), (2833, 0.03630436245005799), (4675, 0.03630181256418524), (411, 0.03629244496677876), (976, 0.036288023291678496), (2523, 0.036281903890539334), (2189, 0.03627521174288057), (1159, 0.036253278043592414), (1060, 0.03624622395695997), (1280, 0.036244966201353784), (2499, 0.03623916669069138), (4067, 0.036236601397993805), (1517, 0.03622271124024412), (3860, 0.03621688155742636), (1409, 0.036208306733917464), (217, 0.03620667282141906), (2903, 0.036202488384773045), (2326, 0.036199742958523046), (3256, 0.03619883455511431), (3921, 0.0361754842575949), (1528, 0.036167232334802554), (3666, 0.03616086622451391), (3386, 0.03614241447453491), (3031, 0.03613282380445144), (3733, 0.03612646421734634), (2824, 0.03612065389451642), (2250, 0.03610039718507272), (3398, 0.03608809461219068), (3559, 0.03608366125943378), (902, 0.036080855239775535), (332, 0.03607749039612491), (2124, 0.036068369259627836), (87, 0.03606078125338507), (3924, 0.036054790220207945), (156, 0.03604741136770883), (760, 0.03602680432958032), (1684, 0.03602056578442605), (3652, 0.03601752097829819), (1291, 0.03600245437969214), (4061, 0.03599432277827684), (2243, 0.03598882783170749), (2531, 0.035987383669162175), (4692, 0.03598718440162839), (94, 0.03596620812998076), (1355, 0.03596103912718515), (3139, 0.035955586969621645), (921, 0.035944812638402976), (1997, 0.03591344977434939), (3161, 0.03590413259649976), (450, 0.0358993566708508), (3457, 0.03588396707260151), (1118, 0.03586227273904646), (4336, 0.035839253196273936), (2785, 0.03580929034708847), (4406, 0.035803223464931595), (2045, 0.035784347112935704), (898, 0.03577668506152486), (2224, 0.035753394022463275), (3464, 0.03569246216944808), (3533, 0.03568794378883471), (2789, 0.03568347459080397), (3442, 0.035680925791093575), (294, 0.03566860224785988), (584, 0.03566351373967457), (2800, 0.03564965527629872), (3334, 0.03564903463008563), (3452, 0.03564200829620881), (1140, 0.03561593358117724), (1690, 0.03560711374887118), (2149, 0.035587026010754565), (4071, 0.03552989775345142), (3639, 0.035501563371045375), (1079, 0.03547375528050628), (3751, 0.03544271628651462), (11, 0.035440981717148885), (2780, 0.03538074194244658), (2039, 0.03536648469127825), (33, 0.035361578958991134), (247, 0.0353514383823796), (4171, 0.0353244855289976), (3358, 0.035314343075412785), (1009, 0.03530494321006301), (3399, 0.03530108525868736), (1425, 0.035300477247020456), (461, 0.03529380686701436), (504, 0.035273707679335346), (879, 0.035269039117186776), (4589, 0.0352564190686793), (4305, 0.03525556770232062), (146, 0.03524225221213013), (4146, 0.0352402317688126), (3792, 0.03523728983989393), (274, 0.03523415238060527), (2094, 0.03523354703365441), (1565, 0.03522668679119314), (3689, 0.03522389901641938), (3186, 0.03518129343087903), (2017, 0.0351504869418592), (3316, 0.035122847704794624), (814, 0.03511342648735351), (2048, 0.035106748728840655), (665, 0.035098231800197714), (4027, 0.03509802216850102), (1953, 0.035095528343429064), (176, 0.03508634160122218), (815, 0.03504377384385696), (697, 0.03504205548054982), (2184, 0.03504026964331512), (4350, 0.03502484148867781), (1151, 0.03501609849761548), (1007, 0.034993755433880634), (2863, 0.0349715481086296), (3961, 0.03495248181612205), (2108, 0.03495096282208883), (147, 0.03495014945186953), (2626, 0.034947213426115176), (4557, 0.03494419662309416), (627, 0.03493765481739111), (1266, 0.03491804230542549), (3520, 0.034917380915702956), (762, 0.034901859628893965), (4587, 0.03490074299606868), (4103, 0.034900176666668), (1681, 0.03489789403822367), (3660, 0.03489677234189007), (691, 0.03488729554141469), (4523, 0.03488207126142638), (595, 0.03486005632910905), (3723, 0.034843116556160965), (3744, 0.03483956430465693), (1832, 0.034836756464339105), (1192, 0.03483210137939825), (822, 0.03483192778773549), (1337, 0.03482720574490628), (287, 0.03482284113053565), (4396, 0.03481233779555897), (532, 0.03481021579077875), (512, 0.034793115705506396), (3121, 0.03478654732206818), (752, 0.03477161088658135), (3247, 0.03476873977579185), (1702, 0.03475822991329274), (2524, 0.03475094020354849), (1417, 0.034746109177550354), (2040, 0.03474415040717911), (2571, 0.03473695642046584), (1022, 0.03473253316795514), (960, 0.03471746281449673), (2844, 0.0347168434850544), (2242, 0.03470992337327187), (4626, 0.03470735019909365), (4306, 0.0346838731379605), (3799, 0.034678203984437654), (2298, 0.03466892760387107), (1650, 0.034665215519024385), (353, 0.03462530001168675), (2073, 0.03461162396144903), (3458, 0.03460252518485509), (2935, 0.03458973662639326), (1682, 0.03458782999108589), (400, 0.034570776270518376), (1764, 0.034565791988676355), (2724, 0.034513598738043064), (2737, 0.03449763918523701), (3371, 0.03448701973143643), (1709, 0.03448509093819923), (3375, 0.034480528633671036), (4665, 0.03447766574897778), (1550, 0.034473266152493), (1318, 0.03446907961910272), (3451, 0.034468146063454864), (1629, 0.03445830338946593), (3001, 0.034448400828028136), (2549, 0.034447714381069305), (3361, 0.03444669171996269), (1002, 0.03443734466419807), (2956, 0.03443532468039688), (3126, 0.03442328943009879), (2865, 0.034416635813498485), (2587, 0.03441030986412492), (1162, 0.034405870835021224), (543, 0.034404195624765994), (4493, 0.03437727503130206), (236, 0.03431686291517856), (2473, 0.0343072768634005), (1142, 0.03429849407247076), (3915, 0.0342866478639708), (1132, 0.03428589844852868), (755, 0.034277715250706976), (4258, 0.03425681973902217), (3980, 0.03425010217755479), (1010, 0.034231968309053014), (1540, 0.034231249828869735), (978, 0.0342204481951645), (1575, 0.03420781301393049), (695, 0.03420657159170206), (2488, 0.03420605659163434), (2507, 0.034204774840419866), (2853, 0.03420466144382897), (1320, 0.03420196816161203), (264, 0.03419829103506348), (1884, 0.03418904415876474), (1941, 0.034176448694404955), (2192, 0.034175197020300814), (3983, 0.03417467844593748), (1096, 0.03417012788756471), (1639, 0.03415163743104086), (1306, 0.034148674183674115), (4656, 0.03413342199639981), (267, 0.03412864637146556), (4128, 0.034095200196620025), (2810, 0.03409042561036793), (2162, 0.03408531321504), (1307, 0.034084031401014146), (4704, 0.034077588164732824), (2447, 0.03406550628316125), (4400, 0.034058982738501165), (3873, 0.0340564586332324), (671, 0.03405272921947038), (3039, 0.03404842919787022), (2057, 0.03404766944459364), (2730, 0.03404571053887883), (858, 0.03404312063661328), (3625, 0.0340410939260838), (3902, 0.034031944447794636), (1487, 0.0340241640022267), (850, 0.03402347854836531), (2520, 0.03402253752903897), (1020, 0.034017515215538564), (2792, 0.034004458280782544), (1539, 0.03400386183686719), (1695, 0.03400336718123433), (654, 0.03399918073919545), (1454, 0.03399658238190744), (1041, 0.03399023947621253), (1811, 0.033989720261273344), (1620, 0.03397092860615968), (51, 0.03395846182530192), (3812, 0.033957658218256796), (3882, 0.03395255491917971), (633, 0.033950848559092604), (4366, 0.03394415979782334), (4299, 0.033935144248327505), (1939, 0.03393397500407931), (1748, 0.03393024501373426), (348, 0.033906046588638175), (2945, 0.0339020041059903), (1405, 0.03387636533043212), (559, 0.03384947662860429), (2031, 0.03383578162857563), (4006, 0.03381504264892755), (3810, 0.03381017975046812), (544, 0.03380477574783661), (668, 0.03380216744548564), (2300, 0.03379597850120359), (889, 0.033795706833999004), (4166, 0.033777844021472124), (4057, 0.033776602754835135), (3715, 0.03375920044215837), (298, 0.03374757552831473), (3472, 0.03374043855692701), (4345, 0.033728559269735524), (570, 0.03371576839664499), (2537, 0.03371514585454066), (1638, 0.03370639182179445), (618, 0.033700379775675915), (3557, 0.03369366079680134), (2516, 0.03368721610890021), (932, 0.033686722348119764), (3605, 0.03368641941231), (1152, 0.033672980475750694), (3602, 0.03367084818414762), (329, 0.033657190396147604), (4003, 0.0336486319654704), (623, 0.03364135678735747), (63, 0.03362943235975936), (2798, 0.03362199260739077), (3891, 0.033607706383209035), (2807, 0.03360359816751679), (1063, 0.033591436280051824), (1852, 0.03357709484973748), (1501, 0.033568918219454985), (2169, 0.03356485004217257), (1972, 0.03355684257675669), (4678, 0.033546102762575296), (2147, 0.03353203125965731), (4094, 0.033530775709369826), (2652, 0.03352494128111376), (2898, 0.03350462635691866), (3551, 0.03349053503154787), (4551, 0.03347230450321069), (3108, 0.033467998443042116), (452, 0.03344702397047828), (502, 0.033441082533983764), (2206, 0.03344037422965206), (906, 0.033440077736809314), (744, 0.03343640642080667), (1199, 0.03343135042575979), (581, 0.03342723704055493), (423, 0.03341903025033053), (3231, 0.033418186289785816), (3321, 0.03341666968592749), (2965, 0.03341304568993882), (678, 0.0334096657549455), (3006, 0.033389385729009985), (3283, 0.03338459798298325), (853, 0.033383611190611506), (4277, 0.03338278689187552), (4115, 0.0333723012275706), (855, 0.03336428255256656), (1713, 0.033360913005665585), (3525, 0.033357854226323445), (1362, 0.03335679240892221), (2425, 0.03334829246394634), (1282, 0.03334430729016978), (3939, 0.03333710252557265), (2717, 0.033336989702742535), (1347, 0.033329778715518295), (1188, 0.03332965936710844), (1303, 0.033327306348758336), (4625, 0.033325861229947136), (4547, 0.03332258910250163), (1101, 0.033318014764758194), (928, 0.03331619189703395), (4348, 0.03331605610562331), (891, 0.03331125371099902), (3151, 0.03331114427620881), (257, 0.033297593612352995), (3222, 0.03328017807852719), (2819, 0.03326714547463035), (4213, 0.033264301475769274), (4615, 0.033258221569512116), (412, 0.03325585707398878), (1957, 0.0332491861735878), (3, 0.03323721215071969), (3434, 0.0332212245408792), (25, 0.033208889391852875), (4309, 0.033204350537522596), (4385, 0.03318507664126979), (2713, 0.03316552002004145), (2744, 0.03315857990305766), (4333, 0.03312521082039161), (2419, 0.03312460055085887), (981, 0.0331236110860092), (3157, 0.033116665038185084), (2044, 0.03310951803890609), (2063, 0.033107206920600485), (1258, 0.03310127855680729), (1469, 0.03308862390895949), (7, 0.03307911110366868), (3436, 0.033069433707973925), (1986, 0.033049171005018266), (4748, 0.033045721975575794), (2362, 0.03304125437469441), (2867, 0.03303497418443153), (2830, 0.03301152100989776), (1676, 0.033000084903899614), (3935, 0.03299271659249529), (3845, 0.03298400128416855), (1663, 0.03297492843553729), (4458, 0.03297219967783116), (959, 0.03295798324740012), (91, 0.0329562030281444), (2509, 0.03295107849496794), (4397, 0.032943437556782425), (1963, 0.03294284240940818), (3387, 0.032939504808133784), (612, 0.032931683459514575), (2686, 0.032929958067999233), (3919, 0.03290846874566391), (4597, 0.03290190730385456), (2489, 0.032873816962443674), (1511, 0.032867771434843596), (301, 0.032848332520149924), (1259, 0.03277590000966587), (3684, 0.03276642346310389), (358, 0.03275292830722875), (844, 0.032749796999592864), (3208, 0.032741792731950055), (3377, 0.032736130876718283), (2246, 0.03272929983443507), (4211, 0.03269591349427424), (2199, 0.03269382020697383), (2490, 0.03267919606795036), (1218, 0.03267748569812692), (3966, 0.03266609447449637), (2007, 0.03266582771077016), (2922, 0.032662638589989766), (229, 0.03263364096963443), (43, 0.03261989827295712), (682, 0.032613810991346595), (1834, 0.03261125408145665), (3390, 0.03258244516914094), (494, 0.03257059420565878), (3023, 0.03256772800705607), (2548, 0.03256448245291921), (4033, 0.03255956706750542), (3734, 0.0325559166110971), (4275, 0.032554496301324815), (4141, 0.03255435070032632), (2279, 0.032551937100534056), (3392, 0.0325353365218911), (778, 0.03253344731805126), (3318, 0.0325315077685382), (3705, 0.03252541975368264), (1776, 0.03252081884781627), (4431, 0.03247439581767051), (2773, 0.03245701769262529), (3054, 0.03245420550299556), (2919, 0.03243182025915903), (1814, 0.032426580360231154), (2662, 0.0324180465657608), (4383, 0.032399764173988786), (626, 0.0323973129931054), (474, 0.03236764516497849), (357, 0.03235663364585736), (2377, 0.03234730817247781), (3948, 0.03232898915007957), (4202, 0.032326094020476474), (1765, 0.03231266187353928), (1614, 0.032289956529554444), (4653, 0.03225942155096348), (1328, 0.032252509778242365), (3065, 0.03224973789979021), (1780, 0.032242821461360156), (689, 0.03223764899559226), (742, 0.03223524228578307), (404, 0.03222722551015747), (2068, 0.03220080147262742), (3320, 0.03219593245880405), (1250, 0.032194069840972825), (3740, 0.03219351277686094), (418, 0.03219037959909857), (1817, 0.03218525951152512), (3552, 0.03218467852658446), (3613, 0.0321330292485639), (2446, 0.03211236466099931), (3928, 0.03210636537277411), (3659, 0.032092544358642734), (1466, 0.03209086369967247), (1552, 0.0320890186808881), (1166, 0.03208289209256641), (1271, 0.032067208312305244), (2354, 0.032045989850813424), (3393, 0.03204059064691574), (1394, 0.03203942449787065), (1870, 0.032036835194962414), (2400, 0.03203037523063039), (1951, 0.03202895565294578), (1823, 0.032025804832315666), (3048, 0.032021734701078663), (1243, 0.03201279832189451), (1241, 0.03201266946413379), (204, 0.032010009691773915), (131, 0.03200980492835883), (4399, 0.032000253788513226), (2934, 0.032000211114226296), (3182, 0.031995938876721954), (1442, 0.03199569895280623), (4303, 0.031964440830921495), (1656, 0.03196416907832447), (2029, 0.031936924884042615), (2716, 0.031933492655868825), (2273, 0.03193083699744864), (1015, 0.031930103021445146), (3825, 0.031929232849358294), (3338, 0.031925183087419165), (3621, 0.03191904344961048), (3207, 0.03191152570016465), (1084, 0.031910159312888625), (3185, 0.0319092935845278), (2808, 0.03190751978853282), (3523, 0.03189793760750038), (2685, 0.03189679465037878), (196, 0.03189663476696648), (1024, 0.03188773494674642), (3206, 0.031886373856237674), (938, 0.03188399262799039), (4550, 0.03188390470195584), (1226, 0.03188135169336099), (2079, 0.031879231544226345), (4244, 0.03187781026725263), (2159, 0.031862926946470874), (1897, 0.03185963512051439), (903, 0.03185779308672762), (1604, 0.03184612735194647), (4292, 0.03184130102642628), (3038, 0.031833224849493795), (2287, 0.03182716481913879), (722, 0.03182074528179121), (1287, 0.03180754680211241), (3461, 0.031806188884774045), (1176, 0.031805439813124926), (2519, 0.03180292918963525), (4414, 0.03177673368521348), (4343, 0.03175297745767023), (811, 0.03174445817764521), (4719, 0.031743642541724404), (4293, 0.031737717431636725), (4009, 0.031729942963370394), (1443, 0.03171856522230909), (2000, 0.0317170222578043), (413, 0.03170854002872673), (1553, 0.03170311998886088), (2593, 0.03169149302810482), (1376, 0.031690729452722916), (2883, 0.03167870201934017), (3581, 0.03165427428595448), (1521, 0.0316468814265805), (3431, 0.03161930196775209), (3675, 0.031616291606348754), (2629, 0.03161187877137945), (950, 0.03161102904167711), (192, 0.03160958801828257), (2999, 0.03160112942070427), (2827, 0.03159771171881619), (1167, 0.031594451023564306), (3564, 0.03159242240512027), (1694, 0.03159222970712225), (1773, 0.03157747433272406), (187, 0.03157652292304379), (3637, 0.031571568319553905), (884, 0.03156858012333815), (2823, 0.031565718945696514), (4282, 0.031563963481492166), (4747, 0.031562703205073435), (479, 0.03156042082899739), (3297, 0.031550586016732225), (1557, 0.03154892605389238), (3670, 0.031545639149461464), (66, 0.0315404761381815), (2979, 0.03153925293134076), (1608, 0.031537466042473275), (4122, 0.03153315184871665), (2302, 0.031529140461386926), (2078, 0.03150928168447986), (3401, 0.03150530676335016), (466, 0.03150337819602479), (2928, 0.03149817778484925), (818, 0.031496341027623366), (2510, 0.0314960259603306), (1129, 0.03148752587637941), (2646, 0.03148662609183242), (622, 0.03147095811233053), (3107, 0.03146932389502236), (1760, 0.031461739221637156), (2591, 0.031450626766295404), (4474, 0.031449883607872604), (1323, 0.03144887467728217), (1043, 0.03144532204233204), (935, 0.031440211204189716), (613, 0.0314341880114788), (3235, 0.03142697472180516), (4603, 0.03142476737251372), (3663, 0.03141964033377652), (1178, 0.03141625036785731), (3742, 0.031411765280076165), (1075, 0.03141165486996184), (4152, 0.031407626352030114), (3969, 0.031407160814820895), (347, 0.031407004123852965), (3299, 0.03138522192102412), (2878, 0.03137981534125358), (1838, 0.03137331096998375), (1284, 0.031357794361857184), (1665, 0.031355000884357644), (4186, 0.03135467768161949), (3224, 0.03131887418497891), (4390, 0.031317605068843145), (1516, 0.03130955936230474), (999, 0.031309090027634566), (2493, 0.031305487838630824), (2735, 0.031299662079248204), (1012, 0.0312942434854108), (2617, 0.03128860347250255), (4179, 0.03128410587065209), (1930, 0.03128181049786182), (64, 0.031270881304297594), (3725, 0.03126949716717266), (3402, 0.031268667339907456), (4460, 0.03126833692140951), (175, 0.03126292946226722), (620, 0.03126116691171531), (428, 0.03126046848813953), (3170, 0.031259101088454304), (2321, 0.03125489167565969), (848, 0.03123510059205274), (2150, 0.03123099717111118), (3906, 0.031226193384530795), (1509, 0.031219656760097653), (135, 0.03121693430195907), (2306, 0.031208998016692264), (3946, 0.031207968123632343), (1100, 0.03119477989889672), (3840, 0.031194027412616707), (2258, 0.031192596774340383), (2640, 0.031180222890475534), (3767, 0.031178730880101937), (563, 0.03117229095554091), (4636, 0.03117187047368781), (119, 0.031170327075026944), (4483, 0.031149153358553075), (251, 0.031148057437284937), (1240, 0.03113905012173006), (1451, 0.031136098518335046), (248, 0.031132719718308006), (3143, 0.031122308817403067), (2614, 0.03111246098193649), (1886, 0.031110927504895535), (2195, 0.031097898580032445), (2912, 0.03107736749288039), (639, 0.031069008129115373), (4124, 0.031048794028985076), (4735, 0.03104845672822271), (2759, 0.03102080003438309), (2219, 0.03101988196278419), (1235, 0.030999290130356346), (125, 0.030997752943985067), (3195, 0.03098414283219715), (1887, 0.030983576100086802), (2066, 0.030981850045466483), (1640, 0.030978004823390966), (661, 0.030973529155440715), (2180, 0.030954173039803575), (360, 0.030939230690115824), (4472, 0.030931980831741226), (2271, 0.03092747643121602), (2382, 0.030925170146886942), (3563, 0.030915293767508255), (3764, 0.030913290477648524), (449, 0.03091052649177297), (636, 0.03088458199099273), (731, 0.030872617411134652), (308, 0.030868099548219282), (20, 0.03086650699523525), (2231, 0.03081705737695802), (2681, 0.03080627313019121), (4053, 0.030803945432146682), (1804, 0.030802242445271567), (4456, 0.030790331928124644), (1351, 0.03078588015162123), (862, 0.0307798184055899), (985, 0.030777788537620056), (2650, 0.03077090156632362), (2061, 0.030770255683597116), (1227, 0.030767248978825323), (727, 0.030765254554356837), (4539, 0.030760009043121057), (1021, 0.03075370613101033), (2901, 0.030731025009592388), (1029, 0.03072883287199614), (3045, 0.030722256750487103), (3405, 0.030716264908416863), (115, 0.030714602114724616), (560, 0.030703190618870196), (4060, 0.030697045724600146), (3593, 0.030696876248568764), (1924, 0.030696340290658913), (3309, 0.03069581743873482), (2187, 0.030691574371957), (1137, 0.030687374699882555), (352, 0.030685383637711925), (2618, 0.030681001671320575), (919, 0.03066066364531823), (1094, 0.030660126275987798), (2474, 0.03064358386613749), (4686, 0.03064350725400843), (1630, 0.030642755765326143), (4236, 0.030642177926334755), (1378, 0.03064176774926976), (3603, 0.030641577637711966), (4102, 0.03062210035646704), (2408, 0.0306060365730267), (2259, 0.030600669115089275), (4185, 0.03059254703482089), (148, 0.030588124440444935), (1579, 0.03058020274363918), (3240, 0.030579833529050537), (1456, 0.030565246064078976), (3741, 0.030561287417731082), (3036, 0.030552273973747875), (2056, 0.030549674426872973), (2482, 0.0305494151106398), (305, 0.03054137570580184), (631, 0.030512772212079434), (443, 0.03050913002875498), (1913, 0.030485630798294208), (3636, 0.030479791329809408), (202, 0.030476495938944193), (1414, 0.030461655413536955), (1861, 0.030454553366694295), (4358, 0.030446880129545266), (3811, 0.030446337598972563), (2155, 0.030446096740619953), (2974, 0.030440187774855937), (3131, 0.03042953817488152), (256, 0.030410599168334353), (2055, 0.03040995834975383), (4147, 0.03039226595920954), (3746, 0.030377428145661224), (1214, 0.03037446779357875), (1530, 0.030357637996480086), (859, 0.030347665074141144), (2784, 0.03034607048110011), (878, 0.0303423926123589), (72, 0.03034131123797469), (4404, 0.030341077738646752), (792, 0.030310929887915544), (925, 0.030304199914987888), (1799, 0.030288718315783985), (1331, 0.030284608452334556), (3449, 0.030282176177840386), (3912, 0.030280347748508567), (2920, 0.030279748971350127), (3212, 0.030274681562564194), (2459, 0.030247569122486682), (615, 0.03024106974447527), (1223, 0.03023114479757818), (2005, 0.030223973358725918), (1774, 0.03022208667020388), (1091, 0.030220791573777293), (109, 0.030220123263921927), (3317, 0.03021662626572386), (439, 0.03021618555215437), (1964, 0.03020749371744758), (35, 0.03019964859899003), (1691, 0.03019768126861558), (953, 0.03018822578651218), (1846, 0.03018523639921094), (542, 0.030182111619070875), (1761, 0.030175143973899414), (1027, 0.030173491774422623), (3022, 0.030164190431396218), (4132, 0.03015945952838716), (2575, 0.030157120516599075), (492, 0.03014960182636042), (1315, 0.030139931439447196), (594, 0.03013864000054961), (179, 0.030125082639317135), (4263, 0.030113404940466132), (2338, 0.030109372039237258), (583, 0.030102091723039393), (3826, 0.03009092977882987), (1920, 0.030086631379131507), (4450, 0.030084556226078706), (2562, 0.030081858659981878), (2170, 0.030073843957200707), (3010, 0.03006610969926289), (4294, 0.030065034738977807), (1707, 0.03004606558738486), (869, 0.030044407219181144), (3336, 0.03003918069819468), (4505, 0.030032694701229642), (297, 0.03000938261241279), (1017, 0.029988248930349966), (1906, 0.029979730916426126), (1969, 0.029972552534106738), (4064, 0.0299661426275936), (2491, 0.0299649979618673), (1349, 0.029951498623598586), (1391, 0.029941114650452), (1441, 0.029924281256494448), (997, 0.02992064611082019), (2311, 0.02991745025945742), (3599, 0.029904962864915077), (4569, 0.02990112814395007), (108, 0.029897045163877638), (3735, 0.029896119325093062), (3079, 0.029894527221958685), (813, 0.02989255103264658), (4421, 0.029887429112586635), (3922, 0.029882650944742604), (4718, 0.02985775864973999), (333, 0.02985774129987272), (1815, 0.02985557522147029), (3995, 0.029854959584439015), (2917, 0.029853568289339796), (1344, 0.029844199341214322), (3938, 0.02983895171584153), (3314, 0.02983670929406725), (1107, 0.02983477732390327), (1932, 0.02981660554948769), (1848, 0.029810630190288203), (3653, 0.02980998176473248), (2026, 0.029806845331813943), (2335, 0.029786150846803645), (568, 0.029785937358547475), (4743, 0.029779884840275134), (3888, 0.029778219779906513), (4271, 0.029776091228433704), (1042, 0.02976197483757571), (4737, 0.02975532199275759), (4527, 0.029745310728882698), (1326, 0.02971807195323355), (3798, 0.029701008159318087), (1701, 0.029699599950315722), (2414, 0.029694607771475725), (128, 0.02969083748199495), (2143, 0.02966987424788896), (2570, 0.029665950846289316), (1942, 0.02966575954451208), (2204, 0.029652280723363175), (1983, 0.0296519330094957), (1719, 0.029632808126832548), (4095, 0.029615052822382422), (2862, 0.029614250691255582), (965, 0.029613296895943286), (2100, 0.029601718027392213), (1965, 0.029587552295384078), (863, 0.02958724235009861), (912, 0.029573614580400878), (184, 0.029563483309406717), (3775, 0.029562808997166658), (2608, 0.029556937239945295), (252, 0.029556602839971812), (2481, 0.029556572690724373), (2758, 0.02953215844739732), (4649, 0.02952929325206376), (476, 0.02952656637992329), (3066, 0.029496077590717176), (4639, 0.029493977542143626), (3120, 0.02948361342877801), (2702, 0.029481671847992948), (1527, 0.029480832268505987), (2070, 0.029473999001900893), (460, 0.029472410112733532), (3115, 0.029471597249556766), (787, 0.029467879830307072), (4223, 0.029449057289759197), (4516, 0.02944428747957252), (4599, 0.029441923189368748), (1645, 0.029439080588830043), (881, 0.029428184376712158), (2006, 0.029422371077956158), (2729, 0.02941531571673063), (1300, 0.029409947860119173), (698, 0.02940615793041253), (856, 0.029405151199736843), (1097, 0.02940047958584715), (2104, 0.029393281081353622), (68, 0.029388743240087147), (4341, 0.029383031063374112), (4507, 0.029375149678398042), (1077, 0.02937155409610146), (4619, 0.029369307700332838), (4699, 0.029367912219556088), (2585, 0.029360634854704692), (4555, 0.029352366421503382), (2352, 0.02935146717162562), (758, 0.029345503283638722), (4208, 0.029322244479857176), (2777, 0.02932030537643229), (4549, 0.02931899931671465), (3784, 0.02931637182622884), (3391, 0.029304968615758258), (2318, 0.02929616036293794), (2285, 0.02928495539653058), (4552, 0.02928060379991132), (4218, 0.02926844450845791), (3612, 0.02926731109975217), (1903, 0.029260143604496937), (1771, 0.029257514926404295), (2208, 0.029248616580715887), (408, 0.02924811806221235), (2551, 0.02924790937176942), (2643, 0.029244712796115582), (1714, 0.02923421580134524), (1396, 0.02923279599194164), (2254, 0.029231661251202967), (3050, 0.029224137799262473), (1037, 0.029222484911174188), (1019, 0.02921808499772879), (2983, 0.029199405278993916), (526, 0.029192451947528144), (1413, 0.029187730232386563), (54, 0.029170291902751434), (4245, 0.029167734340399362), (470, 0.02916374749623022), (1918, 0.02916209778373798), (396, 0.029136308667306918), (286, 0.029127807699129413), (1175, 0.02911840608747197), (3106, 0.02911758041114087), (1855, 0.02910774473629587), (2579, 0.0291009555677376), (4709, 0.029099317583760557), (3508, 0.029094045151397414), (4594, 0.02909254771427115), (553, 0.029078264139118817), (1209, 0.029074366103139293), (3290, 0.029070688158413495), (435, 0.029067559971961837), (398, 0.029063697995939948), (653, 0.02905241366891579), (2215, 0.02905071045451679), (4498, 0.029042509604217084), (2711, 0.029029287028009564), (603, 0.029027148081940443), (2772, 0.029010513784829405), (4444, 0.028986507655491444), (3412, 0.02898604294835933), (1894, 0.028984512284025588), (3419, 0.028981894512342687), (3588, 0.02897762279656264), (3926, 0.028967381858377887), (909, 0.028963752513152932), (4043, 0.028960107026481725), (632, 0.028954375655961595), (4379, 0.028936738464790286), (2172, 0.028923885967992304), (651, 0.02891128569302954), (4028, 0.02891082859976288), (3288, 0.02890802337846928), (4288, 0.02890611641234612), (4360, 0.028905318957094354), (4155, 0.02889609960193394), (4156, 0.028889410295672192), (1008, 0.02887927841144092), (1418, 0.02887408270582223), (3998, 0.02886455006278288), (3370, 0.028850554821559543), (4584, 0.028848183132765486), (1244, 0.02884357300787595), (1854, 0.028825848380560366), (285, 0.02881706101736051), (3768, 0.028813290768937922), (3227, 0.028800582091346096), (1098, 0.028785876039396623), (2325, 0.028775835990766586), (3893, 0.02877516294291866), (3970, 0.028759170886443162), (3484, 0.02875639417433053), (3879, 0.02875444193647588), (27, 0.028751043927879923), (2875, 0.02874837781362283), (2538, 0.02873673568469688), (2366, 0.02873108415914331), (1978, 0.028723947405056585), (162, 0.02871924481871931), (3322, 0.028716949461307106), (2188, 0.028714983358442643), (4149, 0.02870962920775296), (88, 0.028708345277616464), (453, 0.028704386330824942), (2365, 0.028693590348007465), (3556, 0.028692402072537725), (2957, 0.028678465798245043), (4588, 0.028675170551470227), (4313, 0.028672950670017277), (3869, 0.028670575389099926), (4012, 0.028668059618540204), (1912, 0.028647518430935267), (4449, 0.02864641508343649), (1506, 0.02864311420736882), (4170, 0.028640674497637686), (1735, 0.028638572836634367), (1447, 0.028636952917140843), (1490, 0.028632171367272034), (114, 0.02863203282279681), (3024, 0.02861273649130029), (2118, 0.02861108491564375), (864, 0.02860212838525481), (2016, 0.02859840670491763), (1154, 0.02858936047561475), (2198, 0.02858877216227395), (3069, 0.028585407275707058), (1696, 0.028574841379834424), (4661, 0.028564201672383452), (1400, 0.028550893620546365), (1497, 0.028540916809166605), (4324, 0.028532249432271926), (2037, 0.028526181220696455), (4546, 0.02851709068912768), (1738, 0.02851488082706292), (1330, 0.028499459486896025), (1706, 0.02848279752361921), (2720, 0.028482634138430673), (2832, 0.028477457597131953), (2871, 0.028472090662815742), (4029, 0.028464150741571083), (3815, 0.02846026129543175), (174, 0.028444200685493307), (1354, 0.028438075394069343), (4609, 0.02842911113032044), (2416, 0.02842868878987278), (3339, 0.028422810107096904), (3221, 0.0283900476890321), (1484, 0.028389564903597328), (1348, 0.028383843739045345), (3962, 0.028378040623976714), (4068, 0.028373931285183215), (3763, 0.028372759594926005), (2677, 0.028364347997172534), (2783, 0.02835586464763884), (1438, 0.028354844979488945), (2581, 0.028341128155762986), (1896, 0.028338899651352962), (210, 0.028323278124706187), (306, 0.028312867996006644), (3177, 0.028302188151442333), (1820, 0.028299923725988375), (3710, 0.02829389921274292), (2457, 0.028280368067055566), (107, 0.028270438070849765), (930, 0.028269932480346847), (1660, 0.02826664590518268), (1921, 0.02826630803149291), (4627, 0.028261621676090157), (4381, 0.028250830906394384), (2444, 0.028247024274194683), (37, 0.028246667135853304), (900, 0.028236465605319713), (263, 0.028235878167998593), (4632, 0.028233032291723498), (36, 0.028231704867437472), (4110, 0.02823096329511457), (880, 0.02822665971727043), (130, 0.028208581108259745), (676, 0.02819208905244659), (4529, 0.02818336065607341), (2852, 0.028168195483325685), (1087, 0.028167103910864376), (2312, 0.028156409808360924), (1654, 0.028153474640721914), (3694, 0.02814292291738737), (2272, 0.028139825063799098), (4536, 0.028125592893262257), (3237, 0.028121060411344736), (4024, 0.028112621805875183), (1254, 0.02811023417770215), (2539, 0.028100866251189172), (3592, 0.028098394136718604), (3159, 0.02809371198230815), (105, 0.028086981037382608), (824, 0.028083034416034193), (1070, 0.028076931260234174), (2384, 0.028070629527662073), (4087, 0.02807058955801799), (1392, 0.028062554927777025), (2752, 0.028061714235844526), (4717, 0.028057690947779237), (1164, 0.028045536923903592), (1000, 0.02801996875968772), (3649, 0.028015350507610684), (424, 0.028012091237429055), (2969, 0.02801115447946662), (1842, 0.028001577873152), (606, 0.02797153137767988), (2708, 0.027926548747630998), (3337, 0.02791424379983891), (3198, 0.027908317238124803), (1876, 0.027903284997631762), (3986, 0.027902078081135435), (1725, 0.027898814666425267), (3691, 0.027886634080521975), (4135, 0.02788510059504032), (2106, 0.02788128285685212), (1495, 0.027868956651924588), (2120, 0.027866875414634375), (4391, 0.027861059233223285), (2393, 0.02784014252472622), (4411, 0.027831226208716957), (2025, 0.02782354313510271), (971, 0.02782202756313257), (3180, 0.027816130264260743), (1718, 0.027815396783452195), (652, 0.027812009238395555), (672, 0.02780616231623158), (4353, 0.02779691721960434), (3418, 0.027790708475443262), (970, 0.027783904906531688), (4473, 0.02777459100755124), (2796, 0.02777387744001646), (4413, 0.027766077218384668), (2101, 0.027758805511707826), (3094, 0.027754197430995536), (2731, 0.027749127564751074), (4237, 0.02774521686964741), (598, 0.027744281786016248), (3509, 0.027735431789643817), (4217, 0.027728261665526856), (4503, 0.027719338773083413), (4241, 0.027718933214880462), (278, 0.027716537031040482), (3307, 0.027699105172485666), (370, 0.027693960937419826), (1810, 0.02768672253232952), (2978, 0.02768325211051094), (4624, 0.027668680658660887), (1818, 0.027667903764721866), (4307, 0.027659494867699943), (3002, 0.027650641934470695), (2276, 0.02763987443542343), (19, 0.027634994286903674), (775, 0.027631419059082736), (1270, 0.027628135597376115), (1981, 0.027620871704805573), (957, 0.02761927347200331), (729, 0.02761801625225371), (3940, 0.02761441129023745), (4712, 0.027612824815561418), (456, 0.02761271382214087), (1062, 0.027602155050853065), (4508, 0.02759081280215607), (2018, 0.027590247524885113), (2610, 0.027585824982700336), (3972, 0.027584086261790965), (3778, 0.02757598857144223), (837, 0.027561124972503362), (4176, 0.027557881404942152), (4014, 0.027557442143942613), (1872, 0.02755724289490208), (3925, 0.027554919348311432), (3481, 0.02754878365535143), (1547, 0.027540878231486245), (2505, 0.027538456701087583), (1182, 0.027536752848118733), (2320, 0.02752908756848881), (123, 0.02752888618940807), (4448, 0.0275253470345898), (3904, 0.02752117254988197), (153, 0.027513495985340544), (640, 0.02750997040441825), (3233, 0.027506518561508802), (547, 0.027502903582793017), (4198, 0.02750072503962228), (2091, 0.02749987227192083), (3607, 0.0274767951803588), (2660, 0.0274674646718806), (1943, 0.02746680072142318), (2815, 0.027459467341835568), (1600, 0.02745554861357212), (399, 0.027451902005447733), (4372, 0.027448046672024842), (1636, 0.027447846074057782), (3395, 0.027442434525230885), (144, 0.027428068490239793), (2849, 0.027427038701115843), (2541, 0.027425055206888576), (4666, 0.0274164469033568), (886, 0.027406559627983277), (1585, 0.027406103022789948), (3736, 0.027380621718281425), (3133, 0.02738012618689933), (3701, 0.027375480145578324), (4310, 0.02736813977719546), (58, 0.027362437122422884), (2477, 0.027355742902628415), (2421, 0.02735439599588637), (2671, 0.02733771687336323), (1843, 0.027334080137149035), (843, 0.02733254698267774), (958, 0.02731737523406412), (425, 0.027308297715404817), (1641, 0.02730022423476894), (4602, 0.02729550641460855), (1018, 0.027288189742925878), (2861, 0.02727482571730933), (2494, 0.02727152997918477), (1545, 0.027271333843896645), (2754, 0.02726312806324248), (3313, 0.0272626611076602), (1712, 0.027262564003628833), (3747, 0.027262277649867182), (2434, 0.02724094535419317), (2501, 0.027238523696995375), (2373, 0.027231034729135642), (2072, 0.027215359470429305), (4323, 0.02721437340738893), (3071, 0.027213340788392663), (2314, 0.02720953344021779), (4257, 0.027196714966395495), (4278, 0.027195793384754304), (4069, 0.02718915576672329), (3635, 0.027184745223959986), (2826, 0.027174360295369192), (1430, 0.0271692802668529), (1869, 0.027161646092524482), (506, 0.027158779362049128), (2944, 0.027143806570621227), (966, 0.027141968867457084), (1743, 0.02714019526310457), (619, 0.027132263699440124), (4488, 0.027131535255292556), (1925, 0.027130135456054177), (1213, 0.027124485425447792), (1013, 0.027105688974861833), (468, 0.027099285959825147), (331, 0.027090779600019373), (607, 0.027089772094536082), (4108, 0.027073469621113247), (4690, 0.027059233822887288), (4359, 0.027057522469744636), (3648, 0.02705741901678799), (4669, 0.027056887292109567), (2235, 0.027055237906683904), (2630, 0.02705070471543683), (3752, 0.027050190894596905), (3697, 0.027042955764795235), (2940, 0.02704289009441351), (2166, 0.027041828986044986), (224, 0.02704141536643099), (1922, 0.02701637961695901), (3259, 0.027014457724379888), (2245, 0.02701101401226902), (1830, 0.02700446563916849), (2598, 0.02699916151546156), (4566, 0.02699895714702147), (3633, 0.02699470186743999), (3897, 0.026994237515805583), (2161, 0.026987148906004926), (1324, 0.02697456985114139), (3187, 0.026971170959922415), (1197, 0.026954654294400304), (1746, 0.026951840016539517), (1467, 0.02693934163219369), (2503, 0.026913473876803512), (2313, 0.026911642269919125), (1032, 0.026910546410683092), (2405, 0.02690824517433345), (3382, 0.02690756708111316), (310, 0.0269051695693584), (3229, 0.026903941961276524), (3567, 0.026900239166677376), (2842, 0.0268996951304117), (4145, 0.026896688578785022), (4225, 0.02689566872877865), (3087, 0.026880865833137462), (4512, 0.026860161931676292), (924, 0.02683836496971492), (4231, 0.02683789680677233), (1419, 0.026826697264269127), (2776, 0.02681632942125725), (1581, 0.026815411518245503), (2244, 0.02679735001378688), (3445, 0.026793470873070373), (995, 0.026791490905751236), (561, 0.02678948987368427), (2728, 0.02678211078454675), (1679, 0.026775414536428302), (1862, 0.026773362247138496), (255, 0.026761564275501113), (4322, 0.026758819270404393), (3453, 0.026758170617713947), (1346, 0.026757235002002996), (1802, 0.026749514040909955), (1770, 0.026748312073858915), (2544, 0.026737411225745814), (117, 0.026729319519534202), (4001, 0.026726888496995914), (2028, 0.026725390243894098), (2991, 0.026721279740543013), (3433, 0.02671492020037648), (1668, 0.02671410206112814), (211, 0.026710592690342164), (2173, 0.026696618342082343), (2676, 0.026691217545185136), (3503, 0.026676389118616726), (774, 0.026669338065157002), (1457, 0.026669269789339974), (3035, 0.026666722335771997), (2582, 0.026658759454248147), (4756, 0.026657907652820827), (4266, 0.02665439692617356), (2076, 0.026642971536199857), (3576, 0.026617149644556005), (239, 0.026603701109575943), (3803, 0.02659796202173219), (1882, 0.02659557224599663), (645, 0.02658415733727798), (3614, 0.02658409584912438), (4337, 0.02657667757653642), (1262, 0.02657260462840508), (1071, 0.02656855740079935), (3179, 0.026568430058773417), (4312, 0.026562841740187457), (4558, 0.02656194894123185), (3098, 0.02655746338468329), (893, 0.0265505615519031), (1849, 0.026544027851742823), (290, 0.0265310854108628), (3096, 0.026526756127274346), (2397, 0.026514838908847732), (3881, 0.02651115178404504), (4386, 0.02648890082126544), (4183, 0.026456896522823146), (3341, 0.026455059101208656), (4326, 0.02643998467811366), (3760, 0.02643741342843693), (3070, 0.026436737331254193), (3724, 0.02643075411078765), (2644, 0.026428403712509898), (1692, 0.026420611696116363), (2128, 0.02641695717408879), (49, 0.026398390886934665), (2670, 0.026388925733538047), (4442, 0.02638690135479779), (1277, 0.02638155725653746), (3443, 0.02637747671505669), (887, 0.02637745909036092), (2360, 0.026368118558974665), (1470, 0.02635736120770529), (3795, 0.02634550667365351), (3894, 0.026334198038463336), (3819, 0.026330318127875126), (2932, 0.02632884164443129), (4541, 0.026327978541473344), (3967, 0.02632034985501035), (4159, 0.02631929049689235), (1248, 0.026314353250039738), (1858, 0.026302489018812037), (98, 0.026286518785434105), (3665, 0.026283561708354684), (1522, 0.02627868799850436), (2398, 0.026272577066466598), (3959, 0.026259435856515728), (2666, 0.026257089787297093), (3287, 0.026251576491456832), (2860, 0.026243616739618034), (3261, 0.026241041763511202), (3804, 0.026225309533881858), (3047, 0.026224491549308362), (455, 0.026188394238873595), (1301, 0.02618446981282319), (2669, 0.02618293579626813), (798, 0.02615198734404213), (1976, 0.026151776697915838), (2902, 0.026143463888248706), (2291, 0.026137228483190313), (3996, 0.026130571449864942), (4144, 0.026130330289727745), (2568, 0.02613002896646791), (493, 0.026118167037965156), (3968, 0.02610753870980234), (2294, 0.026104712948223016), (4175, 0.026094568993049194), (521, 0.026088552629233822), (3880, 0.026087251134172144), (3171, 0.026083658299552667), (2036, 0.0260717599763769), (3340, 0.026066920212770406), (1191, 0.026057612357607195), (154, 0.026051563578951224), (1607, 0.026045619449110793), (3953, 0.02604217469576851), (4235, 0.026030933913486595), (2403, 0.026022578340253108), (74, 0.02600295933816753), (120, 0.026002753574522027), (2110, 0.02599917592964422), (2688, 0.025987934414391664), (701, 0.02598776774570942), (4392, 0.025982343280849755), (1150, 0.025976124770949606), (1866, 0.025975873734819067), (203, 0.02597119012811903), (3061, 0.02596413062998726), (3573, 0.02596106891145833), (1680, 0.025954170871169538), (4295, 0.02595253800894906), (4581, 0.02595246426446704), (860, 0.025941632348291277), (4419, 0.02594072825438091), (3266, 0.025940128874673722), (1648, 0.025939895906482498), (303, 0.02593472087615924), (293, 0.02593072737528653), (2988, 0.02592189490678386), (4534, 0.02590080428994233), (1977, 0.02589333260863871), (3538, 0.02589245168397359), (975, 0.02587771368708644), (2963, 0.025873751505036572), (2009, 0.025870102060702286), (2996, 0.025864827998395293), (235, 0.025863169739087314), (2761, 0.02585994007564205), (3149, 0.02584344356194759), (2705, 0.02582800696070069), (2132, 0.025813802512079834), (1704, 0.02581317526400958), (3901, 0.025805982326275595), (1888, 0.025805142026356073), (3738, 0.025791388684247837), (2116, 0.02578876944321613), (313, 0.025766449617804776), (3137, 0.025741468950167528), (1377, 0.025736160331290024), (3990, 0.025734677564045426), (2847, 0.02572945671872169), (3711, 0.025719338887494607), (2648, 0.025716237258760127), (312, 0.02570698882732576), (2704, 0.025703203317908044), (1592, 0.02567359191461239), (4318, 0.025663890066469672), (1652, 0.02565519431295156), (2351, 0.025649664847785757), (2689, 0.025644750950726224), (3333, 0.02563978600958408), (323, 0.025634742983758525), (1576, 0.025632120505916352), (3150, 0.025625978309689827), (2599, 0.025610509223885178), (2021, 0.025596342725593826), (3985, 0.025587582269449082), (440, 0.025584798472496898), (4670, 0.025580543588942295), (1108, 0.025573539093632604), (2177, 0.02557131288963215), (807, 0.025568591738874564), (280, 0.025551583914878443), (4253, 0.025532803107683646), (1496, 0.025527737921630832), (158, 0.02552763093996012), (1068, 0.025522265211112196), (1310, 0.02551862101955968), (4302, 0.025514581022156896), (1646, 0.025514228373886477), (1046, 0.02551242889212056), (1635, 0.025511980137433932), (842, 0.02550175365411575), (2053, 0.025500834801333274), (1316, 0.025499892060092552), (1792, 0.025497256201361333), (834, 0.025485761326591957), (709, 0.025485472907631306), (1518, 0.025481736506828036), (231, 0.025476412711761483), (2137, 0.025456942576046367), (1991, 0.025456151865749264), (2616, 0.025455926179742037), (4622, 0.02545209951012602), (2082, 0.025445611553225497), (4478, 0.02543478727245315), (2946, 0.025432589208837654), (4487, 0.02542863780162518), (283, 0.025424782971653796), (1239, 0.025424288315286755), (1784, 0.025418150792953783), (1952, 0.025412184313777092), (34, 0.02539114034288338), (4502, 0.025387026238598894), (1225, 0.02538029769024049), (4130, 0.025376350853133153), (1234, 0.025372734791241868), (442, 0.02536778643863967), (1260, 0.02536282568374899), (1710, 0.0253548383450964), (2886, 0.025349944071990843), (3332, 0.025348630262681283), (929, 0.025341174218609774), (4593, 0.02533995246938712), (2484, 0.0253395205795948), (2385, 0.025328643630609292), (1693, 0.02532560774609021), (757, 0.02532483571308551), (3999, 0.025323878579657375), (488, 0.02531775600316024), (4441, 0.025311465798324672), (226, 0.02530605998683061), (1612, 0.025298489765213095), (3854, 0.025295770662298798), (1570, 0.02528749645002395), (40, 0.025286963473136137), (531, 0.025286766176500126), (3092, 0.02528625914455513), (4342, 0.025284795106214647), (220, 0.025279866588674534), (4150, 0.02526782353201553), (4592, 0.025258343016277413), (3176, 0.025252136445129223), (2309, 0.025228150352390396), (1090, 0.0252279838645872), (2743, 0.025224697042266615), (4066, 0.025220562002983112), (1170, 0.02521102363575961), (157, 0.025205599706879998), (693, 0.02520480737385557), (4380, 0.025197740390026015), (4004, 0.02519772314129433), (1335, 0.025187473300174987), (1124, 0.025161649984226275), (234, 0.025159293356445737), (3312, 0.025157582435579848), (1403, 0.025136649979692956), (3210, 0.025129915619117156), (1797, 0.02512939721054631), (2668, 0.02512029087118249), (4219, 0.02509144351003889), (4119, 0.025089585706647134), (4445, 0.025087318963731245), (4075, 0.025084205136077398), (3889, 0.02508310299617639), (2099, 0.025082376219789475), (2904, 0.025081300295089648), (2697, 0.025080537469792982), (276, 0.0250804985421149), (2466, 0.025067538896801876), (437, 0.02506215696828825), (1851, 0.02505287982925279), (4050, 0.02505007508026363), (3731, 0.02504995543991621), (1025, 0.02503253181061524), (1703, 0.025019072897053636), (2280, 0.02501279204327436), (295, 0.02501265429496649), (1623, 0.025002544180099368), (1281, 0.024992895108629242), (518, 0.024984088473987035), (4091, 0.02498089355630214), (2887, 0.024978986200313826), (4494, 0.024978178860351582), (2774, 0.024963794307221385), (2566, 0.024961660884851453), (3976, 0.024954148486307105), (3216, 0.02492569962914683), (4081, 0.024921579111187666), (327, 0.02492035221290266), (2734, 0.024912891156950646), (1253, 0.024911530343987704), (793, 0.0249081360446803), (1125, 0.024903658423216284), (2565, 0.02489451149698794), (3696, 0.024891334443145022), (1420, 0.02488696984314315), (489, 0.02487480201899705), (2349, 0.024872204618976938), (3110, 0.024872024050505738), (4684, 0.024869386869291618), (490, 0.024859682876291485), (2804, 0.0248551549643284), (1619, 0.024851342774297746), (783, 0.02483396914356849), (2990, 0.024832038488144213), (3542, 0.0248289340998771), (3057, 0.02482573316619034), (79, 0.024825069932948553), (2555, 0.02482141601142851), (2049, 0.024821077665949022), (2112, 0.024818332106752508), (2275, 0.02481668939260386), (362, 0.024809021457773292), (2738, 0.024807387112702032), (1835, 0.024806949673029714), (2442, 0.024802339256316124), (1688, 0.024794727937257545), (3726, 0.0247824198932356), (1717, 0.024777272833745215), (2719, 0.024774394014115905), (3991, 0.024773464916384633), (2269, 0.024769989744536352), (3074, 0.02476757385268938), (262, 0.02476273691539553), (3372, 0.024746077281691738), (3492, 0.02473624911706049), (3929, 0.024734656526626504), (4083, 0.02472436932802957), (2363, 0.024722378584722326), (2131, 0.02472186220018084), (4447, 0.024709722194424074), (1073, 0.02470574065448231), (1737, 0.02470235191150088), (3373, 0.024700287648304956), (655, 0.02468749756334051), (1232, 0.0246873564410122), (172, 0.02468530825211348), (498, 0.02468145520114312), (3275, 0.02468006857583032), (2178, 0.02467948790335541), (1340, 0.024676387335240062), (4226, 0.024670816061471174), (4368, 0.024663744524968122), (3762, 0.024659007338725704), (2163, 0.024651625492505165), (2966, 0.024644130199577126), (2288, 0.02462712797605337), (923, 0.024626807880706644), (1045, 0.024625189084926738), (4138, 0.02462315210962934), (527, 0.024614695031146785), (84, 0.024599017661656702), (1758, 0.02459497408716503), (806, 0.02459372936375522), (2955, 0.024593121204326093), (1923, 0.02459039545184587), (96, 0.02458795944334463), (500, 0.02458247602164856), (3656, 0.024580928712619538), (2051, 0.024573780001374036), (3565, 0.024568647599122882), (1878, 0.024559461560039034), (3495, 0.02454052750051559), (4601, 0.024533701789676197), (1926, 0.02453060580257528), (832, 0.024517835758308057), (528, 0.02451667734153922), (2615, 0.024515226618542427), (2316, 0.024512288066656503), (3424, 0.024511394000387033), (1498, 0.024507898670815882), (4629, 0.0244999640424564), (2123, 0.024492099790949382), (4479, 0.02448814792459665), (2115, 0.02448386367610622), (1285, 0.024479758293442233), (2376, 0.024472757991827264), (345, 0.02446689645502711), (984, 0.0244627039977095), (1863, 0.024455625612347317), (799, 0.024452873800784692), (10, 0.024451177082170227), (2127, 0.024449027234907328), (782, 0.02444855289054754), (76, 0.024444999112943563), (1356, 0.024439945216550792), (2552, 0.024437076138572024), (1458, 0.024433902983357212), (4015, 0.024431762084074878), (3683, 0.02442889663852081), (15, 0.024416826491784564), (2712, 0.024415925608386086), (45, 0.02441252135966487), (2247, 0.024399836597579973), (2601, 0.024381465911005196), (3004, 0.02437618711515304), (2086, 0.024358063888935706), (363, 0.024347412863160472), (650, 0.024338369414019463), (3152, 0.02433577123783682), (1507, 0.02433380094548382), (1617, 0.024326582746908635), (4435, 0.02431182893148994), (309, 0.024305981749550065), (649, 0.02430028963704126), (4056, 0.024275598712738634), (1613, 0.024266164674178473), (3130, 0.024257362508024006), (3302, 0.024254952540082943), (1382, 0.0242444848888897), (3215, 0.024243682544800284), (1850, 0.024241836135471425), (3450, 0.02423853227250493), (3977, 0.02423831016924398), (577, 0.024233335628683794), (1343, 0.024229852808455066), (2851, 0.024224834526003606), (2266, 0.024219292474024393), (4039, 0.0242169102437378), (3409, 0.02421185349221464), (4032, 0.024209014720456883), (3168, 0.02420895984686305), (4611, 0.024202606629418724), (3817, 0.02419071228836738), (1393, 0.024185174823009865), (3328, 0.02418437542614682), (4340, 0.02418046232305866), (4010, 0.024180436651649186), (426, 0.024177733127222826), (986, 0.024168545390596742), (2594, 0.02416630700786066), (3467, 0.02416619040718492), (4051, 0.02416528222392008), (4533, 0.02415746525707116), (723, 0.0241523255154641), (1120, 0.024146115320906103), (1169, 0.024138778021178142), (2103, 0.0241326454735178), (4659, 0.024129984801270998), (841, 0.02412373716957755), (1824, 0.024111780069580886), (821, 0.02410460684129246), (2233, 0.024096544031321027), (1647, 0.02408257814704294), (2388, 0.024065097921744213), (2894, 0.02404954848070483), (3816, 0.024038517580407367), (3941, 0.02402083645014395), (4663, 0.02401345614962856), (4054, 0.024008709414366766), (77, 0.024001323749100766), (507, 0.02399830033379491), (3930, 0.023972374645882904), (4499, 0.023970496624264852), (137, 0.023960712598813615), (2119, 0.023953523772749424), (3220, 0.023942580968356882), (3685, 0.023942512023337827), (355, 0.023941666293943578), (2267, 0.023934584532236642), (113, 0.023934123036134045), (4096, 0.02393320790978187), (708, 0.02392701207804188), (1488, 0.023925202205949497), (145, 0.023922514943385265), (530, 0.023911528073489004), (22, 0.023908696006647936), (4591, 0.02388889843780245), (2794, 0.023879249126022274), (1590, 0.0238639551410155), (1549, 0.023856699939939517), (1485, 0.023848544060735045), (2125, 0.023822978569059353), (3868, 0.023816746757122267), (1005, 0.023816188839549016), (1294, 0.023814733554059556), (3479, 0.023810953423412547), (4229, 0.023810294629335742), (2906, 0.023808863313608073), (4249, 0.023807545973550233), (4207, 0.023801211905692312), (751, 0.023797526315136604), (937, 0.023793658804813347), (2460, 0.023791606509908306), (3531, 0.02379064895101124), (1033, 0.023764949498683106), (916, 0.023764259840969606), (2674, 0.023761992022421883), (1296, 0.023754056607902817), (794, 0.023752076768533827), (3907, 0.023750628429076555), (3739, 0.02374639297884806), (1698, 0.02373323051288789), (4339, 0.023731120404597843), (1171, 0.02372946816915094), (1994, 0.02372030952331388), (3417, 0.023719607791976453), (406, 0.023717824198411206), (250, 0.02371404358571507), (4373, 0.023713563034877438), (3654, 0.023707533863499747), (964, 0.023691798718432806), (979, 0.023690236500121833), (2218, 0.02368168854784388), (2698, 0.023678479786476223), (222, 0.023676810449574696), (467, 0.02367409998222681), (1657, 0.023673662700498883), (551, 0.023669283333151582), (1128, 0.02366518833549311), (1211, 0.023662155762611554), (4320, 0.023659062296428685), (3381, 0.02365706009132662), (3234, 0.023634703806476406), (4034, 0.023617418036343107), (3853, 0.023615779019308357), (3502, 0.02361248722962715), (2845, 0.023598796779606645), (3123, 0.02358747502610649), (2721, 0.02358162219416602), (3717, 0.02357071633683399), (3507, 0.023565362280275025), (3499, 0.023564551556376344), (580, 0.02354836801206223), (1536, 0.023541636181557565), (2751, 0.023539402976601984), (139, 0.02353657918101618), (833, 0.02352907644934494), (4125, 0.023511787478306224), (337, 0.023506491262260166), (4308, 0.02349937166031951), (2196, 0.023483316523065217), (1221, 0.02347631200194318), (3174, 0.023466712555409497), (3029, 0.023464879859138785), (2, 0.023461930024964234), (3027, 0.023461386105860748), (2372, 0.023452289054158696), (1751, 0.023449178400403673), (1944, 0.023445414510032538), (1252, 0.023442046542142027), (3550, 0.023419160994932454), (4007, 0.0234068221110961), (4705, 0.023406009857636464), (1819, 0.023404615570515944), (4466, 0.023398267528404293), (3979, 0.023396070903986474), (1257, 0.0233834376506578), (86, 0.023380796425251045), (4430, 0.023364684973155254), (2854, 0.02336463498552328), (2417, 0.02336158799848661), (4195, 0.02335955782284543), (3466, 0.023359156866741913), (4134, 0.02335450685176484), (3435, 0.023349380510494226), (134, 0.023349319807808428), (3046, 0.023337968981714165), (1072, 0.02333468122509268), (1114, 0.02332980069450954), (359, 0.023319083017646944), (2795, 0.02328942874438695), (1267, 0.02328591516706103), (3181, 0.023278149353062154), (1264, 0.0232776354147354), (1778, 0.023272500352838746), (3083, 0.02326904619796558), (3773, 0.02326144206240536), (1781, 0.023255917906327757), (2089, 0.023255384008699448), (2530, 0.02323714186704518), (2879, 0.02322905245973417), (170, 0.023225458118696894), (3913, 0.023201237732432756), (1879, 0.02319986675987174), (2319, 0.023199016080729325), (1352, 0.0231837930447455), (1123, 0.023182808611687426), (3506, 0.023179650990589787), (4247, 0.023178279887320824), (3596, 0.023175130172776805), (4256, 0.02317505323206227), (4689, 0.023172816276538354), (268, 0.02316969771139387), (2129, 0.023168260626881213), (829, 0.023166790360477432), (2174, 0.02316063563442979), (1744, 0.023156741060497803), (4582, 0.023149972082421106), (4439, 0.023141882872721817), (201, 0.023139217244752985), (4046, 0.0231378464234812), (899, 0.02313680771653249), (3839, 0.02313554275389124), (699, 0.02313414340430151), (2467, 0.023098831641759927), (346, 0.02309422078583287), (1038, 0.023088841835494256), (4079, 0.023065389556942185), (3112, 0.02305934782520836), (4344, 0.023056496859170394), (342, 0.023050110663719956), (200, 0.023050043102965045), (2801, 0.02304103015223984), (1468, 0.023038338705377054), (1845, 0.02303828650914278), (4662, 0.023033628494193926), (3516, 0.02302794098512833), (2371, 0.02302008036906623), (1988, 0.02301834764786248), (3496, 0.02301773888752529), (1632, 0.023010272204080973), (4683, 0.023008308336162468), (1231, 0.023005794878773834), (867, 0.02300357782728218), (1946, 0.02296925326671348), (2818, 0.022952160704551028), (3344, 0.022943210106318758), (3232, 0.02294177540505024), (2682, 0.022935270944170503), (2533, 0.022934290348546455), (141, 0.022934225796791278), (4168, 0.02292628354248914), (2762, 0.0229255607713109), (2986, 0.022925358007272648), (3572, 0.02291733008616459), (4610, 0.0229072432171358), (4408, 0.022902741923690222), (3255, 0.022897258661936124), (4314, 0.022897118787687194), (2621, 0.022896851984426633), (80, 0.02288996335866965), (2292, 0.0228813468234172), (696, 0.022878703877387066), (3366, 0.022864399359937424), (3786, 0.02285634697453562), (679, 0.022850467938458862), (4452, 0.022840244065430573), (1927, 0.02281558840828883), (191, 0.022812282501603748), (943, 0.02280873037066638), (4403, 0.022785304911044406), (2619, 0.02278073395370973), (2834, 0.022777061067810904), (4586, 0.02277223231112514), (4230, 0.02275834039566264), (1359, 0.022748319656380283), (3749, 0.022744009733110585), (244, 0.0227429885865273), (663, 0.022739007976140077), (2690, 0.02273894600994018), (405, 0.0227185940499913), (4089, 0.02271856627372571), (2960, 0.022716900239844906), (1749, 0.022710128171236705), (2873, 0.022690278209450583), (2486, 0.02268688473721878), (3908, 0.022685140902352484), (471, 0.022684975718770064), (4090, 0.0226768155225229), (1026, 0.02267654352204307), (3444, 0.02266923802649316), (4216, 0.022667821026111153), (4429, 0.022664023498177494), (4123, 0.02264864400791403), (1473, 0.02264460520789217), (4616, 0.02264243825990426), (1940, 0.0226416787807215), (1295, 0.022640891213333243), (3790, 0.022630291485627528), (1314, 0.02262384662796434), (3300, 0.022623353486989028), (1476, 0.02261879145463642), (2641, 0.022609829435169166), (4325, 0.022604787191090825), (4362, 0.02259830637701008), (414, 0.022597205260842808), (1928, 0.02259631963190283), (2817, 0.02259472751763755), (3505, 0.022591847199544227), (3044, 0.022590667670911967), (1198, 0.022589173036161907), (677, 0.022588000756341712), (3193, 0.02256845179144271), (2822, 0.022562508776372593), (2573, 0.022562480978931), (3347, 0.022559888712214846), (2145, 0.022551326486750532), (3885, 0.022551258864368963), (1358, 0.02254826140194368), (592, 0.022541956361173558), (4596, 0.02253388109167727), (2265, 0.022533345147350316), (1368, 0.022529719994512865), (4489, 0.022517372931824674), (2075, 0.02249550707035009), (3923, 0.022488221289554636), (846, 0.022475178138604425), (1181, 0.022444014088570278), (4121, 0.022440127623512805), (1452, 0.022437346213963205), (719, 0.02243090190610792), (2249, 0.022421735343059947), (281, 0.022409084740523125), (1534, 0.02240154651655776), (3732, 0.02240148874266041), (1857, 0.02239832986760948), (4129, 0.022397715550802107), (1686, 0.022379053702577364), (459, 0.02237885197562376), (2972, 0.022373900309132763), (2954, 0.022371483446596323), (2512, 0.022371409578477844), (13, 0.022352489375720163), (1450, 0.022341035276540414), (1439, 0.022340891199621113), (2064, 0.02233411426263727), (2642, 0.02233118193610897), (4437, 0.022326214733801097), (3548, 0.022320830021568098), (2342, 0.022314863205218208), (4443, 0.022307005352425666), (338, 0.022305759693217894), (2151, 0.022295081415179087), (2450, 0.022292541788182553), (1740, 0.022290917587729633), (2699, 0.02228190682109427), (2706, 0.02227659856366849), (2880, 0.022275030321571045), (3914, 0.02227313769731155), (2024, 0.022270170664675036), (772, 0.02225748142539194), (3483, 0.02225357807656117), (2700, 0.022239980553052603), (4393, 0.02223980034772497), (2882, 0.02223199501781046), (4680, 0.022230854836623685), (669, 0.0222307644665175), (4387, 0.022226578190177114), (1138, 0.022217515895382095), (2840, 0.022205386782606383), (2427, 0.022204280717661246), (282, 0.02220110901939283), (4484, 0.02219760226736448), (21, 0.022195147392240096), (314, 0.02219509428537507), (897, 0.022188738491752593), (23, 0.022183566995140878), (4496, 0.02216999634030458), (2897, 0.022141219670419158), (1750, 0.02212469261947886), (3142, 0.022116706126881318), (4468, 0.022113010371410124), (1783, 0.022096296056309896), (1582, 0.022067790007438675), (4744, 0.022062059323125525), (289, 0.022061498185581098), (219, 0.02205991229333174), (3104, 0.022055857922761973), (4267, 0.022052967358638827), (4021, 0.02205169711141874), (1274, 0.022049665734326186), (150, 0.022049485427782265), (1889, 0.022045529084428295), (857, 0.022042277192491674), (2692, 0.02203785103154038), (3850, 0.022028622139235204), (637, 0.02201513800895842), (831, 0.022015119058763313), (3626, 0.022011263546865632), (2605, 0.022008642439693544), (2340, 0.0220081645360289), (4476, 0.022006714219336573), (2638, 0.022004113912450017), (616, 0.021993906795394758), (2200, 0.021981474669245844), (1933, 0.02197865836272231), (662, 0.021975644971161862), (745, 0.021974013089435966), (193, 0.021972846793512538), (4642, 0.021969459285415254), (1609, 0.021959481038140636), (1560, 0.021955338690768534), (4497, 0.02195205751530527), (3200, 0.021947930219986322), (1386, 0.02194470655120908), (2788, 0.021941934056484612), (1145, 0.021938286856258836), (2402, 0.021935925184792142), (1786, 0.021930801850362964), (1900, 0.02192934202594001), (3586, 0.02192572903689866), (4297, 0.02191128941139454), (3910, 0.02190889767742464), (4633, 0.021889320538267573), (773, 0.021885143527046038), (2438, 0.021876597862283832), (683, 0.02187352023213666), (1031, 0.021871140598423634), (565, 0.021868168214259208), (3729, 0.02186674280033424), (732, 0.02185338540990612), (3051, 0.021847913571339476), (30, 0.02184151948559689), (713, 0.02180412541452453), (2404, 0.02180136755525424), (4501, 0.02180127703974795), (4714, 0.021780518158298144), (2453, 0.021766035944595405), (2850, 0.021762448125689865), (550, 0.02175893944940218), (2657, 0.021739720367246692), (2344, 0.021731626276059055), (2406, 0.02172180960781157), (809, 0.021717650008822344), (3978, 0.02170670717008341), (1524, 0.021698098708346766), (4738, 0.021697642673200117), (673, 0.021696815692437022), (2087, 0.021691169775168075), (3498, 0.021690650877137892), (2336, 0.02168409792957879), (3440, 0.02168347234478754), (1504, 0.021681279578870474), (2158, 0.021668274048099023), (1715, 0.021639284334202823), (2190, 0.021625215711902332), (4279, 0.02162433577658139), (3949, 0.021622005908512192), (604, 0.021620739823802037), (2866, 0.02161772547506807), (4672, 0.021614669770408858), (206, 0.021596052209163275), (3488, 0.021590304209243676), (826, 0.021589611749089726), (4045, 0.021589532989178293), (4510, 0.021589491970896848), (50, 0.02158855156021492), (407, 0.021580975887699347), (3898, 0.021538154340481692), (638, 0.02153117846852571), (955, 0.02152357847042016), (1950, 0.02151826674054172), (681, 0.021513787141106494), (1836, 0.021504837387722985), (149, 0.021489329911925464), (4289, 0.021482492765378582), (1597, 0.021479668468872136), (4674, 0.021476104457356034), (1275, 0.021474215100853095), (4757, 0.021470027005975535), (2424, 0.021469830359302035), (1580, 0.021465772916885457), (4192, 0.021436537214959372), (2332, 0.021430985016248873), (2387, 0.021429852168555457), (3273, 0.0214294506904629), (3437, 0.02142896056617793), (569, 0.021427699065320764), (243, 0.02141919764006042), (1721, 0.021418786398587544), (3355, 0.021417799379734585), (2592, 0.021415444796537314), (4330, 0.021410722780129662), (2964, 0.021401771473545782), (4607, 0.021391446243718276), (0, 0.02138766923003289), (2069, 0.021383869319976392), (796, 0.021370754789793302), (746, 0.02136947943400178), (1822, 0.021367104920484156), (56, 0.021360465867373436), (3838, 0.021341397585876627), (4346, 0.021338557658038392), (1812, 0.021322954463034553), (582, 0.021319737574982237), (4583, 0.021314380074137315), (2828, 0.02131140821015237), (4052, 0.021306850978093247), (3242, 0.02129971783137897), (4243, 0.021298085567002738), (1168, 0.021285646069559898), (741, 0.02128278445723582), (2895, 0.02127700426265581), (2958, 0.021271117035236983), (2756, 0.02126125577689007), (1563, 0.02125243850340515), (401, 0.02125185513774601), (2020, 0.021247464975430706), (4210, 0.021246978174331695), (2030, 0.02124427882811457), (4304, 0.021238627354771174), (1099, 0.021236054861489582), (602, 0.021235938426063007), (4713, 0.021235809225404488), (835, 0.02123337439449671), (2071, 0.02123059318189944), (272, 0.021219734416002157), (529, 0.021206416458886723), (4269, 0.021195455470463493), (1389, 0.021195365147185143), (3679, 0.021191973479439553), (3580, 0.021175403269780534), (4018, 0.02117005995400191), (225, 0.021166200741665794), (1103, 0.021161580527292518), (3260, 0.021156806379389825), (1697, 0.02115648663940545), (136, 0.021145432874617398), (1720, 0.021144899279783764), (3620, 0.021133459004599734), (1734, 0.021132668810897023), (1080, 0.021130088357856895), (1919, 0.02112920508892151), (1865, 0.02112308103178168), (3118, 0.02111911864776181), (2814, 0.02111731583342801), (1675, 0.021107716361954867), (1422, 0.02109127952504078), (552, 0.02108501084870156), (2564, 0.02107224429461757), (3228, 0.021063310228525096), (4274, 0.021056920943481515), (2431, 0.021053264788548885), (3138, 0.0210532274999904), (2418, 0.021052910179124685), (4409, 0.021052168865202447), (388, 0.021049199099959826), (628, 0.02103288075381648), (4402, 0.021031818086621582), (2997, 0.021029245458297013), (3805, 0.021019972002581537), (3400, 0.02100604297281744), (588, 0.021004370149825473), (4647, 0.021002088695636297), (4378, 0.021000845302279997), (4635, 0.02098643847369003), (1121, 0.02098607715643967), (1369, 0.020980307316372272), (3246, 0.020953187944413126), (4620, 0.020950746702125295), (1644, 0.020927443471708697), (1374, 0.020921561048237673), (3867, 0.02091233614439339), (3019, 0.02089339702767358), (4418, 0.020856727548861014), (3992, 0.02085017607416037), (942, 0.02083859766517459), (3687, 0.020836573755496468), (3927, 0.020832538116338877), (55, 0.020830672626156642), (391, 0.02082467775693476), (3872, 0.020818851960005522), (4287, 0.02080193868721958), (3713, 0.02079806509920702), (29, 0.02079688895238374), (3702, 0.020794852407232757), (2435, 0.020791283711958323), (1793, 0.020787824587651764), (2345, 0.02078236372374312), (2985, 0.020780732838342437), (2715, 0.02077803657123409), (630, 0.02077793319073771), (4239, 0.020765306110269725), (4016, 0.020754821203681897), (4405, 0.020753286016146042), (2812, 0.020750253044154742), (601, 0.020749165484796623), (1801, 0.020743081639259572), (4072, 0.02073440622321085), (3606, 0.020723755468527113), (3920, 0.020716342753259412), (433, 0.020706101667287213), (2126, 0.020697571984900055), (319, 0.02069128480880577), (2546, 0.02069051740310412), (1513, 0.020689470902679988), (3173, 0.020679846352072838), (2202, 0.02067827809085367), (2097, 0.020677764278504273), (2301, 0.02067707623706192), (4080, 0.02067697378916898), (2679, 0.020675714895096762), (2736, 0.02067196527813685), (908, 0.02067016947345341), (430, 0.020663343476149072), (2228, 0.02065945835582527), (2422, 0.020645239035879257), (1554, 0.020629542704399907), (2936, 0.02062783612292755), (4077, 0.020627766813173326), (1840, 0.02062722058550854), (1805, 0.020604407434231413), (2042, 0.02060380308218839), (2074, 0.020599979457915522), (2386, 0.02059841415706875), (1571, 0.02059683865896933), (2654, 0.02059657176327117), (302, 0.020596489394424048), (3829, 0.020593340723849173), (927, 0.020593197707218545), (2981, 0.020592502563325014), (151, 0.020583391592870214), (3808, 0.02055716026138711), (2620, 0.020552912056716655), (2015, 0.020535122393314488), (917, 0.020534234734424305), (2825, 0.020529800865053606), (3356, 0.020528786268715186), (2938, 0.020517047966766806), (4112, 0.02051056506385014), (102, 0.020507362052235557), (1179, 0.020492655226445798), (1486, 0.020489032008587447), (1383, 0.020482801587881783), (1322, 0.020471764169319555), (307, 0.020471642863314096), (445, 0.02045496051110499), (564, 0.02045368517282358), (1616, 0.020451854772466173), (2567, 0.020439885222526145), (2480, 0.020399418524892746), (3203, 0.0203818597883598), (3367, 0.020378263675988734), (4745, 0.020376385500623873), (1787, 0.020376081267048252), (1048, 0.020369282062466507), (4097, 0.020368682645396083), (2525, 0.020368197858963495), (674, 0.020363451298649585), (1134, 0.02035502567701591), (4605, 0.020344731977639027), (3060, 0.020339067496483138), (1085, 0.02033607368026083), (28, 0.020321361472297836), (3132, 0.020319696209569943), (1249, 0.020309256554194494), (1733, 0.020306375277759716), (2651, 0.02030350140907244), (1317, 0.020286319519912145), (600, 0.020286291688606906), (3480, 0.020284612249739698), (523, 0.020279233595057095), (377, 0.020279086104870045), (1790, 0.02027845701619333), (354, 0.020263632217186314), (1036, 0.020251900708175927), (3015, 0.020249663254278582), (4577, 0.02023602725496853), (2260, 0.020218450331031788), (3146, 0.020214390175194163), (2504, 0.020209639433879486), (122, 0.02020915013321619), (2913, 0.020199388721824453), (851, 0.02019625036407355), (1875, 0.020194560050998185), (1406, 0.02019363992509581), (18, 0.02018612312962287), (4742, 0.020168402020171998), (2560, 0.02016028576311977), (1594, 0.020159757308949842), (1546, 0.0201572584092483), (3439, 0.02015222709503768), (1196, 0.02014664425665387), (2841, 0.020145386817998972), (1881, 0.020142022246027028), (1533, 0.020136793724607003), (657, 0.020128401921787786), (1998, 0.02010697800321416), (3018, 0.02010675546476363), (2889, 0.020096623747716893), (1194, 0.020095087911394874), (271, 0.020094463079698338), (480, 0.02008858910358549), (3788, 0.02008264863906984), (4106, 0.020058788163761054), (2747, 0.020054206243804305), (4637, 0.020048070569876893), (1390, 0.020047976191721432), (3590, 0.020047539895573313), (1667, 0.020037736758062336), (2223, 0.02003508862377907), (1666, 0.020034325939988544), (1146, 0.02003326974535439), (555, 0.020032557009504976), (990, 0.020026926135483708), (4259, 0.020026001587762306), (1407, 0.020021598002605265), (1588, 0.020018553462874962), (2829, 0.02001506525977185), (2261, 0.019985219669858573), (336, 0.01997630109393516), (2602, 0.019966317691570735), (3301, 0.019953935901745892), (4321, 0.019947541829017056), (4543, 0.019943970809296177), (2485, 0.019936276892004647), (3194, 0.019930319550045275), (221, 0.019915665740653423), (3954, 0.019913779727256605), (2153, 0.019912663912142345), (4011, 0.01991062462188359), (3831, 0.019895718504407172), (38, 0.019883844979045828), (2536, 0.019865315464141282), (3249, 0.01985906724892736), (2732, 0.019848709639334237), (1624, 0.019838593215997687), (3965, 0.01983787868125088), (438, 0.019836912799133383), (2583, 0.01983583530971509), (4634, 0.019833931695060675), (4585, 0.019819660290434762), (4160, 0.019785086908395068), (1929, 0.019777858140775473), (2839, 0.01977355766600212), (4526, 0.01977197769010313), (2019, 0.019759571190596337), (4153, 0.019752752494390364), (3608, 0.0197482446939499), (865, 0.019747644933082523), (2916, 0.019744528496529624), (296, 0.019724670823784506), (2140, 0.019718777356361905), (684, 0.019716417455027554), (421, 0.01968438145635885), (2517, 0.019674100194991124), (462, 0.019673954382902262), (4490, 0.019665552065010833), (534, 0.019660113663596924), (1427, 0.0196367633183653), (4716, 0.0196278918397348), (3597, 0.019597672091682533), (4658, 0.019590660738359553), (3101, 0.01959022994748407), (253, 0.01958234856648256), (1723, 0.01957976077763725), (166, 0.019576804604922168), (3295, 0.01956246254894187), (3263, 0.019547576384076188), (4434, 0.01954657269049056), (3042, 0.019529897231568293), (1491, 0.019527221343862457), (4614, 0.01952612827216896), (4200, 0.019524374508387767), (599, 0.019523834693382272), (608, 0.019517287078950202), (2341, 0.019516422717715674), (3497, 0.01949858446910155), (2809, 0.019492700512235454), (4109, 0.019488803936015115), (1621, 0.019481703809701247), (1245, 0.019479988754325234), (2010, 0.01947516292229414), (3933, 0.0194745657753944), (2191, 0.019468083168583034), (503, 0.019462451136072617), (1363, 0.019458578573642124), (1672, 0.019458243963369194), (173, 0.01945818337184651), (4695, 0.01945703174934308), (3931, 0.019443784397330206), (1618, 0.019432724974593033), (73, 0.019425880315329196), (514, 0.01941346104859312), (788, 0.01940725349263609), (3037, 0.01940224183105376), (2868, 0.01940037573366154), (2502, 0.01939517108840818), (3447, 0.019394299601421607), (3028, 0.019388643354887686), (1525, 0.019385260769167516), (3622, 0.019383121890625243), (1917, 0.01937622659104347), (2992, 0.01936684033456762), (2907, 0.019366423584787403), (2220, 0.019365994747781615), (1269, 0.01935549953934449), (2896, 0.019350864632445487), (124, 0.019341082442240254), (3465, 0.019341004228876083), (4352, 0.019340872036217628), (2931, 0.01933511704731084), (1573, 0.019329374844361563), (3624, 0.019322157251965413), (4676, 0.019317620208362456), (2500, 0.019296265222165876), (478, 0.019291508906289605), (1136, 0.01928527947760722), (26, 0.019285197660242476), (4422, 0.01927761184157395), (1265, 0.019274625239666464), (2874, 0.01927354549973831), (1705, 0.019252618498206753), (4191, 0.019251764077581536), (4291, 0.019231625888318882), (4608, 0.019224036016593143), (4107, 0.019221316788624057), (948, 0.019218469209893597), (4041, 0.01920318788513199), (3378, 0.01917560735008584), (2347, 0.019170653776113725), (1754, 0.019168844101863626), (4453, 0.01915107284523596), (2572, 0.019149060361992907), (24, 0.019146035232545103), (3089, 0.019140473674701716), (4280, 0.019139198015017053), (3075, 0.019129391785690807), (3226, 0.01912484423743439), (3376, 0.01912315680266338), (2090, 0.019118976528287302), (1687, 0.019118055324651537), (381, 0.01909848556478807), (2959, 0.01907453242695689), (3818, 0.019071785517040297), (2553, 0.019062687507953445), (614, 0.019059366019514697), (1772, 0.019058934469336857), (508, 0.019056653432324447), (4410, 0.01905613597843895), (3011, 0.019050524943106932), (1165, 0.019046227803776943), (4706, 0.019034490415279118), (3553, 0.01903060021378597), (1956, 0.019025801448010946), (103, 0.019007090369478574), (2083, 0.018995902964201523), (121, 0.018994394161962525), (1732, 0.018990283627276186), (2093, 0.018988313976696803), (2263, 0.01898332907553334), (817, 0.018981929633995916), (3413, 0.0189757135009687), (2289, 0.018972968419071742), (3857, 0.018958958755073533), (2937, 0.018955160369439915), (876, 0.018948355013806234), (4750, 0.018939699222300523), (3223, 0.018939437679199745), (838, 0.01892831102655408), (2611, 0.0189277576327605), (3486, 0.01891874070608828), (2586, 0.018918044754298702), (1255, 0.018917997894097826), (4540, 0.01891499047287403), (2327, 0.01891319261199852), (473, 0.018901208352026452), (1256, 0.018887120686709395), (2004, 0.018886345603119362), (1708, 0.018886032672906748), (1174, 0.01887678294096444), (704, 0.018868891144423763), (2881, 0.018851947605336924), (2391, 0.018846108056626298), (2479, 0.01884365308398107), (2627, 0.018842770152112394), (3219, 0.018836364460905457), (1434, 0.01882892146327332), (4165, 0.01882345955641646), (1844, 0.018822700817657786), (510, 0.01882176180812924), (2763, 0.018814311282780233), (3984, 0.018813691401534716), (596, 0.01881324807217556), (3884, 0.018811735992772468), (548, 0.01881046024572015), (969, 0.018810132005464997), (756, 0.018805025792183606), (3703, 0.018804348452075438), (4628, 0.018791667540357274), (2113, 0.018775382046754045), (427, 0.018774675508344513), (730, 0.018758317653155214), (1336, 0.018751376810073453), (509, 0.0187498070661319), (1263, 0.01874002576771491), (90, 0.01873727669315759), (61, 0.018736712984497056), (1035, 0.0187335594502382), (2439, 0.018730138083540113), (1907, 0.01872958586667029), (1173, 0.018718153325808232), (3664, 0.018705101953181348), (3690, 0.018692886651092932), (4335, 0.018691989142103488), (4167, 0.018686005915909416), (3349, 0.018684949193250124), (3183, 0.018683669812341916), (4677, 0.018682640485788615), (1938, 0.0186801725920803), (3003, 0.018675106661918576), (2984, 0.01865770589560425), (4485, 0.01865408416699573), (2779, 0.01865044764392199), (195, 0.01864091172630809), (974, 0.018630927776438252), (4101, 0.018628412551333635), (643, 0.018627735083571018), (3987, 0.01862173523709884), (2401, 0.018619074119558023), (3394, 0.018601365861732902), (4300, 0.01859995901990598), (4025, 0.018594671503987175), (3129, 0.018593122254789537), (2329, 0.018588999753599768), (2750, 0.018587692130805408), (237, 0.01858585386540047), (2034, 0.018577713660672436), (4518, 0.018577244893911382), (4506, 0.018573686150918284), (1423, 0.018571747045168452), (1895, 0.018562201625769176), (2695, 0.018553537592794225), (4654, 0.018551043061500377), (1426, 0.018548599607531933), (4732, 0.018529132468145866), (1622, 0.01851323173789987), (3325, 0.018511309667430552), (4120, 0.018508120651347236), (1003, 0.01850427054960532), (3589, 0.018503178945724234), (4606, 0.01850161135860213), (3789, 0.018485633173751195), (1353, 0.018484716574356918), (4084, 0.018464466949332053), (1333, 0.01846386403543334), (4436, 0.01845461123672912), (2333, 0.018453576854264075), (340, 0.01844049230602378), (1222, 0.018438747120331906), (2022, 0.018419988626170787), (4463, 0.018414911858241675), (4638, 0.018414583950241686), (1402, 0.01840946999461419), (2455, 0.01840865215617252), (763, 0.018408496829480835), (1109, 0.018393677174126186), (216, 0.018378533374173084), (3291, 0.018369510117565997), (961, 0.018357492634717774), (839, 0.01835240602153854), (485, 0.018317260722042948), (2635, 0.01831686856552769), (3766, 0.01831648755505504), (537, 0.01831436546148466), (246, 0.018307698255970176), (4537, 0.018307655115328048), (322, 0.01829600949307715), (3982, 0.018292673132473725), (734, 0.018285930080327778), (3909, 0.01828033852329685), (1739, 0.01825225039563508), (3389, 0.018249143463852344), (2274, 0.018204932086185264), (2270, 0.018203549649243027), (3421, 0.018179768182059977), (3059, 0.018179191120311366), (4531, 0.018170276052027222), (3956, 0.018163348560781323), (3750, 0.018141840974337596), (344, 0.01813074841040013), (3124, 0.01813049521857466), (397, 0.018130419966144312), (3064, 0.018124763562993945), (328, 0.01812365472088649), (299, 0.01812116180200319), (1237, 0.01811298195555179), (1990, 0.018091142355519823), (2222, 0.018071592425413712), (680, 0.01806731973214876), (1334, 0.018067092454388402), (1384, 0.018042704614156378), (3271, 0.01803591012363838), (4234, 0.018021039666250595), (538, 0.018019932181638162), (501, 0.018017392782861737), (2770, 0.01801478669019166), (4746, 0.018009975465932845), (4022, 0.017997936040782942), (2778, 0.017993708152463504), (4182, 0.017981341023722806), (4063, 0.017970060618289672), (1891, 0.017957890893459044), (2684, 0.017954949313331088), (270, 0.017931410887464794), (2528, 0.01793073795979624), (3441, 0.017920678761857083), (3646, 0.01791598249640478), (4461, 0.017908138676483006), (376, 0.01790546923345731), (367, 0.017878964697882204), (2838, 0.017873492661654108), (4722, 0.017853002203391432), (4398, 0.01783622683397078), (2229, 0.017834296701639905), (197, 0.017833583759650096), (2649, 0.017819060792675024), (3487, 0.017818575130911972), (3383, 0.017817235617278313), (1190, 0.01781646003271621), (2870, 0.017815707516708627), (1205, 0.017785198306589808), (1589, 0.017772676948089178), (2514, 0.017767295167897643), (1261, 0.017764896362926077), (1673, 0.017763774721475722), (2369, 0.01776079668552627), (1416, 0.017756482633053385), (847, 0.017750599376931443), (2465, 0.01774641448347443), (2041, 0.01774280161400376), (4562, 0.017736011966463093), (2961, 0.01772711357571546), (205, 0.01772008969019397), (2295, 0.01771691537839804), (4681, 0.017714078901823582), (2989, 0.017714069509732), (3695, 0.017703791803492606), (3348, 0.017692817861689608), (3016, 0.017687883072575655), (947, 0.017682731653408893), (2710, 0.01767891991128002), (2775, 0.017677806223607144), (1483, 0.01767768996916418), (933, 0.017675857241942143), (1649, 0.01766330386450533), (390, 0.01764029041937337), (3947, 0.017634553600746384), (3611, 0.017632946998866937), (2740, 0.017628095455747398), (3562, 0.017623510194985384), (1989, 0.017617707195817418), (2856, 0.01760187279973212), (4395, 0.017595413226015), (885, 0.017593301405670576), (808, 0.017589368910662814), (3154, 0.017586155453823357), (4500, 0.017579205188776724), (1380, 0.01756004235115878), (4703, 0.017555269086516504), (1385, 0.017541161497321295), (118, 0.017541016337723737), (4205, 0.01753399017687435), (4685, 0.017532270546421397), (14, 0.0175303987459529), (457, 0.017526901785434274), (2924, 0.017522445032724866), (3049, 0.017514797199134954), (1401, 0.01751282939033716), (1370, 0.017495253149176705), (300, 0.01748393604360928), (3537, 0.01747937785082354), (2429, 0.017478336080466044), (4228, 0.017466442178264232), (454, 0.017443708714172064), (1057, 0.017442272920950113), (321, 0.01741420351111216), (2888, 0.017410933055417476), (1627, 0.017404454300026607), (2469, 0.017401938682744676), (2038, 0.01739750890586236), (2014, 0.017392591477970596), (2714, 0.017358112225158574), (126, 0.017353572719154633), (2339, 0.017321083621409515), (3743, 0.017310913608804608), (712, 0.017297742696321564), (4196, 0.017280898991670342), (3820, 0.017278339288773866), (3643, 0.017272752931809486), (738, 0.017268759444154992), (1642, 0.017266892325990917), (3942, 0.01726634926361414), (3932, 0.01726323015947185), (95, 0.01726229328359722), (4370, 0.017236576477248893), (1671, 0.017235176297365987), (540, 0.017231911677293182), (1286, 0.017228020153252765), (1982, 0.017225817421700724), (4451, 0.017221273425894343), (939, 0.01721625543092426), (973, 0.017216207142046882), (4394, 0.017215024543465688), (2379, 0.01720934571430552), (2768, 0.01719889427264365), (1106, 0.01719290957270122), (188, 0.01714750423363915), (1366, 0.01713601709266462), (4190, 0.01713045698936743), (4721, 0.01710565860837283), (1796, 0.017103949321433793), (194, 0.017102640822709167), (116, 0.017095642879322855), (3021, 0.017079062754921142), (4432, 0.017076832418474186), (1633, 0.017076432097629945), (2588, 0.017074709687097674), (112, 0.01707015151991292), (361, 0.017068790370616795), (3943, 0.017055075406885927), (3765, 0.01704508433565791), (2577, 0.01703803533430191), (2167, 0.017035933499833136), (2420, 0.017031198311557028), (2165, 0.01701871227992701), (3640, 0.01701741190044044), (3513, 0.01701613358135738), (3257, 0.017010681438177026), (2885, 0.01700165800723867), (2947, 0.01698978623180803), (1905, 0.016988702124441632), (2900, 0.01698803416074509), (1747, 0.0169729951607544), (1297, 0.01696508541402058), (914, 0.01694745715516835), (1984, 0.016939406048702487), (1599, 0.01693568146566382), (380, 0.016920421813416988), (3085, 0.016908742499103634), (2634, 0.016908370971672342), (2176, 0.016898312018180914), (1856, 0.016896436521107294), (3119, 0.01688236549386243), (3859, 0.016879335759914838), (1327, 0.01686457890004496), (1967, 0.016859667127349407), (3594, 0.01685707709697299), (3292, 0.016851356764721177), (4563, 0.01684890386847179), (366, 0.016844758164626595), (2781, 0.01684261894835424), (4169, 0.016828046020652066), (3769, 0.016827686574571003), (2032, 0.016816895929193762), (1411, 0.016799987798062622), (2876, 0.016795658814323672), (1155, 0.016788288252269044), (2050, 0.016787659439159025), (3388, 0.01678065259011779), (3135, 0.01677177561784979), (2102, 0.016768935022189468), (931, 0.016763664906592916), (1455, 0.016760241449746582), (2299, 0.016759106015341845), (1775, 0.016709000984613667), (4058, 0.016705516404939207), (3861, 0.016699641937569076), (1993, 0.016695652504009378), (802, 0.01669165044975553), (3570, 0.016690896459122882), (1092, 0.016688254952023664), (284, 0.016686862541141458), (2046, 0.01668341345519778), (3268, 0.016669684961181205), (1683, 0.016658135989347643), (3068, 0.016652340993065833), (93, 0.016651349672438313), (2315, 0.01663417196170841), (3960, 0.016633089228180548), (525, 0.01663074576235821), (1637, 0.016619318517881097), (9, 0.01660930220869983), (142, 0.016607493470648303), (198, 0.016600309476608163), (1689, 0.016597255104960875), (3308, 0.016594880672833677), (2080, 0.016576059134590614), (4740, 0.01657342496411561), (2307, 0.016553945421953813), (4646, 0.016543420653374934), (4691, 0.016533800852364722), (770, 0.01651794330059317), (3595, 0.01650549129204016), (2470, 0.016505137076732762), (17, 0.016504996479237297), (2622, 0.016503773996062225), (2726, 0.016503345914464), (4008, 0.01648771394525622), (3026, 0.016468920624065454), (1230, 0.01646673336388549), (233, 0.016458171318751057), (2234, 0.01645167539868751), (2951, 0.016450147402167777), (2381, 0.01644725953243052), (4276, 0.01643611968799353), (2563, 0.01643116461064151), (4157, 0.016422117217431392), (1238, 0.016412266695845015), (4730, 0.01636818500195747), (2380, 0.016367133493760903), (3267, 0.016366504009115743), (3319, 0.016360741253024502), (871, 0.016354868655867834), (517, 0.016331820749393617), (812, 0.01633129363383378), (1034, 0.01631059690841741), (2227, 0.016307282925479206), (3631, 0.0163004843816998), (1047, 0.016279741186454384), (1141, 0.016244812561655757), (484, 0.01624444546352763), (2221, 0.016243251336127675), (1044, 0.01623586415830868), (3899, 0.016234839484575762), (2995, 0.016230731389370277), (351, 0.016230570496016027), (2911, 0.01622630766395314), (2793, 0.016221707447671683), (522, 0.016217219131975654), (904, 0.016216273625363303), (497, 0.01620553546320299), (1992, 0.016204606038274734), (3428, 0.016201082844189366), (180, 0.01619389804611199), (750, 0.016193845561290027), (791, 0.016191829251677173), (4420, 0.01617799695762683), (371, 0.01617434329384734), (2013, 0.01617395635247687), (2859, 0.01616752403422836), (4643, 0.01615624638496994), (2463, 0.016151046335179903), (2559, 0.016147174017131838), (2742, 0.016125435898125248), (3285, 0.01611607974467425), (2428, 0.016113909125434027), (3414, 0.016105639172739886), (2864, 0.016102527102930093), (1800, 0.0160997780733629), (1229, 0.016088793682551332), (1311, 0.016070582974906326), (1759, 0.016062053729419608), (3662, 0.016060593904553146), (1278, 0.01605748291556599), (4104, 0.01605628170980002), (227, 0.016052196750325296), (3296, 0.01605120973401203), (3975, 0.016045796370524314), (3014, 0.016042264740796425), (389, 0.016041052741055422), (890, 0.01603011875418943), (2603, 0.016025137751405818), (1959, 0.016022378051472986), (3511, 0.016000523821816354), (1577, 0.01599334740148197), (1541, 0.01598276619024556), (3667, 0.015952167622102036), (4573, 0.015941688662167663), (1568, 0.01593430217385532), (1586, 0.015925274535246142), (1112, 0.01589351076982867), (3832, 0.01587178683250385), (419, 0.015853212519244212), (2217, 0.01584203864580025), (2238, 0.015839573369411067), (3426, 0.015821264210393753), (926, 0.01580988406801585), (3073, 0.015801054604210735), (2412, 0.01578682240239411), (416, 0.015777552466505165), (12, 0.01576978026047226), (4570, 0.015767859977595812), (1736, 0.015763535142075336), (2456, 0.015759063733187008), (317, 0.015752800161776676), (828, 0.01574926652297288), (3518, 0.01574589691759941), (1453, 0.015744925898356913), (1625, 0.015735250943106842), (2831, 0.015731089766826533), (3190, 0.015716530496997057), (4073, 0.015713010356323654), (2597, 0.015706036780244067), (335, 0.015672200869098214), (3053, 0.01566094811056953), (1464, 0.015650139148826087), (4660, 0.01564886362290658), (761, 0.015640734518654578), (726, 0.015640274493945075), (4621, 0.015631314092167878), (1868, 0.015606385099116805), (2869, 0.015603180956856685), (1859, 0.015576065174338963), (2433, 0.015544878849211524), (3647, 0.015537556003225135), (3330, 0.015536069728097604), (469, 0.01553370114122764), (2356, 0.015529516746794543), (209, 0.015527514500332648), (2910, 0.015526520562973661), (215, 0.015523880492127815), (164, 0.015506957535182976), (3357, 0.015488861716533773), (1268, 0.015488063683063208), (579, 0.015480921713787097), (1825, 0.015474392819131372), (2664, 0.015466320731835173), (3411, 0.015418966373183832), (1572, 0.01541325680668694), (44, 0.015381358616900114), (2508, 0.015378236655919789), (1561, 0.015364638262613662), (1361, 0.015357259851658717), (1674, 0.01535612962474753), (82, 0.0153313721645842), (1916, 0.015307533150288485), (2378, 0.015290717151382319), (1603, 0.015272034635053451), (1544, 0.0152711635458372), (3293, 0.015268859784182028), (2703, 0.015257860816861354), (2033, 0.015251757024689819), (3813, 0.015226515568046314), (2350, 0.015208512261029752), (2765, 0.01520734594067037), (1791, 0.015204215293894858), (3587, 0.015189247571453535), (4565, 0.015186070500822992), (505, 0.015175393104457664), (4174, 0.015169003913284483), (1789, 0.015154335917870559), (3136, 0.015149625591194071), (716, 0.015141677001118431), (1899, 0.015141224234142358), (3645, 0.01513148608274881), (1847, 0.015124347048488652), (4733, 0.015103563462632214), (3543, 0.0151035318136221), (1, 0.015092969274781948), (4354, 0.015062007286098017), (3485, 0.015057257794120994), (3404, 0.015051123662554365), (1628, 0.0150464590986229), (1489, 0.015029906777379545), (2923, 0.01502268165542757), (941, 0.015022606406769196), (685, 0.015020245379657958), (4530, 0.015012207152410261), (4040, 0.015010361933331856), (1364, 0.014999607598581337), (2836, 0.014993824399102301), (1753, 0.014993338203801216), (2483, 0.014985135540911519), (2194, 0.01495505198658609), (2613, 0.014947399168035176), (4693, 0.014939058738346875), (4515, 0.014935271120999495), (3905, 0.01493408775087054), (1217, 0.014910237458549554), (3524, 0.014895671645933624), (3374, 0.014889163024465347), (4618, 0.014888708393034186), (3140, 0.014883506313959759), (2451, 0.014875312649351158), (3519, 0.01487121824718224), (3964, 0.014870704284881625), (3521, 0.014868857567071105), (3175, 0.014853414590884127), (1578, 0.014840243053915637), (3514, 0.014839594536488447), (2659, 0.014838101334377723), (1081, 0.014829555351623773), (52, 0.014828958685814152), (1685, 0.014816594255545639), (3674, 0.014804694449756994), (4739, 0.014800950507489676), (392, 0.01479451081908252), (1995, 0.014791411617742386), (1653, 0.01477543627542592), (3883, 0.014752341922534726), (2067, 0.014742283879401113), (2374, 0.014740310962865277), (3827, 0.014738395525272603), (740, 0.01472524033755195), (1711, 0.014710582719737318), (2663, 0.01468950278318059), (4736, 0.014687789967559395), (4030, 0.014681900235799267), (3063, 0.014665682241256578), (1833, 0.014649947304972624), (3651, 0.014632165901611843), (1395, 0.014628023013403374), (1387, 0.014627055791633783), (2590, 0.01461225465747927), (2631, 0.014601956356564631), (1500, 0.014595630806230801), (675, 0.014582108465326926), (67, 0.014574751483789537), (2596, 0.014573438072600642), (4203, 0.01455853081692418), (1202, 0.014528243899379158), (1184, 0.014527436673791664), (2334, 0.014496688497535954), (765, 0.014481712575355354), (2694, 0.01447388940734041), (749, 0.014461791657292028), (1839, 0.014460845320294907), (3918, 0.014446614801129814), (3239, 0.01444247218844423), (1016, 0.014428900170879234), (4723, 0.014427934037003742), (737, 0.014423066169953144), (533, 0.014422700868924518), (2154, 0.014403674348082878), (2655, 0.014403350871595094), (1461, 0.014399649424974221), (365, 0.014398000390355875), (3878, 0.01439405978152814), (688, 0.014378063392525578), (3251, 0.01437012568787744), (785, 0.014366089712938065), (3615, 0.014343383677077187), (242, 0.01433618348857595), (3178, 0.014324476113303182), (2122, 0.014309460622502204), (920, 0.014306208744076083), (2253, 0.014291415031843932), (3230, 0.014287266232380696), (4209, 0.0142868209363726), (1313, 0.014281239606976102), (2240, 0.014277681225860062), (1659, 0.014218964421287885), (1729, 0.014207272233542963), (1133, 0.01420445889927786), (967, 0.014203217686234166), (1980, 0.014192961313247808), (3245, 0.014188185202166022), (3650, 0.014184532084210165), (4201, 0.014171697627243147), (213, 0.014158013181453108), (1371, 0.014144309367537525), (3730, 0.014142338049898956), (1312, 0.014111740976321747), (3172, 0.014103378301750145), (3196, 0.014102139866562939), (3127, 0.014100016253468715), (4401, 0.014096560584997463), (1537, 0.014092386180460749), (1161, 0.014090075447299543), (4694, 0.014087508434670246), (4754, 0.01408514665322557), (2970, 0.01408412347539561), (2396, 0.014078531826622494), (2595, 0.014075016341224371), (1602, 0.0140719680106283), (3000, 0.014060769865708813), (3916, 0.014054358734667434), (1056, 0.014028655642708245), (1909, 0.01401020194482004), (3539, 0.014002463805168789), (2733, 0.013986850227140985), (4361, 0.013977776752683628), (4415, 0.013975620999037229), (3403, 0.013964687876542677), (3844, 0.01396457049996881), (1785, 0.013962618938672467), (2782, 0.013962192984534104), (4133, 0.013928691134474735), (3197, 0.013919151094210793), (1809, 0.013904209039156186), (3324, 0.013896436438522687), (2556, 0.013892276401843115), (3490, 0.01388902768072784), (3545, 0.013880691632203745), (667, 0.013880118046221754), (1606, 0.013859768173057094), (4199, 0.013833390117239882), (2257, 0.013820664232858056), (1116, 0.013818603174907754), (4514, 0.013808385818773153), (3688, 0.013804667368524707), (2632, 0.013803987724852085), (1970, 0.013795051822393633), (4567, 0.013791320359915543), (3410, 0.013790757558341579), (2248, 0.013782413433440496), (2348, 0.013765448157267518), (4117, 0.013765094922939307), (1716, 0.013758248796291691), (1949, 0.013740548113936858), (3865, 0.013735648829141581), (2968, 0.013715495249317913), (1893, 0.013692514750044847), (2390, 0.013688467190880526), (1892, 0.0136646400321753), (993, 0.013639278625504202), (1424, 0.013608264540028413), (177, 0.013591081315868342), (4349, 0.013582171462436197), (133, 0.01357923740099668), (2658, 0.01355635108729773), (190, 0.013541272866993113), (3327, 0.01353016159682689), (4752, 0.013521713762844513), (2905, 0.01352138665343842), (181, 0.013508075912223421), (535, 0.013494904901719798), (575, 0.013493397068336285), (4604, 0.01349339592771431), (356, 0.013482653532204967), (3549, 0.013472769642416829), (2225, 0.013470662571057869), (3408, 0.013466598081903524), (513, 0.013463127788496725), (1643, 0.013459390366631173), (3264, 0.013448584265041693), (1049, 0.013439493589390426), (4048, 0.013428366183923072), (3111, 0.013422769636324028), (1350, 0.01334828889179789), (2008, 0.013328946980601535), (3329, 0.013296105496507827), (1499, 0.013293765491856365), (670, 0.013287749187893551), (2637, 0.013256136640961905), (3951, 0.013255701762302473), (1960, 0.013250995296082672), (3727, 0.013248722662900395), (417, 0.013246308383582494), (768, 0.013235703687940945), (2667, 0.013227373877525832), (4491, 0.013226714751153624), (4173, 0.013205918960568882), (207, 0.013148280804911271), (1678, 0.013110680272562476), (320, 0.01310958916575541), (316, 0.013109063066802654), (1574, 0.01310251097278338), (3162, 0.013098545106949779), (3900, 0.013085398866344869), (1803, 0.01308176140376754), (2058, 0.013047200967879148), (3494, 0.013046817507873891), (1195, 0.013031708550358826), (2786, 0.013021250835901721), (4311, 0.013014967103669483), (3707, 0.01301257528286736), (2771, 0.012990875688169628), (576, 0.012986658106328656), (2304, 0.012984985864783569), (1130, 0.012963262939982923), (4026, 0.012955811497302102), (1996, 0.012936012535599058), (1979, 0.012926824065817044), (2687, 0.012910524453517126), (1999, 0.01286108347080064), (3836, 0.012856393076906307), (3167, 0.012854349588146515), (3911, 0.012839815810989925), (1444, 0.012831978772979716), (2515, 0.012793776965416786), (1039, 0.012790960057248425), (3575, 0.01278149717158537), (48, 0.012773045084090873), (1143, 0.012754355231585272), (4065, 0.01273984240232365), (1757, 0.0127314297876596), (4047, 0.01272882490301725), (4521, 0.012728079498620771), (2496, 0.01272569752242176), (2977, 0.012721721154801776), (385, 0.012705011139047146), (4139, 0.012695857933702367), (2310, 0.012695022382299196), (402, 0.012694390791947197), (1463, 0.012670281754615632), (571, 0.012666516383978397), (2138, 0.012662125421665064), (258, 0.012656751780122575), (2085, 0.012651744823477994), (2411, 0.012639559255214011), (3617, 0.012638299711802319), (311, 0.012633295046394653), (3095, 0.012624970916513678), (1367, 0.012598086471272819), (1325, 0.012595728360202747), (1319, 0.012579040510446587), (3359, 0.012575708287969913), (769, 0.012569877922658427), (8, 0.012567109000998583), (1955, 0.012552359740238102), (3529, 0.01253674849527939), (3250, 0.012515577738252797), (3791, 0.012471484163797947), (2558, 0.012464231683344528), (4542, 0.012440839201720106), (2589, 0.012425491994048521), (475, 0.012408906828298448), (733, 0.012377992901550604), (2950, 0.012374033399827645), (409, 0.012369045280976244), (1076, 0.012355223568332435), (4751, 0.012342546294406256), (524, 0.012336451101323573), (3945, 0.012335693025071103), (4532, 0.012291025244638997), (4720, 0.012266902644957034), (1782, 0.012253718810269855), (230, 0.01225007629650391), (1110, 0.012202779094090219), (1329, 0.012201309019885111), (3616, 0.012190782629600112), (3721, 0.01217895080996887), (1147, 0.012176667584604083), (1828, 0.012163370620798064), (567, 0.012151991735325706), (1583, 0.012142745965233234), (4076, 0.01213927679731874), (1055, 0.012135492320219429), (4492, 0.012130217147950918), (4254, 0.012127777630957962), (2164, 0.012126794121590092), (962, 0.012116981834252366), (1212, 0.012101998457511746), (4369, 0.012100585050499952), (4180, 0.012090642584536026), (3269, 0.012056779012696571), (4645, 0.012046007091784152), (127, 0.012042669767292371), (2449, 0.01204134911912354), (1156, 0.012032564364614445), (1756, 0.012029137150721236), (4204, 0.012026717063380118), (241, 0.01202062144301314), (2212, 0.012011663122699561), (4317, 0.01199952975252741), (3475, 0.011986487794861413), (4556, 0.01197530896183956), (104, 0.011974731287814708), (1479, 0.011950570174833152), (3583, 0.011945124657102577), (3716, 0.011935135955905772), (1768, 0.011933409744527161), (1794, 0.011931646032078485), (2952, 0.011915547918296987), (2133, 0.011872183345174968), (3835, 0.011857953133036506), (1596, 0.01185400711651496), (2872, 0.01182032800435399), (1360, 0.011800497029532113), (3895, 0.01177834343291071), (1185, 0.011738735516734048), (3188, 0.011720251847939737), (140, 0.011699346195065139), (4417, 0.011672121116235534), (1064, 0.01166890309560429), (1871, 0.011662619236776113), (1288, 0.01165731373994708), (1914, 0.011651203774826955), (3082, 0.011647208740735398), (1139, 0.011646798779979027), (4731, 0.011641678725802934), (1157, 0.011629900486445646), (3668, 0.011621085662349056), (1664, 0.011618543749047614), (3950, 0.01161841654722219), (4469, 0.011605445694614027), (4382, 0.011589765721301796), (4214, 0.01157507530723141), (2746, 0.011565069976552288), (3113, 0.011555890536247773), (4644, 0.011526698450349933), (2364, 0.011523773993958743), (3958, 0.011519306625662683), (1050, 0.011515668179716469), (2286, 0.01151353297601552), (432, 0.011507103000889286), (3425, 0.011490569532959061), (275, 0.011467257742496286), (3776, 0.01145406198140086), (3585, 0.011453464609390163), (2495, 0.01141973805317284), (3105, 0.011404127469690696), (4074, 0.011400426049754614), (4446, 0.01139605949562067), (4572, 0.011374636735426883), (3040, 0.01136421477558911), (132, 0.011360243973845805), (1208, 0.011327310627294243), (3627, 0.011292218680766136), (1741, 0.01127532884462561), (3971, 0.011242584799565134), (3335, 0.011201786494696246), (4759, 0.01119752373630302), (3262, 0.011144256851412532), (1631, 0.01114361356970578), (2769, 0.01114349317903618), (129, 0.011138227301177668), (1478, 0.011132530840282836), (3755, 0.011127265366729151), (4127, 0.01110627048316342), (4332, 0.011033701800671144), (3007, 0.011030833758093168), (420, 0.011026869055363112), (1429, 0.011001873946698045), (593, 0.010985244604769193), (495, 0.010985222167428062), (3864, 0.010982641969165815), (3934, 0.010953306385591721), (3890, 0.010925503383293976), (3052, 0.010924598642765558), (589, 0.010915666977053949), (1399, 0.010899828739463243), (3265, 0.010881932831675161), (3258, 0.01088114475343192), (1308, 0.010867035746243432), (3236, 0.010802977349209692), (4301, 0.010794248849726136), (1126, 0.010793978465624342), (159, 0.010756035368533885), (573, 0.010751571097956693), (4355, 0.010749250688697908), (2890, 0.010683422591892653), (2436, 0.010680102980886055), (2857, 0.010680036507137457), (3830, 0.01066653367516074), (3848, 0.010637764646619386), (2636, 0.010632383957977509), (1372, 0.010586710762195231), (982, 0.010577132395980108), (487, 0.010570667600235617), (3041, 0.010570200770568949), (1220, 0.010542303507037293), (315, 0.010523055887376946), (4023, 0.010488520723420873), (767, 0.010474633643628727), (4188, 0.01045850232068673), (4749, 0.010429730224037063), (1985, 0.010422667118271361), (3204, 0.010414172885802356), (1762, 0.010414130727334358), (4579, 0.01039329738610689), (1564, 0.010388158669914396), (1947, 0.010374502591299318), (3482, 0.010355354723853002), (60, 0.010340228630627907), (2059, 0.01033951017120144), (2811, 0.010319501802142965), (2256, 0.010312822706468078), (4184, 0.010305884199687728), (705, 0.010278343761499444), (3704, 0.010277686869090906), (4215, 0.010234077142592665), (1508, 0.010230259132188092), (1144, 0.01022840441335288), (2152, 0.010209390730713254), (3601, 0.010183213976936877), (3088, 0.010166660694783267), (4727, 0.010152986173977675), (1752, 0.010142190347697458), (4250, 0.010122637093989027), (1974, 0.010104407674326724), (482, 0.010099752527607156), (4407, 0.010082608076609196), (2183, 0.010079970326616694), (536, 0.010004997336441846), (3672, 0.00999744760227972), (1440, 0.009974340044062382), (4, 0.009965155091169225), (4726, 0.009957897460318643), (2207, 0.009957573829684763), (3600, 0.009935538529340667), (3644, 0.00991889880668059), (2448, 0.009907394653606887), (2210, 0.009845267587627441), (3858, 0.009833186253305912), (3728, 0.009831906079061606), (1826, 0.009824913557666837), (539, 0.009819674842628223), (1807, 0.009806281671515954), (4425, 0.009791785696200442), (2534, 0.009726005851545432), (2678, 0.009707134445776377), (2142, 0.009681232237699398), (1605, 0.009658829490598531), (786, 0.009652651356045724), (1276, 0.009642327490908374), (3748, 0.009613607223029275), (3560, 0.009606019799152503), (2696, 0.009588960492755802), (238, 0.009571090284612383), (3540, 0.009525179578768913), (2821, 0.00946850504267168), (2305, 0.009467235552859958), (910, 0.009463546981863288), (1030, 0.009405198864980863), (4702, 0.009402114500906661), (3243, 0.00939907521556491), (1569, 0.009324478178764983), (2462, 0.009309408124233844), (4617, 0.009281174275026395), (1477, 0.009261854899559772), (4151, 0.009260013165503638), (951, 0.00918358684597071), (69, 0.009169230276645382), (4427, 0.009159792059030657), (1883, 0.009115193687183339), (2727, 0.009112008197360967), (743, 0.009103764478018162), (4426, 0.009100836989248627), (3084, 0.009096203486975336), (4315, 0.009060732805768282), (3936, 0.009052760788974937), (1236, 0.00904910332416992), (2748, 0.009015643269820564), (4520, 0.008971156362142813), (1203, 0.008932941408832901), (3863, 0.008926346885039155), (972, 0.008862817609087033), (718, 0.008825976647665715), (2323, 0.008798948930368183), (2468, 0.00876545728201214), (2472, 0.008732719544266918), (2926, 0.008715628591174111), (3009, 0.008662799480389267), (3874, 0.008639426802203275), (1115, 0.008635739256105338), (4753, 0.008603488278951145), (3350, 0.008599051889569845), (4708, 0.008598438025716358), (2949, 0.008596386997808984), (2858, 0.008579007622518018), (240, 0.008562696475642357), (1669, 0.008546792513297556), (3473, 0.008542232635867439), (816, 0.008534433781014757), (4221, 0.008467646838406999), (1054, 0.008429936163181644), (2452, 0.008420136119216144), (2343, 0.00840275563314909), (1745, 0.00840017450851912), (2982, 0.008397917492453626), (4700, 0.008340116537771496), (4648, 0.00833808991189844), (949, 0.008327801606073928), (3125, 0.008263219990447258), (4650, 0.008256345487559592), (736, 0.008232337585701147), (4580, 0.008164045913348905), (4687, 0.008132854028455861), (1462, 0.008127309539971723), (2948, 0.008126265303324104), (610, 0.00812577944633992), (3896, 0.008111957495513404), (1298, 0.008045168578582972), (3103, 0.008044571239903462), (2542, 0.008011654955882443), (2157, 0.007997386992386666), (2760, 0.00799201142117623), (1724, 0.0079867824551389), (3077, 0.00796157894367254), (1514, 0.007906260538441717), (3866, 0.007892618320255713), (3754, 0.00789130979846525), (4657, 0.007712618887855066), (2281, 0.0077005928201004286), (3753, 0.0076707913552869775), (318, 0.007663979260180298), (784, 0.007645917484293653), (4631, 0.007598727561408275), (3199, 0.007585673458404729), (901, 0.007539438508858208), (3034, 0.007458544684137176), (1958, 0.007411134608917117), (2441, 0.007337225185372882), (1973, 0.007323204292659916), (1813, 0.007303608498626212), (2458, 0.007301413429302712), (65, 0.007287772615636626), (3796, 0.007119801579481178), (3354, 0.00710343167803777), (393, 0.007094670198654809), (2967, 0.0070032924216726945), (431, 0.006840071050293582), (1449, 0.006720471423307735), (2569, 0.006706049792978556), (4222, 0.006691523987463653), (721, 0.006657032353509609), (4696, 0.00656069282830173), (4019, 0.006556749976518899), (3558, 0.00647333152971872), (4755, 0.0064621694167523915), (1885, 0.006398559139545729), (2002, 0.006279105067202629), (1187, 0.006250448882510791), (4728, 0.006240543051712995), (2606, 0.0062315582082373405), (1338, 0.006218871189136114), (998, 0.006154713802238367), (4197, 0.006110986648473364), (4688, 0.006110806166315941), (4424, 0.006105517616075163), (3855, 0.006089234271903645), (4316, 0.0060569692175093766), (3800, 0.00598882850744463), (2787, 0.0058174298358986895), (3887, 0.005690454067982566), (3669, 0.00560268845017998), (2943, 0.0055980824859190054), (3128, 0.005539835583725932), (3712, 0.0054829304916223015), (2282, 0.00545552930190135), (759, 0.005361129278375639), (3680, 0.0053606326443360885), (3422, 0.00534788935117588), (3630, 0.005341758700798859), (3638, 0.005249553084320472), (3072, 0.0052310140977659125), (4284, 0.005208363409296096), (2186, 0.004948259700718757), (2645, 0.004941916427067033), (4126, 0.0048394666774246795), (3345, 0.00483750656891809), (4710, 0.0047726045082538), (2628, 0.004588438206448402), (4578, 0.004533644977605271), (4729, 0.004498052205254454), (4544, 0.004249802564888347), (3561, 0.004249191061808593), (3544, 0.004137984670894299), (4711, 0.004100205804636109), (71, 0.004082752663495778), (3241, 0.004058450007192972), (776, 0.004053458846542592), (3770, 0.003968826995842981), (3062, 0.00395628608617851), (2987, 0.0038805020253613065), (4251, 0.003537317322936306), (3714, 0.003511324496523452), (3988, 0.0034734663461374045), (3577, 0.003282651233850919), (4724, 0.0031249196143222353), (4571, 0.002888186907344967), (2709, 0.0028027005767223222), (3528, 0.002492516097068351), (4671, 0.0023142883181886766), (3501, 0.0022296306340994715), (2407, 0.0022047775523827678), (3530, 0.0020785256922447137), (3510, 0.0010592783486841385), (3025, 0.000959759942022932), (4131, 0.0008921187764795156), (2328, 0.0008171747635148736), (2471, 0.0008068583808012074), (2806, 0.0), (3248, 0.0), (3323, 0.0), (3676, 0.0), (4111, 0.0), (4260, 0.0), (4561, 0.0)]\n"
          ]
        }
      ]
    },
    {
      "cell_type": "code",
      "source": [
        "print ('Top 30 Movies Suggested for you : \\n')\n",
        "\n",
        "i=1\n",
        "\n",
        "for movie in sorted_similar_movies:\n",
        "  index = movie[0]\n",
        "  title_from_index = df[df.index==index]['Movie_Title'].values[0]\n",
        "  if (i<31):\n",
        "    print(i, '.',title_from_index)\n",
        "    i+=1"
      ],
      "metadata": {
        "colab": {
          "base_uri": "https://localhost:8080/"
        },
        "id": "HA4lfEhu6uqS",
        "outputId": "f85090fd-b5cf-47e4-ebe9-2f5b0c112b5e"
      },
      "execution_count": 37,
      "outputs": [
        {
          "output_type": "stream",
          "name": "stdout",
          "text": [
            "Top 30 Movies Suggested for you : \n",
            "\n",
            "1 . Hostel: Part II\n",
            "2 . Hostel\n",
            "3 . Gods and Monsters\n",
            "4 . Saw IV\n",
            "5 . Alexander's Ragtime Band\n",
            "6 . The Prince & Me\n",
            "7 . The Watch\n",
            "8 . Abduction\n",
            "9 . Shattered Glass\n",
            "10 . Bully\n",
            "11 . Nurse 3-D\n",
            "12 . The Giver\n",
            "13 . Lakeview Terrace\n",
            "14 . The Cave\n",
            "15 . Repo! The Genetic Opera\n",
            "16 . The Covenant\n",
            "17 . For Colored Girls\n",
            "18 . The Homesman\n",
            "19 . The Land Girls\n",
            "20 . The Forsaken\n",
            "21 . Saw II\n",
            "22 . Saw\n",
            "23 . Saw III\n",
            "24 . Country Strong\n",
            "25 . This Christmas\n",
            "26 . My Life in Ruins\n",
            "27 . Ultraviolet\n",
            "28 . Poseidon\n",
            "29 . Say It Isn't So\n",
            "30 . Carriers\n"
          ]
        }
      ]
    },
    {
      "cell_type": "markdown",
      "source": [
        "### **Top 10 Movie Recommendation System**"
      ],
      "metadata": {
        "id": "yyiPotL2KGFn"
      }
    },
    {
      "cell_type": "code",
      "source": [
        "movie_name = input(' Enter your favourite movie name : ')\n",
        "\n",
        "list_of_all_titles = df['Movie_Title'].tolist()\n",
        "\n",
        "find_close_match = difflib.get_close_matches(movie_name, list_of_all_titles)\n",
        "\n",
        "close_match = find_close_match[0]\n",
        "\n",
        "index_of_the_movie = df[df.Movie_Title == close_match]['Movie_ID'].values[0]\n",
        "\n",
        "recommendation_score = list(enumerate(Similarity_Score[index_of_the_movie]))\n",
        "\n",
        "sorted_similar_movies = sorted(recommendation_score, key = lambda x:x[1], reverse = True)\n",
        "\n",
        "print ('Top 10 Movies Suggested for you : \\n')\n",
        "\n",
        "i=1\n",
        "\n",
        "for movie in sorted_similar_movies:\n",
        " index = movie[0]\n",
        " title_from_index = df[df.Movie_ID==index]['Movie_Title'].values\n",
        " if (i<11):\n",
        "   print(i, '.',title_from_index)\n",
        "   i+=1"
      ],
      "metadata": {
        "colab": {
          "base_uri": "https://localhost:8080/"
        },
        "id": "2PNfXGVS6utR",
        "outputId": "9068201e-d18d-4243-ab6d-262ce501c00c"
      },
      "execution_count": 38,
      "outputs": [
        {
          "output_type": "stream",
          "name": "stdout",
          "text": [
            " Enter your favourite movie name : Hostel\n",
            "Top 10 Movies Suggested for you : \n",
            "\n",
            "1 . ['Hostel']\n",
            "2 . ['Conquest of the Planet of the Apes']\n",
            "3 . ['Jekyll and Hyde ... Together Again']\n",
            "4 . ['Thunderball']\n",
            "5 . ['The Living Wake']\n",
            "6 . ['Confessions of a Teenage Drama Queen']\n",
            "7 . ['The Lovers']\n",
            "8 . ['The Inkwell']\n",
            "9 . ['City By The Sea']\n",
            "10 . ['Menace II Society']\n"
          ]
        }
      ]
    }
  ]
}